{
 "metadata": {
  "language_info": {
   "codemirror_mode": {
    "name": "ipython",
    "version": 3
   },
   "file_extension": ".py",
   "mimetype": "text/x-python",
   "name": "python",
   "nbconvert_exporter": "python",
   "pygments_lexer": "ipython3",
   "version": "3.7.7-final"
  },
  "orig_nbformat": 2,
  "kernelspec": {
   "name": "python3",
   "display_name": "Python 3",
   "language": "python"
  }
 },
 "nbformat": 4,
 "nbformat_minor": 2,
 "cells": [
  {
   "source": [
    "# Auto.Ru cars dataset download"
   ],
   "cell_type": "markdown",
   "metadata": {}
  },
  {
   "source": [
    "### Imports"
   ],
   "cell_type": "markdown",
   "metadata": {}
  },
  {
   "cell_type": "code",
   "execution_count": 632,
   "metadata": {},
   "outputs": [],
   "source": [
    "import requests\n",
    "import numpy as np\n",
    "import json\n",
    "import sys\n",
    "import pandas as pd\n",
    "from joblib import Parallel, delayed\n",
    "import os\n",
    "import matplotlib.pyplot as plt"
   ]
  },
  {
   "source": [
    "### Auto.ru API params\n",
    "\n",
    "Setting URL to the endpoint which loads paginated search results as jsons as discovered via browser inspector. Also setting required headers taken from browser as well, the once which are required based on some experiments"
   ],
   "cell_type": "markdown",
   "metadata": {}
  },
  {
   "cell_type": "code",
   "execution_count": 5,
   "metadata": {},
   "outputs": [],
   "source": [
    "url = \"https://auto.ru/-/ajax/desktop/listing/\"\n",
    "\n",
    "headers = {\n",
    "'Connection': 'keep-alive',\n",
    "'Content-Length': '1',\n",
    "'x-csrf-token': 'c98536558d3b1951376b9da7762f4aa6a07b03e799a80859',\n",
    "'Accept-Language': 'ru-RU,ru;q=0.8,en-US;q=0.5,en;q=0.3',\n",
    "'User-Agent': 'Mozilla/5.0 (Macintosh; Intel Mac OS X 10_15_5) AppleWebKit/537.36 (KHTML, like Gecko) Chrome/87.0.4280.88 Safari/537.36',\n",
    "'x-requested-with': 'fetch',\n",
    "'content-type': 'application/json',\n",
    "'Accept': '*/*',\n",
    "'Host': 'auto.ru',\n",
    "'Origin': 'https://auto.ru',\n",
    "'Accept-Encoding': 'gzip, deflate, br',\n",
    "'Cookie': r'_csrf_token=c98536558d3b1951376b9da7762f4aa6a07b03e799a80859; autoru_sid=a%3Ag5fde972324r8cvbn65cjs0o2gak57nm.33d19a71ef65ff0f18bd8a60777af61c%7C1608423203006.604800._CEkgolzgDOJn4kSX3ygCw.Z_CMhu73aFFSrU-_lMpGAjP2nwIwS3ORVfs7sAHCM-M; autoruuid=g5fde972324r8cvbn65cjs0o2gak57nm.33d19a71ef65ff0f18bd8a60777af61c; autoru_gdpr=1; suid=0749c08d7b9e67ca8fff5c04b3bffc07.a28756f85b914739d4ab62a9335e4277; _ym_uid=1608423223417990283; _ym_isad=1; counter_ga_all7=1; yuidcs=1; X-Vertis-DC=vla; crookie=FAg4qIqk1uMFe+4CIyJBDF5aPZkPG46sBhJDrIcd2Skwhuo4D7KMff4LVo/uV7niX/3yvw8gIwgkEMY60PvOyCv5nZo=; cmtchd=MTYwODQ5MDM3OTcwOA==; bltsr=1; yuidlt=1; yandexuid=2881675521554773016; _ga=GA1.2.1970608416.1608490405; _gid=GA1.2.1256766708.1608490405; gdpr_popup=1; from=direct; listing_view_session={}; listing_view=%7B%22version%22%3A1%7D; _gat=1; popup_new_user=new; proven_owner_popup=1; from_lifetime=1608493411784; _ym_d=1608493413'\n",
    "}"
   ]
  },
  {
   "source": [
    "### Test the endpoint with some payload"
   ],
   "cell_type": "markdown",
   "metadata": {}
  },
  {
   "cell_type": "code",
   "execution_count": 168,
   "metadata": {},
   "outputs": [],
   "source": [
    "payload = {\"price_from\":0,\"price_to\":100000,\"category\": \"cars\", \"section\": \"all\", \"output_type\": \"list\", \"page\": 1,\"page_size\":100, \"geo_radius\": 200, \"geo_id\": [213]}"
   ]
  },
  {
   "cell_type": "code",
   "execution_count": 176,
   "metadata": {},
   "outputs": [],
   "source": [
    "s = requests.Session()\n",
    "r = s.post(url, json = payload, headers = headers)"
   ]
  },
  {
   "cell_type": "code",
   "execution_count": 180,
   "metadata": {},
   "outputs": [
    {
     "output_type": "execute_result",
     "data": {
      "text/plain": [
       "dict_keys(['status', 'search_parameters', 'hiddenOffers', 'offers', 'pagination', 'price_range', 'response_flags', 'grouping', 'search_id', 'request_id', 'query', 'paramsDescription', 'output_type', 'from_guru', 'trucksCount', 'new4newCount', 'groupedModelsCount', 'carsWithAutoruExpertCount'])"
      ]
     },
     "metadata": {},
     "execution_count": 180
    }
   ],
   "source": [
    "results = r.json().keys()\n",
    "results"
   ]
  },
  {
   "source": [
    "### Defining download strategy\n",
    "\n",
    "After experiments it was discovered that maximum page size is 100 and auto.ru does not return more than 99 pages for any search criteria, even though total number of results can be greater. In our case it is 87k records for default filters (which will work for test dataset). So we need an additional dimension for defining download chunks. \n",
    "\n",
    "Intuitivelly and then experimentally the most even results distribution was received when chunked by price ranges. "
   ],
   "cell_type": "markdown",
   "metadata": {}
  },
  {
   "cell_type": "code",
   "execution_count": 156,
   "metadata": {},
   "outputs": [],
   "source": [
    "template_payload = {\"price_from\":500000000,\"price_to\":1000000000,\"category\": \"cars\", \"section\": \"all\", \"output_type\": \"list\", \"page\": 1,\"page_size\":100, \"geo_radius\": 200, \"geo_id\": [213]}"
   ]
  },
  {
   "cell_type": "code",
   "execution_count": 157,
   "metadata": {},
   "outputs": [],
   "source": [
    "def ranges(low, top, step):\n",
    "    return [(i+1, i+step) for i in range(low,top,step)]\n",
    "\n",
    "def payload_by_params(price_range, page):\n",
    "    payload = template_payload.copy()\n",
    "    payload['price_from'] = price_range[0]\n",
    "    payload['price_to'] = price_range[1]\n",
    "    payload['page'] = page\n",
    "    return payload"
   ]
  },
  {
   "source": [
    "The greater price is, less results it returns. We need to ensure that for any range it will not be more than 100 results x 99 pages. Experimentally we can do 100k wide ranges for prices up to 1.5M, 500k for prices up to 10M, e t.c, i.e. increase range size with higher prices"
   ],
   "cell_type": "markdown",
   "metadata": {}
  },
  {
   "cell_type": "code",
   "execution_count": 158,
   "metadata": {},
   "outputs": [],
   "source": [
    "price_ranges = ranges(0,1500000, 100000) + \\\n",
    "    ranges(1500000,10000000, 500000) + \\\n",
    "    ranges(10000000,100000000, 10000000) + \\\n",
    "    ranges(100000000,500000000, 100000000) "
   ]
  },
  {
   "cell_type": "code",
   "execution_count": 160,
   "metadata": {},
   "outputs": [
    {
     "output_type": "execute_result",
     "data": {
      "text/plain": [
       "{'price_from': 20000001,\n",
       " 'price_to': 30000000,\n",
       " 'category': 'cars',\n",
       " 'section': 'all',\n",
       " 'output_type': 'list',\n",
       " 'page': 32,\n",
       " 'page_size': 100,\n",
       " 'geo_radius': 200,\n",
       " 'geo_id': [213]}"
      ]
     },
     "metadata": {},
     "execution_count": 160
    }
   ],
   "source": [
    "payload_by_params(price_ranges[33], 32)"
   ]
  },
  {
   "source": [
    "We will set default limits for each price range and update them with actual values dynamically as ƒirst pages are loaded and the total pages are known"
   ],
   "cell_type": "markdown",
   "metadata": {}
  },
  {
   "cell_type": "code",
   "execution_count": 197,
   "metadata": {},
   "outputs": [],
   "source": [
    "range_pages_limits = {}\n",
    "for r in price_ranges:\n",
    "    range_pages_limits[r] = 99"
   ]
  },
  {
   "cell_type": "code",
   "execution_count": 198,
   "metadata": {},
   "outputs": [],
   "source": [
    "\n",
    "def check_page_in_limit(price_range, page):\n",
    "    return page <= range_pages_limits[price_range]\n",
    "\n",
    "def update_page_limit(price_range, actual_limit):\n",
    "    range_pages_limits[price_range] = actual_limit"
   ]
  },
  {
   "source": [
    "Chunk loading function which downloads a given range of pages of a specific price range and saves json to file as is"
   ],
   "cell_type": "markdown",
   "metadata": {}
  },
  {
   "cell_type": "code",
   "execution_count": 257,
   "metadata": {},
   "outputs": [],
   "source": [
    "\n",
    "def load_and_save_chunk(session, price_range, page_range):    \n",
    "    offers_to_save = []\n",
    "    page_from = page_range[0]\n",
    "    page_to = page_range[1]\n",
    "    limit = page_range[1]\n",
    "    for page in range(page_from, page_to+1):        \n",
    "        if not check_page_in_limit(price_range, page):\n",
    "            page_to = page-1\n",
    "            break\n",
    "        pl = payload_by_params(price_range, page)\n",
    "        r = s.post(url, json = pl, headers = headers)\n",
    "        if r.status_code != 200:\n",
    "            print(f\"Error status code {r.status_code} for page {page} in {price_range}\")\n",
    "            page_to = page-1\n",
    "            break\n",
    "        data = r.json()\n",
    "        if 'error' in data.keys():\n",
    "            print(f\"Error {data['error']} while processing page {page}\")\n",
    "            page_to = page - 1\n",
    "            break        \n",
    "        limit = data['pagination']['total_page_count']\n",
    "        if limit<page_to:\n",
    "            page_to = limit\n",
    "        update_page_limit(price_range, limit)\n",
    "        offers_to_save += data['offers']        \n",
    "    file_name = f'./output/prices_{price_range[0]}_{price_range[1]}_pages_{page_from}_{page_to}.json'\n",
    "    with open(file_name, 'w') as file:\n",
    "        json.dump(offers_to_save, file)\n"
   ]
  },
  {
   "cell_type": "code",
   "execution_count": 258,
   "metadata": {},
   "outputs": [],
   "source": [
    "load_and_save_chunk(s, (1,100000), (41, 50))"
   ]
  },
  {
   "source": [
    "Add some parallelization (it's cold in my appartment and I wanted to warm my laptop up a little bit with more cores involved)"
   ],
   "cell_type": "markdown",
   "metadata": {}
  },
  {
   "cell_type": "code",
   "execution_count": 240,
   "metadata": {},
   "outputs": [],
   "source": [
    "parallel_ranges = []\n",
    "for price_range in price_ranges:\n",
    "    for page_range in [(i,i+9) for i in range(1,100,10)]:\n",
    "        parallel_ranges.append((price_range, page_range))"
   ]
  },
  {
   "cell_type": "code",
   "execution_count": 242,
   "metadata": {},
   "outputs": [
    {
     "output_type": "error",
     "ename": "KeyError",
     "evalue": "'pagination'",
     "traceback": [
      "\u001b[0;31m---------------------------------------------------------------------------\u001b[0m",
      "\u001b[0;31m_RemoteTraceback\u001b[0m                          Traceback (most recent call last)",
      "\u001b[0;31m_RemoteTraceback\u001b[0m: \n\"\"\"\nTraceback (most recent call last):\n  File \"/opt/anaconda3/lib/python3.7/site-packages/joblib/externals/loky/process_executor.py\", line 431, in _process_worker\n    r = call_item()\n  File \"/opt/anaconda3/lib/python3.7/site-packages/joblib/externals/loky/process_executor.py\", line 285, in __call__\n    return self.fn(*self.args, **self.kwargs)\n  File \"/opt/anaconda3/lib/python3.7/site-packages/joblib/_parallel_backends.py\", line 595, in __call__\n    return self.func(*args, **kwargs)\n  File \"/opt/anaconda3/lib/python3.7/site-packages/joblib/parallel.py\", line 263, in __call__\n    for func, args, kwargs in self.items]\n  File \"/opt/anaconda3/lib/python3.7/site-packages/joblib/parallel.py\", line 263, in <listcomp>\n    for func, args, kwargs in self.items]\n  File \"<ipython-input-238-8a8e4cf7b6d3>\", line 21, in load_and_save_chunk\nKeyError: 'pagination'\n\"\"\"",
      "\nThe above exception was the direct cause of the following exception:\n",
      "\u001b[0;31mKeyError\u001b[0m                                  Traceback (most recent call last)",
      "\u001b[0;32m<ipython-input-242-303be4b3080c>\u001b[0m in \u001b[0;36m<module>\u001b[0;34m\u001b[0m\n\u001b[0;32m----> 1\u001b[0;31m \u001b[0mParallel\u001b[0m\u001b[0;34m(\u001b[0m\u001b[0mn_jobs\u001b[0m\u001b[0;34m=\u001b[0m\u001b[0;36m4\u001b[0m\u001b[0;34m)\u001b[0m\u001b[0;34m(\u001b[0m\u001b[0mdelayed\u001b[0m\u001b[0;34m(\u001b[0m\u001b[0mload_and_save_chunk\u001b[0m\u001b[0;34m)\u001b[0m\u001b[0;34m(\u001b[0m\u001b[0ms\u001b[0m\u001b[0;34m,\u001b[0m \u001b[0mr\u001b[0m\u001b[0;34m[\u001b[0m\u001b[0;36m0\u001b[0m\u001b[0;34m]\u001b[0m\u001b[0;34m,\u001b[0m \u001b[0mr\u001b[0m\u001b[0;34m[\u001b[0m\u001b[0;36m1\u001b[0m\u001b[0;34m]\u001b[0m\u001b[0;34m)\u001b[0m \u001b[0;32mfor\u001b[0m \u001b[0mr\u001b[0m \u001b[0;32min\u001b[0m \u001b[0mparallel_ranges\u001b[0m\u001b[0;34m)\u001b[0m\u001b[0;34m\u001b[0m\u001b[0;34m\u001b[0m\u001b[0m\n\u001b[0m",
      "\u001b[0;32m/opt/anaconda3/lib/python3.7/site-packages/joblib/parallel.py\u001b[0m in \u001b[0;36m__call__\u001b[0;34m(self, iterable)\u001b[0m\n\u001b[1;32m   1059\u001b[0m \u001b[0;34m\u001b[0m\u001b[0m\n\u001b[1;32m   1060\u001b[0m             \u001b[0;32mwith\u001b[0m \u001b[0mself\u001b[0m\u001b[0;34m.\u001b[0m\u001b[0m_backend\u001b[0m\u001b[0;34m.\u001b[0m\u001b[0mretrieval_context\u001b[0m\u001b[0;34m(\u001b[0m\u001b[0;34m)\u001b[0m\u001b[0;34m:\u001b[0m\u001b[0;34m\u001b[0m\u001b[0;34m\u001b[0m\u001b[0m\n\u001b[0;32m-> 1061\u001b[0;31m                 \u001b[0mself\u001b[0m\u001b[0;34m.\u001b[0m\u001b[0mretrieve\u001b[0m\u001b[0;34m(\u001b[0m\u001b[0;34m)\u001b[0m\u001b[0;34m\u001b[0m\u001b[0;34m\u001b[0m\u001b[0m\n\u001b[0m\u001b[1;32m   1062\u001b[0m             \u001b[0;31m# Make sure that we get a last message telling us we are done\u001b[0m\u001b[0;34m\u001b[0m\u001b[0;34m\u001b[0m\u001b[0;34m\u001b[0m\u001b[0m\n\u001b[1;32m   1063\u001b[0m             \u001b[0melapsed_time\u001b[0m \u001b[0;34m=\u001b[0m \u001b[0mtime\u001b[0m\u001b[0;34m.\u001b[0m\u001b[0mtime\u001b[0m\u001b[0;34m(\u001b[0m\u001b[0;34m)\u001b[0m \u001b[0;34m-\u001b[0m \u001b[0mself\u001b[0m\u001b[0;34m.\u001b[0m\u001b[0m_start_time\u001b[0m\u001b[0;34m\u001b[0m\u001b[0;34m\u001b[0m\u001b[0m\n",
      "\u001b[0;32m/opt/anaconda3/lib/python3.7/site-packages/joblib/parallel.py\u001b[0m in \u001b[0;36mretrieve\u001b[0;34m(self)\u001b[0m\n\u001b[1;32m    938\u001b[0m             \u001b[0;32mtry\u001b[0m\u001b[0;34m:\u001b[0m\u001b[0;34m\u001b[0m\u001b[0;34m\u001b[0m\u001b[0m\n\u001b[1;32m    939\u001b[0m                 \u001b[0;32mif\u001b[0m \u001b[0mgetattr\u001b[0m\u001b[0;34m(\u001b[0m\u001b[0mself\u001b[0m\u001b[0;34m.\u001b[0m\u001b[0m_backend\u001b[0m\u001b[0;34m,\u001b[0m \u001b[0;34m'supports_timeout'\u001b[0m\u001b[0;34m,\u001b[0m \u001b[0;32mFalse\u001b[0m\u001b[0;34m)\u001b[0m\u001b[0;34m:\u001b[0m\u001b[0;34m\u001b[0m\u001b[0;34m\u001b[0m\u001b[0m\n\u001b[0;32m--> 940\u001b[0;31m                     \u001b[0mself\u001b[0m\u001b[0;34m.\u001b[0m\u001b[0m_output\u001b[0m\u001b[0;34m.\u001b[0m\u001b[0mextend\u001b[0m\u001b[0;34m(\u001b[0m\u001b[0mjob\u001b[0m\u001b[0;34m.\u001b[0m\u001b[0mget\u001b[0m\u001b[0;34m(\u001b[0m\u001b[0mtimeout\u001b[0m\u001b[0;34m=\u001b[0m\u001b[0mself\u001b[0m\u001b[0;34m.\u001b[0m\u001b[0mtimeout\u001b[0m\u001b[0;34m)\u001b[0m\u001b[0;34m)\u001b[0m\u001b[0;34m\u001b[0m\u001b[0;34m\u001b[0m\u001b[0m\n\u001b[0m\u001b[1;32m    941\u001b[0m                 \u001b[0;32melse\u001b[0m\u001b[0;34m:\u001b[0m\u001b[0;34m\u001b[0m\u001b[0;34m\u001b[0m\u001b[0m\n\u001b[1;32m    942\u001b[0m                     \u001b[0mself\u001b[0m\u001b[0;34m.\u001b[0m\u001b[0m_output\u001b[0m\u001b[0;34m.\u001b[0m\u001b[0mextend\u001b[0m\u001b[0;34m(\u001b[0m\u001b[0mjob\u001b[0m\u001b[0;34m.\u001b[0m\u001b[0mget\u001b[0m\u001b[0;34m(\u001b[0m\u001b[0;34m)\u001b[0m\u001b[0;34m)\u001b[0m\u001b[0;34m\u001b[0m\u001b[0;34m\u001b[0m\u001b[0m\n",
      "\u001b[0;32m/opt/anaconda3/lib/python3.7/site-packages/joblib/_parallel_backends.py\u001b[0m in \u001b[0;36mwrap_future_result\u001b[0;34m(future, timeout)\u001b[0m\n\u001b[1;32m    540\u001b[0m         AsyncResults.get from multiprocessing.\"\"\"\n\u001b[1;32m    541\u001b[0m         \u001b[0;32mtry\u001b[0m\u001b[0;34m:\u001b[0m\u001b[0;34m\u001b[0m\u001b[0;34m\u001b[0m\u001b[0m\n\u001b[0;32m--> 542\u001b[0;31m             \u001b[0;32mreturn\u001b[0m \u001b[0mfuture\u001b[0m\u001b[0;34m.\u001b[0m\u001b[0mresult\u001b[0m\u001b[0;34m(\u001b[0m\u001b[0mtimeout\u001b[0m\u001b[0;34m=\u001b[0m\u001b[0mtimeout\u001b[0m\u001b[0;34m)\u001b[0m\u001b[0;34m\u001b[0m\u001b[0;34m\u001b[0m\u001b[0m\n\u001b[0m\u001b[1;32m    543\u001b[0m         \u001b[0;32mexcept\u001b[0m \u001b[0mCfTimeoutError\u001b[0m \u001b[0;32mas\u001b[0m \u001b[0me\u001b[0m\u001b[0;34m:\u001b[0m\u001b[0;34m\u001b[0m\u001b[0;34m\u001b[0m\u001b[0m\n\u001b[1;32m    544\u001b[0m             \u001b[0;32mraise\u001b[0m \u001b[0mTimeoutError\u001b[0m \u001b[0;32mfrom\u001b[0m \u001b[0me\u001b[0m\u001b[0;34m\u001b[0m\u001b[0;34m\u001b[0m\u001b[0m\n",
      "\u001b[0;32m/opt/anaconda3/lib/python3.7/concurrent/futures/_base.py\u001b[0m in \u001b[0;36mresult\u001b[0;34m(self, timeout)\u001b[0m\n\u001b[1;32m    426\u001b[0m                 \u001b[0;32mraise\u001b[0m \u001b[0mCancelledError\u001b[0m\u001b[0;34m(\u001b[0m\u001b[0;34m)\u001b[0m\u001b[0;34m\u001b[0m\u001b[0;34m\u001b[0m\u001b[0m\n\u001b[1;32m    427\u001b[0m             \u001b[0;32melif\u001b[0m \u001b[0mself\u001b[0m\u001b[0;34m.\u001b[0m\u001b[0m_state\u001b[0m \u001b[0;34m==\u001b[0m \u001b[0mFINISHED\u001b[0m\u001b[0;34m:\u001b[0m\u001b[0;34m\u001b[0m\u001b[0;34m\u001b[0m\u001b[0m\n\u001b[0;32m--> 428\u001b[0;31m                 \u001b[0;32mreturn\u001b[0m \u001b[0mself\u001b[0m\u001b[0;34m.\u001b[0m\u001b[0m__get_result\u001b[0m\u001b[0;34m(\u001b[0m\u001b[0;34m)\u001b[0m\u001b[0;34m\u001b[0m\u001b[0;34m\u001b[0m\u001b[0m\n\u001b[0m\u001b[1;32m    429\u001b[0m \u001b[0;34m\u001b[0m\u001b[0m\n\u001b[1;32m    430\u001b[0m             \u001b[0mself\u001b[0m\u001b[0;34m.\u001b[0m\u001b[0m_condition\u001b[0m\u001b[0;34m.\u001b[0m\u001b[0mwait\u001b[0m\u001b[0;34m(\u001b[0m\u001b[0mtimeout\u001b[0m\u001b[0;34m)\u001b[0m\u001b[0;34m\u001b[0m\u001b[0;34m\u001b[0m\u001b[0m\n",
      "\u001b[0;32m/opt/anaconda3/lib/python3.7/concurrent/futures/_base.py\u001b[0m in \u001b[0;36m__get_result\u001b[0;34m(self)\u001b[0m\n\u001b[1;32m    382\u001b[0m     \u001b[0;32mdef\u001b[0m \u001b[0m__get_result\u001b[0m\u001b[0;34m(\u001b[0m\u001b[0mself\u001b[0m\u001b[0;34m)\u001b[0m\u001b[0;34m:\u001b[0m\u001b[0;34m\u001b[0m\u001b[0;34m\u001b[0m\u001b[0m\n\u001b[1;32m    383\u001b[0m         \u001b[0;32mif\u001b[0m \u001b[0mself\u001b[0m\u001b[0;34m.\u001b[0m\u001b[0m_exception\u001b[0m\u001b[0;34m:\u001b[0m\u001b[0;34m\u001b[0m\u001b[0;34m\u001b[0m\u001b[0m\n\u001b[0;32m--> 384\u001b[0;31m             \u001b[0;32mraise\u001b[0m \u001b[0mself\u001b[0m\u001b[0;34m.\u001b[0m\u001b[0m_exception\u001b[0m\u001b[0;34m\u001b[0m\u001b[0;34m\u001b[0m\u001b[0m\n\u001b[0m\u001b[1;32m    385\u001b[0m         \u001b[0;32melse\u001b[0m\u001b[0;34m:\u001b[0m\u001b[0;34m\u001b[0m\u001b[0;34m\u001b[0m\u001b[0m\n\u001b[1;32m    386\u001b[0m             \u001b[0;32mreturn\u001b[0m \u001b[0mself\u001b[0m\u001b[0;34m.\u001b[0m\u001b[0m_result\u001b[0m\u001b[0;34m\u001b[0m\u001b[0;34m\u001b[0m\u001b[0m\n",
      "\u001b[0;31mKeyError\u001b[0m: 'pagination'"
     ]
    }
   ],
   "source": [
    "Parallel(n_jobs=4)(delayed(load_and_save_chunk)(s, r[0], r[1]) for r in parallel_ranges)"
   ]
  },
  {
   "source": [
    "I got into some sporadic errors after most of the  chunks were downloaded. Not sure if they were caused by auto.ru throttling or server errors. Manual reruns helped. TODO: Make it more robust by adding sleeps and retries."
   ],
   "cell_type": "markdown",
   "metadata": {}
  },
  {
   "cell_type": "code",
   "execution_count": 266,
   "metadata": {},
   "outputs": [],
   "source": [
    "# Manually run for blocks with errors\n",
    "load_and_save_chunk(s, (9500001,10000000), (4,10))"
   ]
  },
  {
   "cell_type": "code",
   "execution_count": 269,
   "metadata": {},
   "outputs": [],
   "source": [
    "remaining_ranges = [(10000001, 20000000),\n",
    " (20000001, 30000000),\n",
    " (30000001, 40000000),\n",
    " (40000001, 50000000),\n",
    " (50000001, 60000000),\n",
    " (60000001, 70000000),\n",
    " (70000001, 80000000),\n",
    " (80000001, 90000000),\n",
    " (90000001, 100000000),\n",
    " (100000001, 200000000),\n",
    " (200000001, 300000000),\n",
    " (300000001, 400000000),\n",
    " (400000001, 500000000)]"
   ]
  },
  {
   "cell_type": "code",
   "execution_count": 270,
   "metadata": {},
   "outputs": [],
   "source": [
    "for r in remaining_ranges:\n",
    "    load_and_save_chunk(s, r, (1,99))"
   ]
  },
  {
   "source": [
    "Let's see what is in files"
   ],
   "cell_type": "markdown",
   "metadata": {}
  },
  {
   "cell_type": "code",
   "execution_count": 3,
   "metadata": {},
   "outputs": [],
   "source": [
    "def read_file(fn):\n",
    "    with open(fn, 'r') as file:\n",
    "        return json.load(file)\n"
   ]
  },
  {
   "cell_type": "code",
   "execution_count": 4,
   "metadata": {},
   "outputs": [],
   "source": [
    "d = read_file('/Users/ewechsler/projects/sf/skillfactory_rds/module_6/output/prices_1000001_1100000_pages_1_10')"
   ]
  },
  {
   "source": [
    "## Data processing\n",
    "\n",
    "Most of the effort was in this section: mapping downloaded results to test.csv format. Most of it is applied on chunks level to make sure we don't have to process columns in very big table after the chunks are concatenated\n",
    "\n",
    "For each test.csv field I had to find the best fit values in the big json and sometimes perform value mappings based on unique() values (due to test.csv using some russian-based dictionaries for values)"
   ],
   "cell_type": "markdown",
   "metadata": {}
  },
  {
   "cell_type": "code",
   "execution_count": 498,
   "metadata": {},
   "outputs": [],
   "source": [
    "def dct_to_competition_dataframe(dct):\n",
    "    df = pd.DataFrame(dct)\n",
    "    if len(df) == 0:\n",
    "        return df\n",
    "    vi = pd.json_normalize(df.vehicle_info)\n",
    "    state = pd.json_normalize(df.state)\n",
    "    price_info = pd.json_normalize(df.price_info)\n",
    "    documents =  pd.json_normalize(df.documents)\n",
    "    now_date = pd.Timestamp.now().normalize()\n",
    "\n",
    "    result = pd.DataFrame()\n",
    "    result[\"id\"]=df[\"id\"]\n",
    "    result[\"body_type\"]=vi[\"configuration.human_name\"].str.lower()\n",
    "    result[\"brand\"]=vi[\"mark_info.code\"]\n",
    "    result[\"color_hex\"]=df[\"color_hex\"]\n",
    "    result[\"color\"]=None # TODO Fill from color_hex\n",
    "    result[\"complectation_dict\"]=pd.json_normalize(df.vehicle_info, max_level=0).complectation\n",
    "    result[\"description\"]=df[\"description\"] if \"description\" in df.columns else None\n",
    "    result[\"engineDisplacement\"] = np.round(vi[\"tech_param.displacement\"] / 1000, 1).apply(lambda v: f'{v} LTR')\n",
    "    result[\"enginePower\"] = vi[\"tech_param.power\"].apply(lambda p: f\"{p} N12\")\n",
    "    result[\"equipment_dict\"] = pd.json_normalize(df.vehicle_info, max_level=0).equipment\n",
    "    result[\"fuelType\"] = vi[\"tech_param.engine_type\"] # Will map to russian names after \n",
    "    result[\"mileage\"] = state.mileage\n",
    "    result[\"modelDate\"] = vi[\"super_gen.year_from\"]\n",
    "    result[\"model_info\"] = pd.json_normalize(df.vehicle_info, max_level=0).model_info\n",
    "    result[\"model_name\"] = vi[\"model_info.code\"]\n",
    "    result[\"name\"] = vi[\"tech_param.human_name\"]\n",
    "    result[\"numberOfDoors\"] = vi[\"configuration.doors_count\"]\n",
    "    result[\"priceCurrency\"] = price_info[\"currency\"]\n",
    "    result[\"productionDate\"] = documents[\"year\"]\n",
    "    result[\"super_gen\"] = pd.json_normalize(df.vehicle_info, max_level=0).tech_param\n",
    "    result[\"vehicleTransmission\"] = vi[\"tech_param.transmission\"].map({'VARIATOR': 'вариатор', 'MECHANICAL': 'механическая', 'AUTOMATIC': 'автоматическая', 'ROBOT': 'роботизированная'})\n",
    "    result[\"vendor\"] = vi.vendor\n",
    "    result[\"Владельцы\"] = documents.owners_number if \"owners_number\" in documents.columns.values else None\n",
    "    if {\"purchase_date.year\",\"purchase_date.month\"}.issubset(documents.columns):\n",
    "        result[\"Владение\"] = 12*(now_date.year - documents[\"purchase_date.year\"]) +    (now_date.month - documents[\"purchase_date.month\"])\n",
    "    else:\n",
    "        result[\"Владение\"] = None\n",
    "    result[\"ПТС\"] = documents.pts.map({'ORIGINAL': 'Оригинал', 'DUPLICATE':'Дубликат'})\n",
    "    result[\"Привод\"] = vi[\"tech_param.gear_type\"].map({'FORWARD_CONTROL':'передний', 'ALL_WHEEL_DRIVE': 'полный', 'REAR_DRIVE': 'задний'})\n",
    "    result[\"Руль\"] = vi[\"steering_wheel\"].map({'LEFT':'Левый', 'RIGHT': 'Правый'})\n",
    "    result[\"Состояние\"] = state[\"state_not_beaten\"].map({True:'Не требует ремонта',False:'Битая'})\n",
    "    result[\"Таможня\"] = documents[\"custom_cleared\"].map({True:'Растаможен',False:'Не растаможен'})\n",
    "    result[\"price\"] = price_info[\"price\"]\n",
    "    return result\n",
    "\n"
   ]
  },
  {
   "source": [
    "Concatenating chunk files while applying processing to each"
   ],
   "cell_type": "markdown",
   "metadata": {}
  },
  {
   "cell_type": "code",
   "execution_count": 499,
   "metadata": {
    "tags": []
   },
   "outputs": [
    {
     "output_type": "stream",
     "name": "stdout",
     "text": [
      "Got 086530 records so far, processing               prices_300001_400000_pages_1_10.json"
     ]
    }
   ],
   "source": [
    "final_df = pd.DataFrame()\n",
    "for f in os.listdir('./output/'):\n",
    "    if not f.endswith('.json'):\n",
    "        continue\n",
    "    sys.stdout.write(f'\\rGot {final_df.shape[0]:06} records so far, processing {f.rjust(50)}')\n",
    "    sys.stdout.flush()\n",
    "    df = dct_to_competition_dataframe(read_file('./output/'+f))    \n",
    "    final_df = pd.concat([final_df, df], axis=0)"
   ]
  },
  {
   "source": [
    "It is safe to save the 500MB result to avoid previous process restart in case we will do mistakes with further processing (and it actually helped)"
   ],
   "cell_type": "markdown",
   "metadata": {}
  },
  {
   "cell_type": "code",
   "execution_count": 554,
   "metadata": {},
   "outputs": [],
   "source": [
    "final_df.to_csv(\"auto_ru_v1.csv\")\n",
    "#final_df = pd.read_csv(\"auto_ru_v1.csv\")"
   ]
  },
  {
   "source": [
    "### Final cleanup for Big dataset\n",
    "\n",
    "Let's fill empty values with get rid of duplicates "
   ],
   "cell_type": "markdown",
   "metadata": {}
  },
  {
   "cell_type": "code",
   "execution_count": 541,
   "metadata": {},
   "outputs": [],
   "source": [
    "final_df.drop_duplicates(subset=['id', 'body_type', 'brand', 'color_hex', \n",
    "       'description', 'engineDisplacement', 'enginePower', \n",
    "       'fuelType', 'mileage', 'modelDate', 'model_name', 'name',\n",
    "       'numberOfDoors', 'priceCurrency', 'productionDate', \n",
    "       'vehicleTransmission', 'vendor', 'Владельцы', 'Владение', 'ПТС',\n",
    "       'Привод', 'Руль', 'Состояние', 'Таможня', 'price'], inplace = True)"
   ]
  },
  {
   "cell_type": "code",
   "execution_count": 542,
   "metadata": {},
   "outputs": [
    {
     "output_type": "stream",
     "name": "stdout",
     "text": [
      "<class 'pandas.core.frame.DataFrame'>\nInt64Index: 21701 entries, 0 to 21700\nData columns (total 31 columns):\n #   Column               Non-Null Count  Dtype  \n---  ------               --------------  -----  \n 0   Unnamed: 0           21701 non-null  int64  \n 1   id                   21701 non-null  int64  \n 2   body_type            21701 non-null  object \n 3   brand                21701 non-null  object \n 4   color_hex            21701 non-null  object \n 5   color                0 non-null      float64\n 6   complectation_dict   21701 non-null  object \n 7   description          20938 non-null  object \n 8   engineDisplacement   21701 non-null  object \n 9   enginePower          21701 non-null  object \n 10  equipment_dict       21701 non-null  object \n 11  fuelType             21701 non-null  object \n 12  mileage              21701 non-null  int64  \n 13  modelDate            21701 non-null  float64\n 14  model_info           21701 non-null  object \n 15  model_name           21701 non-null  object \n 16  name                 21701 non-null  object \n 17  numberOfDoors        21701 non-null  float64\n 18  priceCurrency        21701 non-null  object \n 19  productionDate       21701 non-null  int64  \n 20  super_gen            21701 non-null  object \n 21  vehicleTransmission  21701 non-null  object \n 22  vendor               21701 non-null  object \n 23  Владельцы            15260 non-null  float64\n 24  Владение             4603 non-null   float64\n 25  ПТС                  21460 non-null  object \n 26  Привод               21701 non-null  object \n 27  Руль                 21701 non-null  object \n 28  Состояние            21701 non-null  object \n 29  Таможня              21701 non-null  object \n 30  price                21701 non-null  float64\ndtypes: float64(6), int64(4), object(21)\nmemory usage: 5.3+ MB\n"
     ]
    }
   ],
   "source": [
    "final_df.info()"
   ]
  },
  {
   "source": [
    "We don't need rows without price, and there are few rows with empty body_type, fuelType and modelDate. Simply removing them"
   ],
   "cell_type": "markdown",
   "metadata": {}
  },
  {
   "cell_type": "code",
   "execution_count": 519,
   "metadata": {},
   "outputs": [],
   "source": [
    "final_df.dropna(subset=['price','body_type','fuelType','modelDate'],axis=0,inplace=True)"
   ]
  },
  {
   "cell_type": "code",
   "execution_count": 558,
   "metadata": {},
   "outputs": [],
   "source": [
    "final_df.description.fillna('',inplace=True)"
   ]
  },
  {
   "source": [
    "Most of the na values for # of owners are cars with 0-mileage except a handful of outliers. So consider them having 0 owners."
   ],
   "cell_type": "markdown",
   "metadata": {}
  },
  {
   "cell_type": "code",
   "execution_count": 634,
   "metadata": {},
   "outputs": [],
   "source": [
    "\n",
    "final_df[\"Владельцы\"].fillna(0,inplace=True)"
   ]
  },
  {
   "source": [
    "Now the results looks good. There is only one column with na and it's also true for test.csv. We will process it in the Kaggle notebook later along with feature engineering and other common transformations."
   ],
   "cell_type": "markdown",
   "metadata": {}
  },
  {
   "cell_type": "code",
   "execution_count": 573,
   "metadata": {},
   "outputs": [
    {
     "output_type": "stream",
     "name": "stdout",
     "text": [
      "<class 'pandas.core.frame.DataFrame'>\nRangeIndex: 82182 entries, 0 to 82181\nData columns (total 31 columns):\n #   Column               Non-Null Count  Dtype  \n---  ------               --------------  -----  \n 0   Unnamed: 0           82182 non-null  int64  \n 1   id                   82182 non-null  int64  \n 2   body_type            82182 non-null  object \n 3   brand                82182 non-null  object \n 4   color_hex            82182 non-null  object \n 5   color                0 non-null      float64\n 6   complectation_dict   82182 non-null  object \n 7   description          82182 non-null  object \n 8   engineDisplacement   82182 non-null  object \n 9   enginePower          82182 non-null  object \n 10  equipment_dict       82182 non-null  object \n 11  fuelType             82182 non-null  object \n 12  mileage              82182 non-null  int64  \n 13  modelDate            82182 non-null  float64\n 14  model_info           82182 non-null  object \n 15  model_name           82182 non-null  object \n 16  name                 82182 non-null  object \n 17  numberOfDoors        82182 non-null  float64\n 18  priceCurrency        82182 non-null  object \n 19  productionDate       82182 non-null  int64  \n 20  super_gen            82182 non-null  object \n 21  vehicleTransmission  82182 non-null  object \n 22  vendor               82182 non-null  object \n 23  Владельцы            82182 non-null  float64\n 24  Владение             18807 non-null  float64\n 25  ПТС                  81552 non-null  object \n 26  Привод               82182 non-null  object \n 27  Руль                 82182 non-null  object \n 28  Состояние            82182 non-null  object \n 29  Таможня              82182 non-null  object \n 30  price                82182 non-null  float64\ndtypes: float64(6), int64(4), object(21)\nmemory usage: 19.4+ MB\n"
     ]
    }
   ],
   "source": [
    "final_df.info()"
   ]
  },
  {
   "cell_type": "code",
   "execution_count": 574,
   "metadata": {},
   "outputs": [],
   "source": [
    "final_df.to_csv(\"auto_ru_v2.csv\")"
   ]
  },
  {
   "source": [
    "### Colors processing\n",
    "\n",
    "However there is one column which is still not mapped to test.csv, which has colors named in russian. Let's draw hex color values from the downloaded file and manually map them to the names, because unfortunatelly at auto.ru they did not have those mappings inside the UI code. "
   ],
   "cell_type": "markdown",
   "metadata": {}
  },
  {
   "cell_type": "code",
   "execution_count": 575,
   "metadata": {},
   "outputs": [
    {
     "output_type": "execute_result",
     "data": {
      "text/plain": [
       "array(['040001', 'CACECB', 'FAFBFB', 'FF8649', 'EE1D19', '200204',\n",
       "       '97948F', '22A0F8', '007F00', 'C49648', '0000CC', '660099',\n",
       "       'DEA522', 'FFC0CB', '4A2197', 'FFD600'], dtype=object)"
      ]
     },
     "metadata": {},
     "execution_count": 575
    }
   ],
   "source": [
    "final_df.color_hex.unique()"
   ]
  },
  {
   "cell_type": "code",
   "execution_count": 631,
   "metadata": {},
   "outputs": [
    {
     "output_type": "stream",
     "name": "stdout",
     "text": [
      "['040001' 'CACECB' 'FAFBFB' 'FF8649' 'EE1D19' '200204' '97948F' '22A0F8'\n '007F00' 'C49648' '0000CC' '660099' 'DEA522' 'FFC0CB' '4A2197' 'FFD600']\n"
     ]
    },
    {
     "output_type": "display_data",
     "data": {
      "text/plain": "<Figure size 432x288 with 1 Axes>",
      "image/svg+xml": "<?xml version=\"1.0\" encoding=\"utf-8\" standalone=\"no\"?>\n<!DOCTYPE svg PUBLIC \"-//W3C//DTD SVG 1.1//EN\"\n  \"http://www.w3.org/Graphics/SVG/1.1/DTD/svg11.dtd\">\n<!-- Created with matplotlib (https://matplotlib.org/) -->\n<svg height=\"248.518125pt\" version=\"1.1\" viewBox=\"0 0 405.373437 248.518125\" width=\"405.373437pt\" xmlns=\"http://www.w3.org/2000/svg\" xmlns:xlink=\"http://www.w3.org/1999/xlink\">\n <metadata>\n  <rdf:RDF xmlns:cc=\"http://creativecommons.org/ns#\" xmlns:dc=\"http://purl.org/dc/elements/1.1/\" xmlns:rdf=\"http://www.w3.org/1999/02/22-rdf-syntax-ns#\">\n   <cc:Work>\n    <dc:type rdf:resource=\"http://purl.org/dc/dcmitype/StillImage\"/>\n    <dc:date>2020-12-22T21:43:30.594571</dc:date>\n    <dc:format>image/svg+xml</dc:format>\n    <dc:creator>\n     <cc:Agent>\n      <dc:title>Matplotlib v3.3.2, https://matplotlib.org/</dc:title>\n     </cc:Agent>\n    </dc:creator>\n   </cc:Work>\n  </rdf:RDF>\n </metadata>\n <defs>\n  <style type=\"text/css\">*{stroke-linecap:butt;stroke-linejoin:round;}</style>\n </defs>\n <g id=\"figure_1\">\n  <g id=\"patch_1\">\n   <path d=\"M 0 248.518125 \nL 405.373437 248.518125 \nL 405.373437 0 \nL 0 0 \nz\n\" style=\"fill:none;\"/>\n  </g>\n  <g id=\"axes_1\">\n   <g id=\"patch_2\">\n    <path d=\"M 63.373438 224.64 \nL 398.173438 224.64 \nL 398.173438 7.2 \nL 63.373438 7.2 \nz\n\" style=\"fill:#ffffff;\"/>\n   </g>\n   <g id=\"patch_3\">\n    <path clip-path=\"url(#p9bafb61ac2)\" d=\"M 63.373438 214.756364 \nL 382.23058 214.756364 \nL 382.23058 204.747618 \nL 63.373438 204.747618 \nz\n\" style=\"fill:#040001;\"/>\n   </g>\n   <g id=\"patch_4\">\n    <path clip-path=\"url(#p9bafb61ac2)\" d=\"M 63.373438 202.245432 \nL 382.23058 202.245432 \nL 382.23058 192.236686 \nL 63.373438 192.236686 \nz\n\" style=\"fill:#cacecb;\"/>\n   </g>\n   <g id=\"patch_5\">\n    <path clip-path=\"url(#p9bafb61ac2)\" d=\"M 63.373438 189.734499 \nL 382.23058 189.734499 \nL 382.23058 179.725754 \nL 63.373438 179.725754 \nz\n\" style=\"fill:#fafbfb;\"/>\n   </g>\n   <g id=\"patch_6\">\n    <path clip-path=\"url(#p9bafb61ac2)\" d=\"M 63.373438 177.223567 \nL 382.23058 177.223567 \nL 382.23058 167.214822 \nL 63.373438 167.214822 \nz\n\" style=\"fill:#ff8649;\"/>\n   </g>\n   <g id=\"patch_7\">\n    <path clip-path=\"url(#p9bafb61ac2)\" d=\"M 63.373438 164.712635 \nL 382.23058 164.712635 \nL 382.23058 154.70389 \nL 63.373438 154.70389 \nz\n\" style=\"fill:#ee1d19;\"/>\n   </g>\n   <g id=\"patch_8\">\n    <path clip-path=\"url(#p9bafb61ac2)\" d=\"M 63.373438 152.201703 \nL 382.23058 152.201703 \nL 382.23058 142.192957 \nL 63.373438 142.192957 \nz\n\" style=\"fill:#200204;\"/>\n   </g>\n   <g id=\"patch_9\">\n    <path clip-path=\"url(#p9bafb61ac2)\" d=\"M 63.373438 139.690771 \nL 382.23058 139.690771 \nL 382.23058 129.682025 \nL 63.373438 129.682025 \nz\n\" style=\"fill:#97948f;\"/>\n   </g>\n   <g id=\"patch_10\">\n    <path clip-path=\"url(#p9bafb61ac2)\" d=\"M 63.373438 127.179839 \nL 382.23058 127.179839 \nL 382.23058 117.171093 \nL 63.373438 117.171093 \nz\n\" style=\"fill:#22a0f8;\"/>\n   </g>\n   <g id=\"patch_11\">\n    <path clip-path=\"url(#p9bafb61ac2)\" d=\"M 63.373438 114.668907 \nL 382.23058 114.668907 \nL 382.23058 104.660161 \nL 63.373438 104.660161 \nz\n\" style=\"fill:#007f00;\"/>\n   </g>\n   <g id=\"patch_12\">\n    <path clip-path=\"url(#p9bafb61ac2)\" d=\"M 63.373438 102.157975 \nL 382.23058 102.157975 \nL 382.23058 92.149229 \nL 63.373438 92.149229 \nz\n\" style=\"fill:#c49648;\"/>\n   </g>\n   <g id=\"patch_13\">\n    <path clip-path=\"url(#p9bafb61ac2)\" d=\"M 63.373438 89.647043 \nL 382.23058 89.647043 \nL 382.23058 79.638297 \nL 63.373438 79.638297 \nz\n\" style=\"fill:#0000cc;\"/>\n   </g>\n   <g id=\"patch_14\">\n    <path clip-path=\"url(#p9bafb61ac2)\" d=\"M 63.373438 77.13611 \nL 382.23058 77.13611 \nL 382.23058 67.127365 \nL 63.373438 67.127365 \nz\n\" style=\"fill:#660099;\"/>\n   </g>\n   <g id=\"patch_15\">\n    <path clip-path=\"url(#p9bafb61ac2)\" d=\"M 63.373438 64.625178 \nL 382.23058 64.625178 \nL 382.23058 54.616433 \nL 63.373438 54.616433 \nz\n\" style=\"fill:#dea522;\"/>\n   </g>\n   <g id=\"patch_16\">\n    <path clip-path=\"url(#p9bafb61ac2)\" d=\"M 63.373438 52.114246 \nL 382.23058 52.114246 \nL 382.23058 42.105501 \nL 63.373438 42.105501 \nz\n\" style=\"fill:#ffc0cb;\"/>\n   </g>\n   <g id=\"patch_17\">\n    <path clip-path=\"url(#p9bafb61ac2)\" d=\"M 63.373438 39.603314 \nL 382.23058 39.603314 \nL 382.23058 29.594568 \nL 63.373438 29.594568 \nz\n\" style=\"fill:#4a2197;\"/>\n   </g>\n   <g id=\"patch_18\">\n    <path clip-path=\"url(#p9bafb61ac2)\" d=\"M 63.373438 27.092382 \nL 382.23058 27.092382 \nL 382.23058 17.083636 \nL 63.373438 17.083636 \nz\n\" style=\"fill:#ffd600;\"/>\n   </g>\n   <g id=\"matplotlib.axis_1\">\n    <g id=\"xtick_1\">\n     <g id=\"line2d_1\">\n      <defs>\n       <path d=\"M 0 0 \nL 0 3.5 \n\" id=\"me20344c218\" style=\"stroke:#000000;stroke-width:0.8;\"/>\n      </defs>\n      <g>\n       <use style=\"stroke:#000000;stroke-width:0.8;\" x=\"63.373438\" xlink:href=\"#me20344c218\" y=\"224.64\"/>\n      </g>\n     </g>\n     <g id=\"text_1\">\n      <!-- 0 -->\n      <g transform=\"translate(60.192188 239.238437)scale(0.1 -0.1)\">\n       <defs>\n        <path d=\"M 31.78125 66.40625 \nQ 24.171875 66.40625 20.328125 58.90625 \nQ 16.5 51.421875 16.5 36.375 \nQ 16.5 21.390625 20.328125 13.890625 \nQ 24.171875 6.390625 31.78125 6.390625 \nQ 39.453125 6.390625 43.28125 13.890625 \nQ 47.125 21.390625 47.125 36.375 \nQ 47.125 51.421875 43.28125 58.90625 \nQ 39.453125 66.40625 31.78125 66.40625 \nz\nM 31.78125 74.21875 \nQ 44.046875 74.21875 50.515625 64.515625 \nQ 56.984375 54.828125 56.984375 36.375 \nQ 56.984375 17.96875 50.515625 8.265625 \nQ 44.046875 -1.421875 31.78125 -1.421875 \nQ 19.53125 -1.421875 13.0625 8.265625 \nQ 6.59375 17.96875 6.59375 36.375 \nQ 6.59375 54.828125 13.0625 64.515625 \nQ 19.53125 74.21875 31.78125 74.21875 \nz\n\" id=\"DejaVuSans-48\"/>\n       </defs>\n       <use xlink:href=\"#DejaVuSans-48\"/>\n      </g>\n     </g>\n    </g>\n    <g id=\"xtick_2\">\n     <g id=\"line2d_2\">\n      <g>\n       <use style=\"stroke:#000000;stroke-width:0.8;\" x=\"127.144866\" xlink:href=\"#me20344c218\" y=\"224.64\"/>\n      </g>\n     </g>\n     <g id=\"text_2\">\n      <!-- 2 -->\n      <g transform=\"translate(123.963616 239.238437)scale(0.1 -0.1)\">\n       <defs>\n        <path d=\"M 19.1875 8.296875 \nL 53.609375 8.296875 \nL 53.609375 0 \nL 7.328125 0 \nL 7.328125 8.296875 \nQ 12.9375 14.109375 22.625 23.890625 \nQ 32.328125 33.6875 34.8125 36.53125 \nQ 39.546875 41.84375 41.421875 45.53125 \nQ 43.3125 49.21875 43.3125 52.78125 \nQ 43.3125 58.59375 39.234375 62.25 \nQ 35.15625 65.921875 28.609375 65.921875 \nQ 23.96875 65.921875 18.8125 64.3125 \nQ 13.671875 62.703125 7.8125 59.421875 \nL 7.8125 69.390625 \nQ 13.765625 71.78125 18.9375 73 \nQ 24.125 74.21875 28.421875 74.21875 \nQ 39.75 74.21875 46.484375 68.546875 \nQ 53.21875 62.890625 53.21875 53.421875 \nQ 53.21875 48.921875 51.53125 44.890625 \nQ 49.859375 40.875 45.40625 35.40625 \nQ 44.1875 33.984375 37.640625 27.21875 \nQ 31.109375 20.453125 19.1875 8.296875 \nz\n\" id=\"DejaVuSans-50\"/>\n       </defs>\n       <use xlink:href=\"#DejaVuSans-50\"/>\n      </g>\n     </g>\n    </g>\n    <g id=\"xtick_3\">\n     <g id=\"line2d_3\">\n      <g>\n       <use style=\"stroke:#000000;stroke-width:0.8;\" x=\"190.916295\" xlink:href=\"#me20344c218\" y=\"224.64\"/>\n      </g>\n     </g>\n     <g id=\"text_3\">\n      <!-- 4 -->\n      <g transform=\"translate(187.735045 239.238437)scale(0.1 -0.1)\">\n       <defs>\n        <path d=\"M 37.796875 64.3125 \nL 12.890625 25.390625 \nL 37.796875 25.390625 \nz\nM 35.203125 72.90625 \nL 47.609375 72.90625 \nL 47.609375 25.390625 \nL 58.015625 25.390625 \nL 58.015625 17.1875 \nL 47.609375 17.1875 \nL 47.609375 0 \nL 37.796875 0 \nL 37.796875 17.1875 \nL 4.890625 17.1875 \nL 4.890625 26.703125 \nz\n\" id=\"DejaVuSans-52\"/>\n       </defs>\n       <use xlink:href=\"#DejaVuSans-52\"/>\n      </g>\n     </g>\n    </g>\n    <g id=\"xtick_4\">\n     <g id=\"line2d_4\">\n      <g>\n       <use style=\"stroke:#000000;stroke-width:0.8;\" x=\"254.687723\" xlink:href=\"#me20344c218\" y=\"224.64\"/>\n      </g>\n     </g>\n     <g id=\"text_4\">\n      <!-- 6 -->\n      <g transform=\"translate(251.506473 239.238437)scale(0.1 -0.1)\">\n       <defs>\n        <path d=\"M 33.015625 40.375 \nQ 26.375 40.375 22.484375 35.828125 \nQ 18.609375 31.296875 18.609375 23.390625 \nQ 18.609375 15.53125 22.484375 10.953125 \nQ 26.375 6.390625 33.015625 6.390625 \nQ 39.65625 6.390625 43.53125 10.953125 \nQ 47.40625 15.53125 47.40625 23.390625 \nQ 47.40625 31.296875 43.53125 35.828125 \nQ 39.65625 40.375 33.015625 40.375 \nz\nM 52.59375 71.296875 \nL 52.59375 62.3125 \nQ 48.875 64.0625 45.09375 64.984375 \nQ 41.3125 65.921875 37.59375 65.921875 \nQ 27.828125 65.921875 22.671875 59.328125 \nQ 17.53125 52.734375 16.796875 39.40625 \nQ 19.671875 43.65625 24.015625 45.921875 \nQ 28.375 48.1875 33.59375 48.1875 \nQ 44.578125 48.1875 50.953125 41.515625 \nQ 57.328125 34.859375 57.328125 23.390625 \nQ 57.328125 12.15625 50.6875 5.359375 \nQ 44.046875 -1.421875 33.015625 -1.421875 \nQ 20.359375 -1.421875 13.671875 8.265625 \nQ 6.984375 17.96875 6.984375 36.375 \nQ 6.984375 53.65625 15.1875 63.9375 \nQ 23.390625 74.21875 37.203125 74.21875 \nQ 40.921875 74.21875 44.703125 73.484375 \nQ 48.484375 72.75 52.59375 71.296875 \nz\n\" id=\"DejaVuSans-54\"/>\n       </defs>\n       <use xlink:href=\"#DejaVuSans-54\"/>\n      </g>\n     </g>\n    </g>\n    <g id=\"xtick_5\">\n     <g id=\"line2d_5\">\n      <g>\n       <use style=\"stroke:#000000;stroke-width:0.8;\" x=\"318.459152\" xlink:href=\"#me20344c218\" y=\"224.64\"/>\n      </g>\n     </g>\n     <g id=\"text_5\">\n      <!-- 8 -->\n      <g transform=\"translate(315.277902 239.238437)scale(0.1 -0.1)\">\n       <defs>\n        <path d=\"M 31.78125 34.625 \nQ 24.75 34.625 20.71875 30.859375 \nQ 16.703125 27.09375 16.703125 20.515625 \nQ 16.703125 13.921875 20.71875 10.15625 \nQ 24.75 6.390625 31.78125 6.390625 \nQ 38.8125 6.390625 42.859375 10.171875 \nQ 46.921875 13.96875 46.921875 20.515625 \nQ 46.921875 27.09375 42.890625 30.859375 \nQ 38.875 34.625 31.78125 34.625 \nz\nM 21.921875 38.8125 \nQ 15.578125 40.375 12.03125 44.71875 \nQ 8.5 49.078125 8.5 55.328125 \nQ 8.5 64.0625 14.71875 69.140625 \nQ 20.953125 74.21875 31.78125 74.21875 \nQ 42.671875 74.21875 48.875 69.140625 \nQ 55.078125 64.0625 55.078125 55.328125 \nQ 55.078125 49.078125 51.53125 44.71875 \nQ 48 40.375 41.703125 38.8125 \nQ 48.828125 37.15625 52.796875 32.3125 \nQ 56.78125 27.484375 56.78125 20.515625 \nQ 56.78125 9.90625 50.3125 4.234375 \nQ 43.84375 -1.421875 31.78125 -1.421875 \nQ 19.734375 -1.421875 13.25 4.234375 \nQ 6.78125 9.90625 6.78125 20.515625 \nQ 6.78125 27.484375 10.78125 32.3125 \nQ 14.796875 37.15625 21.921875 38.8125 \nz\nM 18.3125 54.390625 \nQ 18.3125 48.734375 21.84375 45.5625 \nQ 25.390625 42.390625 31.78125 42.390625 \nQ 38.140625 42.390625 41.71875 45.5625 \nQ 45.3125 48.734375 45.3125 54.390625 \nQ 45.3125 60.0625 41.71875 63.234375 \nQ 38.140625 66.40625 31.78125 66.40625 \nQ 25.390625 66.40625 21.84375 63.234375 \nQ 18.3125 60.0625 18.3125 54.390625 \nz\n\" id=\"DejaVuSans-56\"/>\n       </defs>\n       <use xlink:href=\"#DejaVuSans-56\"/>\n      </g>\n     </g>\n    </g>\n    <g id=\"xtick_6\">\n     <g id=\"line2d_6\">\n      <g>\n       <use style=\"stroke:#000000;stroke-width:0.8;\" x=\"382.23058\" xlink:href=\"#me20344c218\" y=\"224.64\"/>\n      </g>\n     </g>\n     <g id=\"text_6\">\n      <!-- 10 -->\n      <g transform=\"translate(375.86808 239.238437)scale(0.1 -0.1)\">\n       <defs>\n        <path d=\"M 12.40625 8.296875 \nL 28.515625 8.296875 \nL 28.515625 63.921875 \nL 10.984375 60.40625 \nL 10.984375 69.390625 \nL 28.421875 72.90625 \nL 38.28125 72.90625 \nL 38.28125 8.296875 \nL 54.390625 8.296875 \nL 54.390625 0 \nL 12.40625 0 \nz\n\" id=\"DejaVuSans-49\"/>\n       </defs>\n       <use xlink:href=\"#DejaVuSans-49\"/>\n       <use x=\"63.623047\" xlink:href=\"#DejaVuSans-48\"/>\n      </g>\n     </g>\n    </g>\n   </g>\n   <g id=\"matplotlib.axis_2\">\n    <g id=\"ytick_1\">\n     <g id=\"line2d_7\">\n      <defs>\n       <path d=\"M 0 0 \nL -3.5 0 \n\" id=\"mcb17a46056\" style=\"stroke:#000000;stroke-width:0.8;\"/>\n      </defs>\n      <g>\n       <use style=\"stroke:#000000;stroke-width:0.8;\" x=\"63.373438\" xlink:href=\"#mcb17a46056\" y=\"209.751991\"/>\n      </g>\n     </g>\n     <g id=\"text_7\">\n      <!-- #040001 -->\n      <g transform=\"translate(9.81875 213.55121)scale(0.1 -0.1)\">\n       <defs>\n        <path d=\"M 51.125 44 \nL 36.921875 44 \nL 32.8125 27.6875 \nL 47.125 27.6875 \nz\nM 43.796875 71.78125 \nL 38.71875 51.515625 \nL 52.984375 51.515625 \nL 58.109375 71.78125 \nL 65.921875 71.78125 \nL 60.890625 51.515625 \nL 76.125 51.515625 \nL 76.125 44 \nL 58.984375 44 \nL 54.984375 27.6875 \nL 70.515625 27.6875 \nL 70.515625 20.21875 \nL 53.078125 20.21875 \nL 48 0 \nL 40.1875 0 \nL 45.21875 20.21875 \nL 30.90625 20.21875 \nL 25.875 0 \nL 18.015625 0 \nL 23.09375 20.21875 \nL 7.71875 20.21875 \nL 7.71875 27.6875 \nL 24.90625 27.6875 \nL 29 44 \nL 13.28125 44 \nL 13.28125 51.515625 \nL 30.90625 51.515625 \nL 35.890625 71.78125 \nz\n\" id=\"DejaVuSans-35\"/>\n       </defs>\n       <use xlink:href=\"#DejaVuSans-35\"/>\n       <use x=\"83.789062\" xlink:href=\"#DejaVuSans-48\"/>\n       <use x=\"147.412109\" xlink:href=\"#DejaVuSans-52\"/>\n       <use x=\"211.035156\" xlink:href=\"#DejaVuSans-48\"/>\n       <use x=\"274.658203\" xlink:href=\"#DejaVuSans-48\"/>\n       <use x=\"338.28125\" xlink:href=\"#DejaVuSans-48\"/>\n       <use x=\"401.904297\" xlink:href=\"#DejaVuSans-49\"/>\n      </g>\n     </g>\n    </g>\n    <g id=\"ytick_2\">\n     <g id=\"line2d_8\">\n      <g>\n       <use style=\"stroke:#000000;stroke-width:0.8;\" x=\"63.373438\" xlink:href=\"#mcb17a46056\" y=\"197.241059\"/>\n      </g>\n     </g>\n     <g id=\"text_8\">\n      <!-- #CACECB -->\n      <g transform=\"translate(7.2 201.040277)scale(0.1 -0.1)\">\n       <defs>\n        <path d=\"M 64.40625 67.28125 \nL 64.40625 56.890625 \nQ 59.421875 61.53125 53.78125 63.8125 \nQ 48.140625 66.109375 41.796875 66.109375 \nQ 29.296875 66.109375 22.65625 58.46875 \nQ 16.015625 50.828125 16.015625 36.375 \nQ 16.015625 21.96875 22.65625 14.328125 \nQ 29.296875 6.6875 41.796875 6.6875 \nQ 48.140625 6.6875 53.78125 8.984375 \nQ 59.421875 11.28125 64.40625 15.921875 \nL 64.40625 5.609375 \nQ 59.234375 2.09375 53.4375 0.328125 \nQ 47.65625 -1.421875 41.21875 -1.421875 \nQ 24.65625 -1.421875 15.125 8.703125 \nQ 5.609375 18.84375 5.609375 36.375 \nQ 5.609375 53.953125 15.125 64.078125 \nQ 24.65625 74.21875 41.21875 74.21875 \nQ 47.75 74.21875 53.53125 72.484375 \nQ 59.328125 70.75 64.40625 67.28125 \nz\n\" id=\"DejaVuSans-67\"/>\n        <path d=\"M 34.1875 63.1875 \nL 20.796875 26.90625 \nL 47.609375 26.90625 \nz\nM 28.609375 72.90625 \nL 39.796875 72.90625 \nL 67.578125 0 \nL 57.328125 0 \nL 50.6875 18.703125 \nL 17.828125 18.703125 \nL 11.1875 0 \nL 0.78125 0 \nz\n\" id=\"DejaVuSans-65\"/>\n        <path d=\"M 9.8125 72.90625 \nL 55.90625 72.90625 \nL 55.90625 64.59375 \nL 19.671875 64.59375 \nL 19.671875 43.015625 \nL 54.390625 43.015625 \nL 54.390625 34.71875 \nL 19.671875 34.71875 \nL 19.671875 8.296875 \nL 56.78125 8.296875 \nL 56.78125 0 \nL 9.8125 0 \nz\n\" id=\"DejaVuSans-69\"/>\n        <path d=\"M 19.671875 34.8125 \nL 19.671875 8.109375 \nL 35.5 8.109375 \nQ 43.453125 8.109375 47.28125 11.40625 \nQ 51.125 14.703125 51.125 21.484375 \nQ 51.125 28.328125 47.28125 31.5625 \nQ 43.453125 34.8125 35.5 34.8125 \nz\nM 19.671875 64.796875 \nL 19.671875 42.828125 \nL 34.28125 42.828125 \nQ 41.5 42.828125 45.03125 45.53125 \nQ 48.578125 48.25 48.578125 53.8125 \nQ 48.578125 59.328125 45.03125 62.0625 \nQ 41.5 64.796875 34.28125 64.796875 \nz\nM 9.8125 72.90625 \nL 35.015625 72.90625 \nQ 46.296875 72.90625 52.390625 68.21875 \nQ 58.5 63.53125 58.5 54.890625 \nQ 58.5 48.1875 55.375 44.234375 \nQ 52.25 40.28125 46.1875 39.3125 \nQ 53.46875 37.75 57.5 32.78125 \nQ 61.53125 27.828125 61.53125 20.40625 \nQ 61.53125 10.640625 54.890625 5.3125 \nQ 48.25 0 35.984375 0 \nL 9.8125 0 \nz\n\" id=\"DejaVuSans-66\"/>\n       </defs>\n       <use xlink:href=\"#DejaVuSans-35\"/>\n       <use x=\"83.789062\" xlink:href=\"#DejaVuSans-67\"/>\n       <use x=\"153.613281\" xlink:href=\"#DejaVuSans-65\"/>\n       <use x=\"220.271484\" xlink:href=\"#DejaVuSans-67\"/>\n       <use x=\"290.095703\" xlink:href=\"#DejaVuSans-69\"/>\n       <use x=\"353.279297\" xlink:href=\"#DejaVuSans-67\"/>\n       <use x=\"423.103516\" xlink:href=\"#DejaVuSans-66\"/>\n      </g>\n     </g>\n    </g>\n    <g id=\"ytick_3\">\n     <g id=\"line2d_9\">\n      <g>\n       <use style=\"stroke:#000000;stroke-width:0.8;\" x=\"63.373438\" xlink:href=\"#mcb17a46056\" y=\"184.730127\"/>\n      </g>\n     </g>\n     <g id=\"text_9\">\n      <!-- #FAFBFB -->\n      <g transform=\"translate(11.089063 188.529345)scale(0.1 -0.1)\">\n       <defs>\n        <path d=\"M 9.8125 72.90625 \nL 51.703125 72.90625 \nL 51.703125 64.59375 \nL 19.671875 64.59375 \nL 19.671875 43.109375 \nL 48.578125 43.109375 \nL 48.578125 34.8125 \nL 19.671875 34.8125 \nL 19.671875 0 \nL 9.8125 0 \nz\n\" id=\"DejaVuSans-70\"/>\n       </defs>\n       <use xlink:href=\"#DejaVuSans-35\"/>\n       <use x=\"83.789062\" xlink:href=\"#DejaVuSans-70\"/>\n       <use x=\"132.183594\" xlink:href=\"#DejaVuSans-65\"/>\n       <use x=\"200.591797\" xlink:href=\"#DejaVuSans-70\"/>\n       <use x=\"258.111328\" xlink:href=\"#DejaVuSans-66\"/>\n       <use x=\"326.714844\" xlink:href=\"#DejaVuSans-70\"/>\n       <use x=\"384.234375\" xlink:href=\"#DejaVuSans-66\"/>\n      </g>\n     </g>\n    </g>\n    <g id=\"ytick_4\">\n     <g id=\"line2d_10\">\n      <g>\n       <use style=\"stroke:#000000;stroke-width:0.8;\" x=\"63.373438\" xlink:href=\"#mcb17a46056\" y=\"172.219194\"/>\n      </g>\n     </g>\n     <g id=\"text_10\">\n      <!-- #FF8649 -->\n      <g transform=\"translate(11.040625 176.018413)scale(0.1 -0.1)\">\n       <defs>\n        <path d=\"M 10.984375 1.515625 \nL 10.984375 10.5 \nQ 14.703125 8.734375 18.5 7.8125 \nQ 22.3125 6.890625 25.984375 6.890625 \nQ 35.75 6.890625 40.890625 13.453125 \nQ 46.046875 20.015625 46.78125 33.40625 \nQ 43.953125 29.203125 39.59375 26.953125 \nQ 35.25 24.703125 29.984375 24.703125 \nQ 19.046875 24.703125 12.671875 31.3125 \nQ 6.296875 37.9375 6.296875 49.421875 \nQ 6.296875 60.640625 12.9375 67.421875 \nQ 19.578125 74.21875 30.609375 74.21875 \nQ 43.265625 74.21875 49.921875 64.515625 \nQ 56.59375 54.828125 56.59375 36.375 \nQ 56.59375 19.140625 48.40625 8.859375 \nQ 40.234375 -1.421875 26.421875 -1.421875 \nQ 22.703125 -1.421875 18.890625 -0.6875 \nQ 15.09375 0.046875 10.984375 1.515625 \nz\nM 30.609375 32.421875 \nQ 37.25 32.421875 41.125 36.953125 \nQ 45.015625 41.5 45.015625 49.421875 \nQ 45.015625 57.28125 41.125 61.84375 \nQ 37.25 66.40625 30.609375 66.40625 \nQ 23.96875 66.40625 20.09375 61.84375 \nQ 16.21875 57.28125 16.21875 49.421875 \nQ 16.21875 41.5 20.09375 36.953125 \nQ 23.96875 32.421875 30.609375 32.421875 \nz\n\" id=\"DejaVuSans-57\"/>\n       </defs>\n       <use xlink:href=\"#DejaVuSans-35\"/>\n       <use x=\"83.789062\" xlink:href=\"#DejaVuSans-70\"/>\n       <use x=\"141.308594\" xlink:href=\"#DejaVuSans-70\"/>\n       <use x=\"198.828125\" xlink:href=\"#DejaVuSans-56\"/>\n       <use x=\"262.451172\" xlink:href=\"#DejaVuSans-54\"/>\n       <use x=\"326.074219\" xlink:href=\"#DejaVuSans-52\"/>\n       <use x=\"389.697266\" xlink:href=\"#DejaVuSans-57\"/>\n      </g>\n     </g>\n    </g>\n    <g id=\"ytick_5\">\n     <g id=\"line2d_11\">\n      <g>\n       <use style=\"stroke:#000000;stroke-width:0.8;\" x=\"63.373438\" xlink:href=\"#mcb17a46056\" y=\"159.708262\"/>\n      </g>\n     </g>\n     <g id=\"text_11\">\n      <!-- #EE1D19 -->\n      <g transform=\"translate(8.56875 163.507481)scale(0.1 -0.1)\">\n       <defs>\n        <path d=\"M 19.671875 64.796875 \nL 19.671875 8.109375 \nL 31.59375 8.109375 \nQ 46.6875 8.109375 53.6875 14.9375 \nQ 60.6875 21.78125 60.6875 36.53125 \nQ 60.6875 51.171875 53.6875 57.984375 \nQ 46.6875 64.796875 31.59375 64.796875 \nz\nM 9.8125 72.90625 \nL 30.078125 72.90625 \nQ 51.265625 72.90625 61.171875 64.09375 \nQ 71.09375 55.28125 71.09375 36.53125 \nQ 71.09375 17.671875 61.125 8.828125 \nQ 51.171875 0 30.078125 0 \nL 9.8125 0 \nz\n\" id=\"DejaVuSans-68\"/>\n       </defs>\n       <use xlink:href=\"#DejaVuSans-35\"/>\n       <use x=\"83.789062\" xlink:href=\"#DejaVuSans-69\"/>\n       <use x=\"146.972656\" xlink:href=\"#DejaVuSans-69\"/>\n       <use x=\"210.15625\" xlink:href=\"#DejaVuSans-49\"/>\n       <use x=\"273.779297\" xlink:href=\"#DejaVuSans-68\"/>\n       <use x=\"350.78125\" xlink:href=\"#DejaVuSans-49\"/>\n       <use x=\"414.404297\" xlink:href=\"#DejaVuSans-57\"/>\n      </g>\n     </g>\n    </g>\n    <g id=\"ytick_6\">\n     <g id=\"line2d_12\">\n      <g>\n       <use style=\"stroke:#000000;stroke-width:0.8;\" x=\"63.373438\" xlink:href=\"#mcb17a46056\" y=\"147.19733\"/>\n      </g>\n     </g>\n     <g id=\"text_12\">\n      <!-- #200204 -->\n      <g transform=\"translate(9.81875 150.996549)scale(0.1 -0.1)\">\n       <use xlink:href=\"#DejaVuSans-35\"/>\n       <use x=\"83.789062\" xlink:href=\"#DejaVuSans-50\"/>\n       <use x=\"147.412109\" xlink:href=\"#DejaVuSans-48\"/>\n       <use x=\"211.035156\" xlink:href=\"#DejaVuSans-48\"/>\n       <use x=\"274.658203\" xlink:href=\"#DejaVuSans-50\"/>\n       <use x=\"338.28125\" xlink:href=\"#DejaVuSans-48\"/>\n       <use x=\"401.904297\" xlink:href=\"#DejaVuSans-52\"/>\n      </g>\n     </g>\n    </g>\n    <g id=\"ytick_7\">\n     <g id=\"line2d_13\">\n      <g>\n       <use style=\"stroke:#000000;stroke-width:0.8;\" x=\"63.373438\" xlink:href=\"#mcb17a46056\" y=\"134.686398\"/>\n      </g>\n     </g>\n     <g id=\"text_13\">\n      <!-- #97948F -->\n      <g transform=\"translate(10.429688 138.485617)scale(0.1 -0.1)\">\n       <defs>\n        <path d=\"M 8.203125 72.90625 \nL 55.078125 72.90625 \nL 55.078125 68.703125 \nL 28.609375 0 \nL 18.3125 0 \nL 43.21875 64.59375 \nL 8.203125 64.59375 \nz\n\" id=\"DejaVuSans-55\"/>\n       </defs>\n       <use xlink:href=\"#DejaVuSans-35\"/>\n       <use x=\"83.789062\" xlink:href=\"#DejaVuSans-57\"/>\n       <use x=\"147.412109\" xlink:href=\"#DejaVuSans-55\"/>\n       <use x=\"211.035156\" xlink:href=\"#DejaVuSans-57\"/>\n       <use x=\"274.658203\" xlink:href=\"#DejaVuSans-52\"/>\n       <use x=\"338.28125\" xlink:href=\"#DejaVuSans-56\"/>\n       <use x=\"401.904297\" xlink:href=\"#DejaVuSans-70\"/>\n      </g>\n     </g>\n    </g>\n    <g id=\"ytick_8\">\n     <g id=\"line2d_14\">\n      <g>\n       <use style=\"stroke:#000000;stroke-width:0.8;\" x=\"63.373438\" xlink:href=\"#mcb17a46056\" y=\"122.175466\"/>\n      </g>\n     </g>\n     <g id=\"text_14\">\n      <!-- #22A0F8 -->\n      <g transform=\"translate(9.951563 125.974685)scale(0.1 -0.1)\">\n       <use xlink:href=\"#DejaVuSans-35\"/>\n       <use x=\"83.789062\" xlink:href=\"#DejaVuSans-50\"/>\n       <use x=\"147.412109\" xlink:href=\"#DejaVuSans-50\"/>\n       <use x=\"211.035156\" xlink:href=\"#DejaVuSans-65\"/>\n       <use x=\"279.443359\" xlink:href=\"#DejaVuSans-48\"/>\n       <use x=\"343.066406\" xlink:href=\"#DejaVuSans-70\"/>\n       <use x=\"400.585938\" xlink:href=\"#DejaVuSans-56\"/>\n      </g>\n     </g>\n    </g>\n    <g id=\"ytick_9\">\n     <g id=\"line2d_15\">\n      <g>\n       <use style=\"stroke:#000000;stroke-width:0.8;\" x=\"63.373438\" xlink:href=\"#mcb17a46056\" y=\"109.664534\"/>\n      </g>\n     </g>\n     <g id=\"text_15\">\n      <!-- #007F00 -->\n      <g transform=\"translate(10.429688 113.463753)scale(0.1 -0.1)\">\n       <use xlink:href=\"#DejaVuSans-35\"/>\n       <use x=\"83.789062\" xlink:href=\"#DejaVuSans-48\"/>\n       <use x=\"147.412109\" xlink:href=\"#DejaVuSans-48\"/>\n       <use x=\"211.035156\" xlink:href=\"#DejaVuSans-55\"/>\n       <use x=\"274.658203\" xlink:href=\"#DejaVuSans-70\"/>\n       <use x=\"332.177734\" xlink:href=\"#DejaVuSans-48\"/>\n       <use x=\"395.800781\" xlink:href=\"#DejaVuSans-48\"/>\n      </g>\n     </g>\n    </g>\n    <g id=\"ytick_10\">\n     <g id=\"line2d_16\">\n      <g>\n       <use style=\"stroke:#000000;stroke-width:0.8;\" x=\"63.373438\" xlink:href=\"#mcb17a46056\" y=\"97.153602\"/>\n      </g>\n     </g>\n     <g id=\"text_16\">\n      <!-- #C49648 -->\n      <g transform=\"translate(9.198438 100.952821)scale(0.1 -0.1)\">\n       <use xlink:href=\"#DejaVuSans-35\"/>\n       <use x=\"83.789062\" xlink:href=\"#DejaVuSans-67\"/>\n       <use x=\"153.613281\" xlink:href=\"#DejaVuSans-52\"/>\n       <use x=\"217.236328\" xlink:href=\"#DejaVuSans-57\"/>\n       <use x=\"280.859375\" xlink:href=\"#DejaVuSans-54\"/>\n       <use x=\"344.482422\" xlink:href=\"#DejaVuSans-52\"/>\n       <use x=\"408.105469\" xlink:href=\"#DejaVuSans-56\"/>\n      </g>\n     </g>\n    </g>\n    <g id=\"ytick_11\">\n     <g id=\"line2d_17\">\n      <g>\n       <use style=\"stroke:#000000;stroke-width:0.8;\" x=\"63.373438\" xlink:href=\"#mcb17a46056\" y=\"84.64267\"/>\n      </g>\n     </g>\n     <g id=\"text_17\">\n      <!-- #0000CC -->\n      <g transform=\"translate(8.578125 88.441888)scale(0.1 -0.1)\">\n       <use xlink:href=\"#DejaVuSans-35\"/>\n       <use x=\"83.789062\" xlink:href=\"#DejaVuSans-48\"/>\n       <use x=\"147.412109\" xlink:href=\"#DejaVuSans-48\"/>\n       <use x=\"211.035156\" xlink:href=\"#DejaVuSans-48\"/>\n       <use x=\"274.658203\" xlink:href=\"#DejaVuSans-48\"/>\n       <use x=\"338.28125\" xlink:href=\"#DejaVuSans-67\"/>\n       <use x=\"408.105469\" xlink:href=\"#DejaVuSans-67\"/>\n      </g>\n     </g>\n    </g>\n    <g id=\"ytick_12\">\n     <g id=\"line2d_18\">\n      <g>\n       <use style=\"stroke:#000000;stroke-width:0.8;\" x=\"63.373438\" xlink:href=\"#mcb17a46056\" y=\"72.131738\"/>\n      </g>\n     </g>\n     <g id=\"text_18\">\n      <!-- #660099 -->\n      <g transform=\"translate(9.81875 75.930956)scale(0.1 -0.1)\">\n       <use xlink:href=\"#DejaVuSans-35\"/>\n       <use x=\"83.789062\" xlink:href=\"#DejaVuSans-54\"/>\n       <use x=\"147.412109\" xlink:href=\"#DejaVuSans-54\"/>\n       <use x=\"211.035156\" xlink:href=\"#DejaVuSans-48\"/>\n       <use x=\"274.658203\" xlink:href=\"#DejaVuSans-48\"/>\n       <use x=\"338.28125\" xlink:href=\"#DejaVuSans-57\"/>\n       <use x=\"401.904297\" xlink:href=\"#DejaVuSans-57\"/>\n      </g>\n     </g>\n    </g>\n    <g id=\"ytick_13\">\n     <g id=\"line2d_19\">\n      <g>\n       <use style=\"stroke:#000000;stroke-width:0.8;\" x=\"63.373438\" xlink:href=\"#mcb17a46056\" y=\"59.620806\"/>\n      </g>\n     </g>\n     <g id=\"text_19\">\n      <!-- #DEA522 -->\n      <g transform=\"translate(8.046875 63.420024)scale(0.1 -0.1)\">\n       <defs>\n        <path d=\"M 10.796875 72.90625 \nL 49.515625 72.90625 \nL 49.515625 64.59375 \nL 19.828125 64.59375 \nL 19.828125 46.734375 \nQ 21.96875 47.46875 24.109375 47.828125 \nQ 26.265625 48.1875 28.421875 48.1875 \nQ 40.625 48.1875 47.75 41.5 \nQ 54.890625 34.8125 54.890625 23.390625 \nQ 54.890625 11.625 47.5625 5.09375 \nQ 40.234375 -1.421875 26.90625 -1.421875 \nQ 22.3125 -1.421875 17.546875 -0.640625 \nQ 12.796875 0.140625 7.71875 1.703125 \nL 7.71875 11.625 \nQ 12.109375 9.234375 16.796875 8.0625 \nQ 21.484375 6.890625 26.703125 6.890625 \nQ 35.15625 6.890625 40.078125 11.328125 \nQ 45.015625 15.765625 45.015625 23.390625 \nQ 45.015625 31 40.078125 35.4375 \nQ 35.15625 39.890625 26.703125 39.890625 \nQ 22.75 39.890625 18.8125 39.015625 \nQ 14.890625 38.140625 10.796875 36.28125 \nz\n\" id=\"DejaVuSans-53\"/>\n       </defs>\n       <use xlink:href=\"#DejaVuSans-35\"/>\n       <use x=\"83.789062\" xlink:href=\"#DejaVuSans-68\"/>\n       <use x=\"160.791016\" xlink:href=\"#DejaVuSans-69\"/>\n       <use x=\"223.974609\" xlink:href=\"#DejaVuSans-65\"/>\n       <use x=\"292.382812\" xlink:href=\"#DejaVuSans-53\"/>\n       <use x=\"356.005859\" xlink:href=\"#DejaVuSans-50\"/>\n       <use x=\"419.628906\" xlink:href=\"#DejaVuSans-50\"/>\n      </g>\n     </g>\n    </g>\n    <g id=\"ytick_14\">\n     <g id=\"line2d_20\">\n      <g>\n       <use style=\"stroke:#000000;stroke-width:0.8;\" x=\"63.373438\" xlink:href=\"#mcb17a46056\" y=\"47.109873\"/>\n      </g>\n     </g>\n     <g id=\"text_20\">\n      <!-- #FFC0CB -->\n      <g transform=\"translate(9.301563 50.909092)scale(0.1 -0.1)\">\n       <use xlink:href=\"#DejaVuSans-35\"/>\n       <use x=\"83.789062\" xlink:href=\"#DejaVuSans-70\"/>\n       <use x=\"141.308594\" xlink:href=\"#DejaVuSans-70\"/>\n       <use x=\"198.828125\" xlink:href=\"#DejaVuSans-67\"/>\n       <use x=\"268.652344\" xlink:href=\"#DejaVuSans-48\"/>\n       <use x=\"332.275391\" xlink:href=\"#DejaVuSans-67\"/>\n       <use x=\"402.099609\" xlink:href=\"#DejaVuSans-66\"/>\n      </g>\n     </g>\n    </g>\n    <g id=\"ytick_15\">\n     <g id=\"line2d_21\">\n      <g>\n       <use style=\"stroke:#000000;stroke-width:0.8;\" x=\"63.373438\" xlink:href=\"#mcb17a46056\" y=\"34.598941\"/>\n      </g>\n     </g>\n     <g id=\"text_21\">\n      <!-- #4A2197 -->\n      <g transform=\"translate(9.340625 38.39816)scale(0.1 -0.1)\">\n       <use xlink:href=\"#DejaVuSans-35\"/>\n       <use x=\"83.789062\" xlink:href=\"#DejaVuSans-52\"/>\n       <use x=\"147.412109\" xlink:href=\"#DejaVuSans-65\"/>\n       <use x=\"215.820312\" xlink:href=\"#DejaVuSans-50\"/>\n       <use x=\"279.443359\" xlink:href=\"#DejaVuSans-49\"/>\n       <use x=\"343.066406\" xlink:href=\"#DejaVuSans-57\"/>\n       <use x=\"406.689453\" xlink:href=\"#DejaVuSans-55\"/>\n      </g>\n     </g>\n    </g>\n    <g id=\"ytick_16\">\n     <g id=\"line2d_22\">\n      <g>\n       <use style=\"stroke:#000000;stroke-width:0.8;\" x=\"63.373438\" xlink:href=\"#mcb17a46056\" y=\"22.088009\"/>\n      </g>\n     </g>\n     <g id=\"text_22\">\n      <!-- #FFD600 -->\n      <g transform=\"translate(9.703125 25.887228)scale(0.1 -0.1)\">\n       <use xlink:href=\"#DejaVuSans-35\"/>\n       <use x=\"83.789062\" xlink:href=\"#DejaVuSans-70\"/>\n       <use x=\"141.308594\" xlink:href=\"#DejaVuSans-70\"/>\n       <use x=\"198.828125\" xlink:href=\"#DejaVuSans-68\"/>\n       <use x=\"275.830078\" xlink:href=\"#DejaVuSans-54\"/>\n       <use x=\"339.453125\" xlink:href=\"#DejaVuSans-48\"/>\n       <use x=\"403.076172\" xlink:href=\"#DejaVuSans-48\"/>\n      </g>\n     </g>\n    </g>\n   </g>\n   <g id=\"patch_19\">\n    <path d=\"M 63.373438 224.64 \nL 63.373438 7.2 \n\" style=\"fill:none;stroke:#000000;stroke-linecap:square;stroke-linejoin:miter;stroke-width:0.8;\"/>\n   </g>\n   <g id=\"patch_20\">\n    <path d=\"M 398.173438 224.64 \nL 398.173438 7.2 \n\" style=\"fill:none;stroke:#000000;stroke-linecap:square;stroke-linejoin:miter;stroke-width:0.8;\"/>\n   </g>\n   <g id=\"patch_21\">\n    <path d=\"M 63.373438 224.64 \nL 398.173438 224.64 \n\" style=\"fill:none;stroke:#000000;stroke-linecap:square;stroke-linejoin:miter;stroke-width:0.8;\"/>\n   </g>\n   <g id=\"patch_22\">\n    <path d=\"M 63.373438 7.2 \nL 398.173438 7.2 \n\" style=\"fill:none;stroke:#000000;stroke-linecap:square;stroke-linejoin:miter;stroke-width:0.8;\"/>\n   </g>\n  </g>\n </g>\n <defs>\n  <clipPath id=\"p9bafb61ac2\">\n   <rect height=\"217.44\" width=\"334.8\" x=\"63.373438\" y=\"7.2\"/>\n  </clipPath>\n </defs>\n</svg>\n",
      "image/png": "[encoded data removed]"
     },
     "metadata": {
      "needs_background": "light"
     }
    }
   ],
   "source": [
    "for i,c in enumerate('#'+final_df.color_hex.unique()):\n",
    "   plt.barh(c, width=10, color=c)\n",
    "\n",
    "print(final_df.color_hex.unique())"
   ]
  },
  {
   "cell_type": "code",
   "execution_count": 625,
   "metadata": {},
   "outputs": [],
   "source": [
    "final_df.color = final_df.color_hex.map({'040001':'чёрный','CACECB':'серебристый', 'FAFBFB':'белый', 'FF8649':'оранжевый', 'EE1D19':'красный', '200204':'коричневый', '97948F':'серый', '22A0F8':'голубой',\n",
    " '007F00':'зелёный', 'C49648':'бежевый', '0000CC':'синий', '660099':'пурпурный', 'DEA522':'золотистый', 'FFC0CB':'розовый', '4A2197':'фиолетовый', 'FFD600':'жёлтый'})"
   ]
  },
  {
   "cell_type": "code",
   "execution_count": 635,
   "metadata": {},
   "outputs": [
    {
     "output_type": "stream",
     "name": "stdout",
     "text": [
      "<class 'pandas.core.frame.DataFrame'>\nRangeIndex: 82182 entries, 0 to 82181\nData columns (total 31 columns):\n #   Column               Non-Null Count  Dtype  \n---  ------               --------------  -----  \n 0   Unnamed: 0           82182 non-null  int64  \n 1   id                   82182 non-null  int64  \n 2   body_type            82182 non-null  object \n 3   brand                82182 non-null  object \n 4   color_hex            82182 non-null  object \n 5   color                82182 non-null  object \n 6   complectation_dict   82182 non-null  object \n 7   description          82182 non-null  object \n 8   engineDisplacement   82182 non-null  object \n 9   enginePower          82182 non-null  object \n 10  equipment_dict       82182 non-null  object \n 11  fuelType             82182 non-null  object \n 12  mileage              82182 non-null  int64  \n 13  modelDate            82182 non-null  float64\n 14  model_info           82182 non-null  object \n 15  model_name           82182 non-null  object \n 16  name                 82182 non-null  object \n 17  numberOfDoors        82182 non-null  float64\n 18  priceCurrency        82182 non-null  object \n 19  productionDate       82182 non-null  int64  \n 20  super_gen            82182 non-null  object \n 21  vehicleTransmission  82182 non-null  object \n 22  vendor               82182 non-null  object \n 23  Владельцы            82182 non-null  float64\n 24  Владение             18807 non-null  float64\n 25  ПТС                  81552 non-null  object \n 26  Привод               82182 non-null  object \n 27  Руль                 82182 non-null  object \n 28  Состояние            82182 non-null  object \n 29  Таможня              82182 non-null  object \n 30  price                82182 non-null  float64\ndtypes: float64(5), int64(4), object(22)\nmemory usage: 19.4+ MB\n"
     ]
    }
   ],
   "source": [
    "final_df.info()"
   ]
  },
  {
   "cell_type": "code",
   "execution_count": 636,
   "metadata": {},
   "outputs": [],
   "source": [
    "final_df.to_csv(\"auto_ru_v2.csv\")"
   ]
  },
  {
   "cell_type": "code",
   "execution_count": 1,
   "metadata": {},
   "outputs": [],
   "source": [
    "import re"
   ]
  },
  {
   "cell_type": "code",
   "execution_count": null,
   "metadata": {},
   "outputs": [],
   "source": []
  }
 ]
}