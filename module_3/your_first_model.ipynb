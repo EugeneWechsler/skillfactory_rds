{
 "cells": [
  {
   "cell_type": "markdown",
   "metadata": {},
   "source": [
    "# Загрузка Pandas и очистка данных"
   ]
  },
  {
   "cell_type": "code",
   "execution_count": 205,
   "metadata": {},
   "outputs": [],
   "source": [
    "import pandas as pd"
   ]
  },
  {
   "cell_type": "code",
   "execution_count": 206,
   "metadata": {},
   "outputs": [],
   "source": [
    "df = pd.read_csv('main_task.csv')"
   ]
  },
  {
   "cell_type": "code",
   "execution_count": 207,
   "metadata": {},
   "outputs": [
    {
     "output_type": "execute_result",
     "data": {
      "text/plain": "  Restaurant_id       City                                      Cuisine Style  \\\n0       id_5569      Paris            ['European', 'French', 'International']   \n1       id_1535  Stockholm                                                NaN   \n2        id_352     London  ['Japanese', 'Sushi', 'Asian', 'Grill', 'Veget...   \n3       id_3456     Berlin                                                NaN   \n4        id_615     Munich  ['German', 'Central European', 'Vegetarian Fri...   \n\n   Ranking  Rating Price Range  Number of Reviews  \\\n0   5570.0     3.5    $$ - $$$              194.0   \n1   1537.0     4.0         NaN               10.0   \n2    353.0     4.5        $$$$              688.0   \n3   3458.0     5.0         NaN                3.0   \n4    621.0     4.0    $$ - $$$               84.0   \n\n                                             Reviews  \\\n0  [['Good food at your doorstep', 'A good hotel ...   \n1  [['Unique cuisine', 'Delicious Nepalese food']...   \n2  [['Catch up with friends', 'Not exceptional'],...   \n3                                           [[], []]   \n4  [['Best place to try a Bavarian food', 'Nice b...   \n\n                                              URL_TA     ID_TA  \n0  /Restaurant_Review-g187147-d1912643-Reviews-R_...  d1912643  \n1  /Restaurant_Review-g189852-d7992032-Reviews-Bu...  d7992032  \n2  /Restaurant_Review-g186338-d8632781-Reviews-RO...  d8632781  \n3  /Restaurant_Review-g187323-d1358776-Reviews-Es...  d1358776  \n4  /Restaurant_Review-g187309-d6864963-Reviews-Au...  d6864963  ",
      "text/html": "<div>\n<style scoped>\n    .dataframe tbody tr th:only-of-type {\n        vertical-align: middle;\n    }\n\n    .dataframe tbody tr th {\n        vertical-align: top;\n    }\n\n    .dataframe thead th {\n        text-align: right;\n    }\n</style>\n<table border=\"1\" class=\"dataframe\">\n  <thead>\n    <tr style=\"text-align: right;\">\n      <th></th>\n      <th>Restaurant_id</th>\n      <th>City</th>\n      <th>Cuisine Style</th>\n      <th>Ranking</th>\n      <th>Rating</th>\n      <th>Price Range</th>\n      <th>Number of Reviews</th>\n      <th>Reviews</th>\n      <th>URL_TA</th>\n      <th>ID_TA</th>\n    </tr>\n  </thead>\n  <tbody>\n    <tr>\n      <th>0</th>\n      <td>id_5569</td>\n      <td>Paris</td>\n      <td>['European', 'French', 'International']</td>\n      <td>5570.0</td>\n      <td>3.5</td>\n      <td>$$ - $$$</td>\n      <td>194.0</td>\n      <td>[['Good food at your doorstep', 'A good hotel ...</td>\n      <td>/Restaurant_Review-g187147-d1912643-Reviews-R_...</td>\n      <td>d1912643</td>\n    </tr>\n    <tr>\n      <th>1</th>\n      <td>id_1535</td>\n      <td>Stockholm</td>\n      <td>NaN</td>\n      <td>1537.0</td>\n      <td>4.0</td>\n      <td>NaN</td>\n      <td>10.0</td>\n      <td>[['Unique cuisine', 'Delicious Nepalese food']...</td>\n      <td>/Restaurant_Review-g189852-d7992032-Reviews-Bu...</td>\n      <td>d7992032</td>\n    </tr>\n    <tr>\n      <th>2</th>\n      <td>id_352</td>\n      <td>London</td>\n      <td>['Japanese', 'Sushi', 'Asian', 'Grill', 'Veget...</td>\n      <td>353.0</td>\n      <td>4.5</td>\n      <td>$$$$</td>\n      <td>688.0</td>\n      <td>[['Catch up with friends', 'Not exceptional'],...</td>\n      <td>/Restaurant_Review-g186338-d8632781-Reviews-RO...</td>\n      <td>d8632781</td>\n    </tr>\n    <tr>\n      <th>3</th>\n      <td>id_3456</td>\n      <td>Berlin</td>\n      <td>NaN</td>\n      <td>3458.0</td>\n      <td>5.0</td>\n      <td>NaN</td>\n      <td>3.0</td>\n      <td>[[], []]</td>\n      <td>/Restaurant_Review-g187323-d1358776-Reviews-Es...</td>\n      <td>d1358776</td>\n    </tr>\n    <tr>\n      <th>4</th>\n      <td>id_615</td>\n      <td>Munich</td>\n      <td>['German', 'Central European', 'Vegetarian Fri...</td>\n      <td>621.0</td>\n      <td>4.0</td>\n      <td>$$ - $$$</td>\n      <td>84.0</td>\n      <td>[['Best place to try a Bavarian food', 'Nice b...</td>\n      <td>/Restaurant_Review-g187309-d6864963-Reviews-Au...</td>\n      <td>d6864963</td>\n    </tr>\n  </tbody>\n</table>\n</div>"
     },
     "metadata": {},
     "execution_count": 207
    }
   ],
   "source": [
    "df.head()"
   ]
  },
  {
   "cell_type": "code",
   "execution_count": 208,
   "metadata": {
    "tags": []
   },
   "outputs": [
    {
     "output_type": "stream",
     "name": "stdout",
     "text": "<class 'pandas.core.frame.DataFrame'>\nRangeIndex: 40000 entries, 0 to 39999\nData columns (total 10 columns):\n #   Column             Non-Null Count  Dtype  \n---  ------             --------------  -----  \n 0   Restaurant_id      40000 non-null  object \n 1   City               40000 non-null  object \n 2   Cuisine Style      30717 non-null  object \n 3   Ranking            40000 non-null  float64\n 4   Rating             40000 non-null  float64\n 5   Price Range        26114 non-null  object \n 6   Number of Reviews  37457 non-null  float64\n 7   Reviews            40000 non-null  object \n 8   URL_TA             40000 non-null  object \n 9   ID_TA              40000 non-null  object \ndtypes: float64(3), object(7)\nmemory usage: 3.1+ MB\n"
    }
   ],
   "source": [
    "df.info()"
   ]
  },
  {
   "cell_type": "markdown",
   "metadata": {},
   "source": [
    "Приведем имена колонок к нормальному виду"
   ]
  },
  {
   "cell_type": "code",
   "execution_count": 209,
   "metadata": {},
   "outputs": [],
   "source": [
    "df.columns=['restaurant_id', 'city', 'cuisine_style', 'ranking', 'rating',\n",
    "       'price_range', 'reviews_cnt', 'reviews', 'ta_url', 'ta_id']\n"
   ]
  },
  {
   "cell_type": "markdown",
   "metadata": {},
   "source": [
    "### Общие наблюдения и очистки"
   ]
  },
  {
   "cell_type": "code",
   "execution_count": 210,
   "metadata": {},
   "outputs": [
    {
     "output_type": "execute_result",
     "data": {
      "text/plain": "       restaurant_id    city cuisine_style       ranking        rating  \\\ncount          40000   40000         30717  40000.000000  40000.000000   \nunique         11909      31          9007           NaN           NaN   \ntop           id_436  London   ['Italian']           NaN           NaN   \nfreq              18    5757          1032           NaN           NaN   \nmean             NaN     NaN           NaN   3676.028525      3.993037   \nstd              NaN     NaN           NaN   3708.749567      0.668417   \nmin              NaN     NaN           NaN      1.000000      1.000000   \n25%              NaN     NaN           NaN    973.000000      3.500000   \n50%              NaN     NaN           NaN   2285.000000      4.000000   \n75%              NaN     NaN           NaN   5260.000000      4.500000   \nmax              NaN     NaN           NaN  16444.000000      5.000000   \n\n       price_range   reviews_cnt   reviews  \\\ncount        26114  37457.000000     40000   \nunique           3           NaN     33516   \ntop       $$ - $$$           NaN  [[], []]   \nfreq         18412           NaN      6471   \nmean           NaN    124.825480       NaN   \nstd            NaN    295.666352       NaN   \nmin            NaN      2.000000       NaN   \n25%            NaN      9.000000       NaN   \n50%            NaN     33.000000       NaN   \n75%            NaN    115.000000       NaN   \nmax            NaN   9660.000000       NaN   \n\n                                                   ta_url     ta_id  \ncount                                               40000     40000  \nunique                                              39980     39980  \ntop     /Restaurant_Review-g187514-d987900-Reviews-Com...  d1315077  \nfreq                                                    2         2  \nmean                                                  NaN       NaN  \nstd                                                   NaN       NaN  \nmin                                                   NaN       NaN  \n25%                                                   NaN       NaN  \n50%                                                   NaN       NaN  \n75%                                                   NaN       NaN  \nmax                                                   NaN       NaN  ",
      "text/html": "<div>\n<style scoped>\n    .dataframe tbody tr th:only-of-type {\n        vertical-align: middle;\n    }\n\n    .dataframe tbody tr th {\n        vertical-align: top;\n    }\n\n    .dataframe thead th {\n        text-align: right;\n    }\n</style>\n<table border=\"1\" class=\"dataframe\">\n  <thead>\n    <tr style=\"text-align: right;\">\n      <th></th>\n      <th>restaurant_id</th>\n      <th>city</th>\n      <th>cuisine_style</th>\n      <th>ranking</th>\n      <th>rating</th>\n      <th>price_range</th>\n      <th>reviews_cnt</th>\n      <th>reviews</th>\n      <th>ta_url</th>\n      <th>ta_id</th>\n    </tr>\n  </thead>\n  <tbody>\n    <tr>\n      <th>count</th>\n      <td>40000</td>\n      <td>40000</td>\n      <td>30717</td>\n      <td>40000.000000</td>\n      <td>40000.000000</td>\n      <td>26114</td>\n      <td>37457.000000</td>\n      <td>40000</td>\n      <td>40000</td>\n      <td>40000</td>\n    </tr>\n    <tr>\n      <th>unique</th>\n      <td>11909</td>\n      <td>31</td>\n      <td>9007</td>\n      <td>NaN</td>\n      <td>NaN</td>\n      <td>3</td>\n      <td>NaN</td>\n      <td>33516</td>\n      <td>39980</td>\n      <td>39980</td>\n    </tr>\n    <tr>\n      <th>top</th>\n      <td>id_436</td>\n      <td>London</td>\n      <td>['Italian']</td>\n      <td>NaN</td>\n      <td>NaN</td>\n      <td>$$ - $$$</td>\n      <td>NaN</td>\n      <td>[[], []]</td>\n      <td>/Restaurant_Review-g187514-d987900-Reviews-Com...</td>\n      <td>d1315077</td>\n    </tr>\n    <tr>\n      <th>freq</th>\n      <td>18</td>\n      <td>5757</td>\n      <td>1032</td>\n      <td>NaN</td>\n      <td>NaN</td>\n      <td>18412</td>\n      <td>NaN</td>\n      <td>6471</td>\n      <td>2</td>\n      <td>2</td>\n    </tr>\n    <tr>\n      <th>mean</th>\n      <td>NaN</td>\n      <td>NaN</td>\n      <td>NaN</td>\n      <td>3676.028525</td>\n      <td>3.993037</td>\n      <td>NaN</td>\n      <td>124.825480</td>\n      <td>NaN</td>\n      <td>NaN</td>\n      <td>NaN</td>\n    </tr>\n    <tr>\n      <th>std</th>\n      <td>NaN</td>\n      <td>NaN</td>\n      <td>NaN</td>\n      <td>3708.749567</td>\n      <td>0.668417</td>\n      <td>NaN</td>\n      <td>295.666352</td>\n      <td>NaN</td>\n      <td>NaN</td>\n      <td>NaN</td>\n    </tr>\n    <tr>\n      <th>min</th>\n      <td>NaN</td>\n      <td>NaN</td>\n      <td>NaN</td>\n      <td>1.000000</td>\n      <td>1.000000</td>\n      <td>NaN</td>\n      <td>2.000000</td>\n      <td>NaN</td>\n      <td>NaN</td>\n      <td>NaN</td>\n    </tr>\n    <tr>\n      <th>25%</th>\n      <td>NaN</td>\n      <td>NaN</td>\n      <td>NaN</td>\n      <td>973.000000</td>\n      <td>3.500000</td>\n      <td>NaN</td>\n      <td>9.000000</td>\n      <td>NaN</td>\n      <td>NaN</td>\n      <td>NaN</td>\n    </tr>\n    <tr>\n      <th>50%</th>\n      <td>NaN</td>\n      <td>NaN</td>\n      <td>NaN</td>\n      <td>2285.000000</td>\n      <td>4.000000</td>\n      <td>NaN</td>\n      <td>33.000000</td>\n      <td>NaN</td>\n      <td>NaN</td>\n      <td>NaN</td>\n    </tr>\n    <tr>\n      <th>75%</th>\n      <td>NaN</td>\n      <td>NaN</td>\n      <td>NaN</td>\n      <td>5260.000000</td>\n      <td>4.500000</td>\n      <td>NaN</td>\n      <td>115.000000</td>\n      <td>NaN</td>\n      <td>NaN</td>\n      <td>NaN</td>\n    </tr>\n    <tr>\n      <th>max</th>\n      <td>NaN</td>\n      <td>NaN</td>\n      <td>NaN</td>\n      <td>16444.000000</td>\n      <td>5.000000</td>\n      <td>NaN</td>\n      <td>9660.000000</td>\n      <td>NaN</td>\n      <td>NaN</td>\n      <td>NaN</td>\n    </tr>\n  </tbody>\n</table>\n</div>"
     },
     "metadata": {},
     "execution_count": 210
    }
   ],
   "source": [
    "df.describe(include='all')"
   ]
  },
  {
   "cell_type": "markdown",
   "metadata": {},
   "source": [
    "Есть неуникальные _restaurant_id_ и _ta_id_"
   ]
  },
  {
   "cell_type": "code",
   "execution_count": 217,
   "metadata": {},
   "outputs": [
    {
     "output_type": "execute_result",
     "data": {
      "text/plain": "     restaurant_id        city  \\\n2955        id_436   Barcelona   \n4674        id_436  Copenhagen   \n6118        id_436      Oporto   \n\n                                          cuisine_style  ranking  rating  \\\n2955  ['Seafood', 'Mediterranean', 'Spanish', 'Glute...    437.0     4.5   \n4674  ['European', 'Spanish', 'Mediterranean', 'Vege...    437.0     4.0   \n6118  ['European', 'Portuguese', 'Soups', 'Cafe', 'V...    437.0     4.5   \n\n     price_range  reviews_cnt  \\\n2955    $$ - $$$        546.0   \n4674    $$ - $$$         89.0   \n6118           $         71.0   \n\n                                                reviews  \\\n2955  [['Fresh Fish', 'Perfect concept'], ['01/03/20...   \n4674  [['Lovely restaurant', 'Great atmosphere and g...   \n6118  [['Super nice healthy and good', 'Great lunch ...   \n\n                                                 ta_url     ta_id  \n2955  /Restaurant_Review-g187497-d1592613-Reviews-La...  d1592613  \n4674  /Restaurant_Review-g189541-d8738362-Reviews-To...  d8738362  \n6118  /Restaurant_Review-g189180-d9463122-Reviews-Ca...  d9463122  ",
      "text/html": "<div>\n<style scoped>\n    .dataframe tbody tr th:only-of-type {\n        vertical-align: middle;\n    }\n\n    .dataframe tbody tr th {\n        vertical-align: top;\n    }\n\n    .dataframe thead th {\n        text-align: right;\n    }\n</style>\n<table border=\"1\" class=\"dataframe\">\n  <thead>\n    <tr style=\"text-align: right;\">\n      <th></th>\n      <th>restaurant_id</th>\n      <th>city</th>\n      <th>cuisine_style</th>\n      <th>ranking</th>\n      <th>rating</th>\n      <th>price_range</th>\n      <th>reviews_cnt</th>\n      <th>reviews</th>\n      <th>ta_url</th>\n      <th>ta_id</th>\n    </tr>\n  </thead>\n  <tbody>\n    <tr>\n      <th>2955</th>\n      <td>id_436</td>\n      <td>Barcelona</td>\n      <td>['Seafood', 'Mediterranean', 'Spanish', 'Glute...</td>\n      <td>437.0</td>\n      <td>4.5</td>\n      <td>$$ - $$$</td>\n      <td>546.0</td>\n      <td>[['Fresh Fish', 'Perfect concept'], ['01/03/20...</td>\n      <td>/Restaurant_Review-g187497-d1592613-Reviews-La...</td>\n      <td>d1592613</td>\n    </tr>\n    <tr>\n      <th>4674</th>\n      <td>id_436</td>\n      <td>Copenhagen</td>\n      <td>['European', 'Spanish', 'Mediterranean', 'Vege...</td>\n      <td>437.0</td>\n      <td>4.0</td>\n      <td>$$ - $$$</td>\n      <td>89.0</td>\n      <td>[['Lovely restaurant', 'Great atmosphere and g...</td>\n      <td>/Restaurant_Review-g189541-d8738362-Reviews-To...</td>\n      <td>d8738362</td>\n    </tr>\n    <tr>\n      <th>6118</th>\n      <td>id_436</td>\n      <td>Oporto</td>\n      <td>['European', 'Portuguese', 'Soups', 'Cafe', 'V...</td>\n      <td>437.0</td>\n      <td>4.5</td>\n      <td>$</td>\n      <td>71.0</td>\n      <td>[['Super nice healthy and good', 'Great lunch ...</td>\n      <td>/Restaurant_Review-g189180-d9463122-Reviews-Ca...</td>\n      <td>d9463122</td>\n    </tr>\n  </tbody>\n</table>\n</div>"
     },
     "metadata": {},
     "execution_count": 217
    }
   ],
   "source": [
    "df[df.restaurant_id==df.restaurant_id.value_counts().index[0]].head(3)\n",
    "\n"
   ]
  },
  {
   "cell_type": "markdown",
   "metadata": {},
   "source": [
    "Одинаковый _restaurant_id_ встречается в разных городах и имеет разный _ta_id_. Удалим эту колонку."
   ]
  },
  {
   "cell_type": "code",
   "execution_count": 221,
   "metadata": {},
   "outputs": [],
   "source": [
    "df.drop([\"restaurant_id\"], axis=1, inplace=True)"
   ]
  },
  {
   "cell_type": "code",
   "execution_count": 231,
   "metadata": {
    "tags": []
   },
   "outputs": [
    {
     "output_type": "stream",
     "name": "stdout",
     "text": "city  \\\n10439  Madrid   \n25785  Madrid   \n\n                                                                    cuisine_style  \\\n10439  ['Mediterranean', 'Spanish', 'Vegetarian Friendly', 'Gluten Free Options']   \n25785  ['Mediterranean', 'Spanish', 'Vegetarian Friendly', 'Gluten Free Options']   \n\n       ranking  rating price_range  reviews_cnt  \\\n10439  469.0    4.0     $$ - $$$    355.0         \n25785  512.0    4.0     $$ - $$$    355.0         \n\n                                                                                       reviews  \\\n10439  [['Very good all around', 'Our first Madrid restaurant'], ['11/20/2017', '10/11/2017']]   \n25785  [['Very good all around', 'Our first Madrid restaurant'], ['11/20/2017', '10/11/2017']]   \n\n                                                                          ta_url  \\\n10439  /Restaurant_Review-g187514-d1315077-Reviews-El_Pimiento_Verde-Madrid.html   \n25785  /Restaurant_Review-g187514-d1315077-Reviews-El_Pimiento_Verde-Madrid.html   \n\n          ta_id  \n10439  d1315077  \n25785  d1315077  \n"
    }
   ],
   "source": [
    "with pd.option_context('display.max_colwidth', -1):\n",
    "    print(df[df.ta_id==df.ta_id.value_counts().index[0]].head(3))"
   ]
  },
  {
   "cell_type": "markdown",
   "metadata": {},
   "source": [
    "Судя по-всему дублирующиеся _ta_id_ отличаются только по _ranking_. Попробуем сгрупировать, при этом ранк возьмется случайно, что не страшно, т.к. дублей всего 20"
   ]
  },
  {
   "cell_type": "code",
   "execution_count": 237,
   "metadata": {
    "tags": []
   },
   "outputs": [
    {
     "output_type": "stream",
     "name": "stdout",
     "text": "<class 'pandas.core.frame.DataFrame'>\nRangeIndex: 39980 entries, 0 to 39979\nData columns (total 9 columns):\n #   Column         Non-Null Count  Dtype  \n---  ------         --------------  -----  \n 0   city           39980 non-null  object \n 1   cuisine_style  30701 non-null  object \n 2   ranking        39980 non-null  float64\n 3   rating         39980 non-null  float64\n 4   price_range    26101 non-null  object \n 5   reviews_cnt    37437 non-null  float64\n 6   reviews        39980 non-null  object \n 7   ta_url         39980 non-null  object \n 8   ta_id          39980 non-null  object \ndtypes: float64(3), object(6)\nmemory usage: 2.7+ MB\n"
    }
   ],
   "source": [
    "df.drop_duplicates(subset=['city', 'cuisine_style', 'rating','price_range', 'reviews_cnt', 'reviews', 'ta_url', 'ta_id'], inplace=True, ignore_index=True)\n",
    "df.info()"
   ]
  },
  {
   "cell_type": "markdown",
   "metadata": {},
   "source": [
    "Теперь количество строк совпадает с уникальными значениями _ta_id_ т.е. его можно использовать как первичный ключ для дальнейших очисток"
   ]
  },
  {
   "cell_type": "markdown",
   "metadata": {},
   "source": [
    "### Исследование  price_range"
   ]
  },
  {
   "cell_type": "code",
   "execution_count": 238,
   "metadata": {
    "tags": []
   },
   "outputs": [
    {
     "output_type": "execute_result",
     "data": {
      "text/plain": "$$ - $$$    18402\n$            6276\n$$$$         1423\nName: price_range, dtype: int64"
     },
     "metadata": {},
     "execution_count": 238
    }
   ],
   "source": [
    "df.price_range.value_counts()"
   ]
  },
  {
   "cell_type": "markdown",
   "metadata": {},
   "source": [
    "Это ординальный признак, но есть пропуски. Преобразуем в числа."
   ]
  },
  {
   "cell_type": "code",
   "execution_count": null,
   "metadata": {},
   "outputs": [],
   "source": [
    "dct = {'$$ - $$$': 2, '$': 1, '$$$$': 3}\n",
    "df.price_range.replace(to_replace=dct)"
   ]
  },
  {
   "cell_type": "markdown",
   "metadata": {},
   "source": [
    "### Исследование и очистка city"
   ]
  },
  {
   "cell_type": "code",
   "execution_count": 239,
   "metadata": {},
   "outputs": [
    {
     "output_type": "execute_result",
     "data": {
      "text/plain": "count      39980\nunique        31\ntop       London\nfreq        5757\nName: city, dtype: object"
     },
     "metadata": {},
     "execution_count": 239
    }
   ],
   "source": [
    "df.city.describe()"
   ]
  },
  {
   "cell_type": "markdown",
   "metadata": {},
   "source": [
    "### Исследование и очистка cuisine"
   ]
  },
  {
   "cell_type": "markdown",
   "metadata": {},
   "source": [
    "Сделаем вспомогательный датафрейм"
   ]
  },
  {
   "cell_type": "code",
   "execution_count": 241,
   "metadata": {},
   "outputs": [],
   "source": [
    "cuisines = df[[\"ta_id\",\"cuisine_style\"]]"
   ]
  },
  {
   "cell_type": "code",
   "execution_count": 242,
   "metadata": {},
   "outputs": [],
   "source": [
    "import json\n",
    "cuisines.cuisine_style.fillna('[\"Unknown\"]', inplace=True)\n",
    "cuisines.cuisine_style = cuisines.cuisine_style.apply(lambda c: json.loads(c.replace('\\'','\\\"')))"
   ]
  },
  {
   "cell_type": "markdown",
   "metadata": {},
   "source": [
    "Преобразуем массив кухонь в отдельный ряд на кухню для каждого ресторана"
   ]
  },
  {
   "cell_type": "code",
   "execution_count": 243,
   "metadata": {},
   "outputs": [
    {
     "output_type": "execute_result",
     "data": {
      "text/plain": "           ta_id        cuisine_style\ncount     104843               104843\nunique     39980                  126\ntop     d7231902  Vegetarian Friendly\nfreq          21                11183",
      "text/html": "<div>\n<style scoped>\n    .dataframe tbody tr th:only-of-type {\n        vertical-align: middle;\n    }\n\n    .dataframe tbody tr th {\n        vertical-align: top;\n    }\n\n    .dataframe thead th {\n        text-align: right;\n    }\n</style>\n<table border=\"1\" class=\"dataframe\">\n  <thead>\n    <tr style=\"text-align: right;\">\n      <th></th>\n      <th>ta_id</th>\n      <th>cuisine_style</th>\n    </tr>\n  </thead>\n  <tbody>\n    <tr>\n      <th>count</th>\n      <td>104843</td>\n      <td>104843</td>\n    </tr>\n    <tr>\n      <th>unique</th>\n      <td>39980</td>\n      <td>126</td>\n    </tr>\n    <tr>\n      <th>top</th>\n      <td>d7231902</td>\n      <td>Vegetarian Friendly</td>\n    </tr>\n    <tr>\n      <th>freq</th>\n      <td>21</td>\n      <td>11183</td>\n    </tr>\n  </tbody>\n</table>\n</div>"
     },
     "metadata": {},
     "execution_count": 243
    }
   ],
   "source": [
    "cuisines = cuisines.explode(\"cuisine_style\")\n",
    "cuisines.describe()"
   ]
  },
  {
   "cell_type": "markdown",
   "metadata": {},
   "source": [
    "Число уникальных кухонь - 126, но без учета добавленной Unknown - 125\n",
    "\n",
    "Самые популярные кухни:"
   ]
  },
  {
   "cell_type": "code",
   "execution_count": 244,
   "metadata": {},
   "outputs": [
    {
     "output_type": "execute_result",
     "data": {
      "text/plain": "Vegetarian Friendly    11183\nEuropean               10056\nUnknown                 9279\nMediterranean           6271\nItalian                 5963\n                       ...  \nSalvadoran                 1\nYunnan                     1\nBurmese                    1\nLatvian                    1\nXinjiang                   1\nName: cuisine_style, Length: 126, dtype: int64"
     },
     "metadata": {},
     "execution_count": 244
    }
   ],
   "source": [
    "cuisines.cuisine_style.value_counts()\n"
   ]
  },
  {
   "cell_type": "markdown",
   "metadata": {},
   "source": [
    "Среднее число кухонь на ресторан:"
   ]
  },
  {
   "cell_type": "code",
   "execution_count": 245,
   "metadata": {},
   "outputs": [
    {
     "output_type": "execute_result",
     "data": {
      "text/plain": "ta_id            1.000000\ncuisine_style    2.622386\ndtype: float64"
     },
     "metadata": {},
     "execution_count": 245
    }
   ],
   "source": [
    "cuisines.groupby(\"ta_id\").nunique().mean()"
   ]
  },
  {
   "cell_type": "code",
   "execution_count": null,
   "metadata": {},
   "outputs": [],
   "source": [
    "Число уникальных "
   ]
  },
  {
   "cell_type": "code",
   "execution_count": 51,
   "metadata": {
    "tags": []
   },
   "outputs": [
    {
     "output_type": "execute_result",
     "data": {
      "text/plain": "       Ranking  Rating  Number of Reviews\n0       5570.0     3.5              194.0\n1       1537.0     4.0               10.0\n2        353.0     4.5              688.0\n3       3458.0     5.0                3.0\n4        621.0     4.0               84.0\n...        ...     ...                ...\n39995    500.0     4.5               79.0\n39996   6341.0     3.5              542.0\n39997   1652.0     4.5                4.0\n39998    641.0     4.0               70.0\n39999   4827.0     3.0              260.0\n\n[40000 rows x 3 columns]",
      "text/html": "<div>\n<style scoped>\n    .dataframe tbody tr th:only-of-type {\n        vertical-align: middle;\n    }\n\n    .dataframe tbody tr th {\n        vertical-align: top;\n    }\n\n    .dataframe thead th {\n        text-align: right;\n    }\n</style>\n<table border=\"1\" class=\"dataframe\">\n  <thead>\n    <tr style=\"text-align: right;\">\n      <th></th>\n      <th>Ranking</th>\n      <th>Rating</th>\n      <th>Number of Reviews</th>\n    </tr>\n  </thead>\n  <tbody>\n    <tr>\n      <th>0</th>\n      <td>5570.0</td>\n      <td>3.5</td>\n      <td>194.0</td>\n    </tr>\n    <tr>\n      <th>1</th>\n      <td>1537.0</td>\n      <td>4.0</td>\n      <td>10.0</td>\n    </tr>\n    <tr>\n      <th>2</th>\n      <td>353.0</td>\n      <td>4.5</td>\n      <td>688.0</td>\n    </tr>\n    <tr>\n      <th>3</th>\n      <td>3458.0</td>\n      <td>5.0</td>\n      <td>3.0</td>\n    </tr>\n    <tr>\n      <th>4</th>\n      <td>621.0</td>\n      <td>4.0</td>\n      <td>84.0</td>\n    </tr>\n    <tr>\n      <th>...</th>\n      <td>...</td>\n      <td>...</td>\n      <td>...</td>\n    </tr>\n    <tr>\n      <th>39995</th>\n      <td>500.0</td>\n      <td>4.5</td>\n      <td>79.0</td>\n    </tr>\n    <tr>\n      <th>39996</th>\n      <td>6341.0</td>\n      <td>3.5</td>\n      <td>542.0</td>\n    </tr>\n    <tr>\n      <th>39997</th>\n      <td>1652.0</td>\n      <td>4.5</td>\n      <td>4.0</td>\n    </tr>\n    <tr>\n      <th>39998</th>\n      <td>641.0</td>\n      <td>4.0</td>\n      <td>70.0</td>\n    </tr>\n    <tr>\n      <th>39999</th>\n      <td>4827.0</td>\n      <td>3.0</td>\n      <td>260.0</td>\n    </tr>\n  </tbody>\n</table>\n<p>40000 rows × 3 columns</p>\n</div>"
     },
     "metadata": {},
     "execution_count": 51
    }
   ],
   "source": [
    "#df = df.drop([c for c in df.columns if df[c].dtype == 'object'], axis = 1) # Drop non-numbers\n",
    "#df\n"
   ]
  },
  {
   "cell_type": "code",
   "execution_count": 50,
   "metadata": {
    "tags": []
   },
   "outputs": [
    {
     "output_type": "stream",
     "name": "stdout",
     "text": "<class 'pandas.core.frame.DataFrame'>\nRangeIndex: 40000 entries, 0 to 39999\nData columns (total 3 columns):\n #   Column             Non-Null Count  Dtype  \n---  ------             --------------  -----  \n 0   Ranking            40000 non-null  float64\n 1   Rating             40000 non-null  float64\n 2   Number of Reviews  40000 non-null  float64\ndtypes: float64(3)\nmemory usage: 937.6 KB\n"
    }
   ],
   "source": []
  },
  {
   "cell_type": "code",
   "execution_count": 42,
   "metadata": {},
   "outputs": [],
   "source": [
    "#df[\"Number of Reviews\"].fillna(df[\"Number of Reviews\"].median(), inplace=True)"
   ]
  },
  {
   "cell_type": "markdown",
   "metadata": {},
   "source": [
    "# Разбиваем датафрейм на части, необходимые для обучения и тестирования модели"
   ]
  },
  {
   "cell_type": "code",
   "execution_count": 44,
   "metadata": {},
   "outputs": [],
   "source": [
    "# Х - данные с информацией о ресторанах, у - целевая переменная (рейтинги ресторанов)\n",
    "#X = df.drop(['Restaurant_id', 'Rating'], axis = 1)\n",
    "X = df.drop([ 'Rating'], axis = 1)\n",
    "y = df['Rating']"
   ]
  },
  {
   "cell_type": "code",
   "execution_count": 45,
   "metadata": {},
   "outputs": [],
   "source": [
    "# Загружаем специальный инструмент для разбивки:\n",
    "from sklearn.model_selection import train_test_split"
   ]
  },
  {
   "cell_type": "code",
   "execution_count": 46,
   "metadata": {},
   "outputs": [],
   "source": [
    "# Наборы данных с меткой \"train\" будут использоваться для обучения модели, \"test\" - для тестирования.\n",
    "# Для тестирования мы будем использовать 25% от исходного датасета.\n",
    "X_train, X_test, y_train, y_test = train_test_split(X, y, test_size=0.25)"
   ]
  },
  {
   "cell_type": "markdown",
   "metadata": {},
   "source": [
    "# Создаём, обучаем и тестируем модель"
   ]
  },
  {
   "cell_type": "code",
   "execution_count": 47,
   "metadata": {},
   "outputs": [],
   "source": [
    "# Импортируем необходимые библиотеки:\n",
    "from sklearn.ensemble import RandomForestRegressor # инструмент для создания и обучения модели\n",
    "from sklearn import metrics # инструменты для оценки точности модели"
   ]
  },
  {
   "cell_type": "code",
   "execution_count": 48,
   "metadata": {},
   "outputs": [],
   "source": [
    "# Создаём модель\n",
    "regr = RandomForestRegressor(n_estimators=100)\n",
    "\n",
    "# Обучаем модель на тестовом наборе данных\n",
    "regr.fit(X_train, y_train)\n",
    "\n",
    "# Используем обученную модель для предсказания рейтинга ресторанов в тестовой выборке.\n",
    "# Предсказанные значения записываем в переменную y_pred\n",
    "y_pred = regr.predict(X_test)"
   ]
  },
  {
   "cell_type": "code",
   "execution_count": 49,
   "metadata": {
    "tags": []
   },
   "outputs": [
    {
     "output_type": "stream",
     "name": "stdout",
     "text": "MAE: 0.43664873607503607\n"
    }
   ],
   "source": [
    "# Сравниваем предсказанные значения (y_pred) с реальными (y_test), и смотрим насколько они в среднем отличаются\n",
    "# Метрика называется Mean Absolute Error (MAE) и показывает среднее отклонение предсказанных значений от фактических.\n",
    "print('MAE:', metrics.mean_absolute_error(y_test, y_pred))"
   ]
  },
  {
   "cell_type": "code",
   "execution_count": null,
   "metadata": {},
   "outputs": [],
   "source": []
  }
 ],
 "metadata": {
  "kernelspec": {
   "display_name": "Python 3",
   "language": "python",
   "name": "python3"
  },
  "language_info": {
   "codemirror_mode": {
    "name": "ipython",
    "version": 3
   },
   "file_extension": ".py",
   "mimetype": "text/x-python",
   "name": "python",
   "nbconvert_exporter": "python",
   "pygments_lexer": "ipython3",
   "version": "3.7.7-final"
  }
 },
 "nbformat": 4,
 "nbformat_minor": 2
}