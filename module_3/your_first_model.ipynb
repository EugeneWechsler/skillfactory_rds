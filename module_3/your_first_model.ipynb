{
 "cells": [
  {
   "cell_type": "markdown",
   "metadata": {},
   "source": [
    "# Загрузка Pandas и очистка данных"
   ]
  },
  {
   "cell_type": "code",
   "execution_count": 197,
   "metadata": {},
   "outputs": [],
   "source": [
    "import pandas as pd\n",
    "import numpy as np"
   ]
  },
  {
   "cell_type": "code",
   "execution_count": 198,
   "metadata": {},
   "outputs": [],
   "source": [
    "df = pd.read_csv('main_task.csv')"
   ]
  },
  {
   "cell_type": "code",
   "execution_count": 199,
   "metadata": {},
   "outputs": [
    {
     "output_type": "execute_result",
     "data": {
      "text/plain": "  Restaurant_id       City                                      Cuisine Style  \\\n0       id_5569      Paris            ['European', 'French', 'International']   \n1       id_1535  Stockholm                                                NaN   \n2        id_352     London  ['Japanese', 'Sushi', 'Asian', 'Grill', 'Veget...   \n3       id_3456     Berlin                                                NaN   \n4        id_615     Munich  ['German', 'Central European', 'Vegetarian Fri...   \n\n   Ranking  Rating Price Range  Number of Reviews  \\\n0   5570.0     3.5    $$ - $$$              194.0   \n1   1537.0     4.0         NaN               10.0   \n2    353.0     4.5        $$$$              688.0   \n3   3458.0     5.0         NaN                3.0   \n4    621.0     4.0    $$ - $$$               84.0   \n\n                                             Reviews  \\\n0  [['Good food at your doorstep', 'A good hotel ...   \n1  [['Unique cuisine', 'Delicious Nepalese food']...   \n2  [['Catch up with friends', 'Not exceptional'],...   \n3                                           [[], []]   \n4  [['Best place to try a Bavarian food', 'Nice b...   \n\n                                              URL_TA     ID_TA  \n0  /Restaurant_Review-g187147-d1912643-Reviews-R_...  d1912643  \n1  /Restaurant_Review-g189852-d7992032-Reviews-Bu...  d7992032  \n2  /Restaurant_Review-g186338-d8632781-Reviews-RO...  d8632781  \n3  /Restaurant_Review-g187323-d1358776-Reviews-Es...  d1358776  \n4  /Restaurant_Review-g187309-d6864963-Reviews-Au...  d6864963  ",
      "text/html": "<div>\n<style scoped>\n    .dataframe tbody tr th:only-of-type {\n        vertical-align: middle;\n    }\n\n    .dataframe tbody tr th {\n        vertical-align: top;\n    }\n\n    .dataframe thead th {\n        text-align: right;\n    }\n</style>\n<table border=\"1\" class=\"dataframe\">\n  <thead>\n    <tr style=\"text-align: right;\">\n      <th></th>\n      <th>Restaurant_id</th>\n      <th>City</th>\n      <th>Cuisine Style</th>\n      <th>Ranking</th>\n      <th>Rating</th>\n      <th>Price Range</th>\n      <th>Number of Reviews</th>\n      <th>Reviews</th>\n      <th>URL_TA</th>\n      <th>ID_TA</th>\n    </tr>\n  </thead>\n  <tbody>\n    <tr>\n      <th>0</th>\n      <td>id_5569</td>\n      <td>Paris</td>\n      <td>['European', 'French', 'International']</td>\n      <td>5570.0</td>\n      <td>3.5</td>\n      <td>$$ - $$$</td>\n      <td>194.0</td>\n      <td>[['Good food at your doorstep', 'A good hotel ...</td>\n      <td>/Restaurant_Review-g187147-d1912643-Reviews-R_...</td>\n      <td>d1912643</td>\n    </tr>\n    <tr>\n      <th>1</th>\n      <td>id_1535</td>\n      <td>Stockholm</td>\n      <td>NaN</td>\n      <td>1537.0</td>\n      <td>4.0</td>\n      <td>NaN</td>\n      <td>10.0</td>\n      <td>[['Unique cuisine', 'Delicious Nepalese food']...</td>\n      <td>/Restaurant_Review-g189852-d7992032-Reviews-Bu...</td>\n      <td>d7992032</td>\n    </tr>\n    <tr>\n      <th>2</th>\n      <td>id_352</td>\n      <td>London</td>\n      <td>['Japanese', 'Sushi', 'Asian', 'Grill', 'Veget...</td>\n      <td>353.0</td>\n      <td>4.5</td>\n      <td>$$$$</td>\n      <td>688.0</td>\n      <td>[['Catch up with friends', 'Not exceptional'],...</td>\n      <td>/Restaurant_Review-g186338-d8632781-Reviews-RO...</td>\n      <td>d8632781</td>\n    </tr>\n    <tr>\n      <th>3</th>\n      <td>id_3456</td>\n      <td>Berlin</td>\n      <td>NaN</td>\n      <td>3458.0</td>\n      <td>5.0</td>\n      <td>NaN</td>\n      <td>3.0</td>\n      <td>[[], []]</td>\n      <td>/Restaurant_Review-g187323-d1358776-Reviews-Es...</td>\n      <td>d1358776</td>\n    </tr>\n    <tr>\n      <th>4</th>\n      <td>id_615</td>\n      <td>Munich</td>\n      <td>['German', 'Central European', 'Vegetarian Fri...</td>\n      <td>621.0</td>\n      <td>4.0</td>\n      <td>$$ - $$$</td>\n      <td>84.0</td>\n      <td>[['Best place to try a Bavarian food', 'Nice b...</td>\n      <td>/Restaurant_Review-g187309-d6864963-Reviews-Au...</td>\n      <td>d6864963</td>\n    </tr>\n  </tbody>\n</table>\n</div>"
     },
     "metadata": {},
     "execution_count": 199
    }
   ],
   "source": [
    "df.head()"
   ]
  },
  {
   "cell_type": "code",
   "execution_count": 200,
   "metadata": {
    "tags": []
   },
   "outputs": [
    {
     "output_type": "stream",
     "name": "stdout",
     "text": "<class 'pandas.core.frame.DataFrame'>\nRangeIndex: 40000 entries, 0 to 39999\nData columns (total 10 columns):\n #   Column             Non-Null Count  Dtype  \n---  ------             --------------  -----  \n 0   Restaurant_id      40000 non-null  object \n 1   City               40000 non-null  object \n 2   Cuisine Style      30717 non-null  object \n 3   Ranking            40000 non-null  float64\n 4   Rating             40000 non-null  float64\n 5   Price Range        26114 non-null  object \n 6   Number of Reviews  37457 non-null  float64\n 7   Reviews            40000 non-null  object \n 8   URL_TA             40000 non-null  object \n 9   ID_TA              40000 non-null  object \ndtypes: float64(3), object(7)\nmemory usage: 3.1+ MB\n"
    }
   ],
   "source": [
    "df.info()"
   ]
  },
  {
   "cell_type": "markdown",
   "metadata": {},
   "source": [
    "Приведем имена колонок к нормальному виду"
   ]
  },
  {
   "cell_type": "code",
   "execution_count": 201,
   "metadata": {},
   "outputs": [],
   "source": [
    "df.columns=['restaurant_id', 'city', 'cuisine_style', 'ranking', 'rating',\n",
    "       'price_range', 'reviews_cnt', 'reviews', 'ta_url', 'ta_id']\n"
   ]
  },
  {
   "cell_type": "markdown",
   "metadata": {},
   "source": [
    "### Общие наблюдения и очистки"
   ]
  },
  {
   "cell_type": "code",
   "execution_count": 202,
   "metadata": {},
   "outputs": [
    {
     "output_type": "execute_result",
     "data": {
      "text/plain": "       restaurant_id    city cuisine_style       ranking        rating  \\\ncount          40000   40000         30717  40000.000000  40000.000000   \nunique         11909      31          9007           NaN           NaN   \ntop           id_227  London   ['Italian']           NaN           NaN   \nfreq              18    5757          1032           NaN           NaN   \nmean             NaN     NaN           NaN   3676.028525      3.993037   \nstd              NaN     NaN           NaN   3708.749567      0.668417   \nmin              NaN     NaN           NaN      1.000000      1.000000   \n25%              NaN     NaN           NaN    973.000000      3.500000   \n50%              NaN     NaN           NaN   2285.000000      4.000000   \n75%              NaN     NaN           NaN   5260.000000      4.500000   \nmax              NaN     NaN           NaN  16444.000000      5.000000   \n\n       price_range   reviews_cnt   reviews  \\\ncount        26114  37457.000000     40000   \nunique           3           NaN     33516   \ntop       $$ - $$$           NaN  [[], []]   \nfreq         18412           NaN      6471   \nmean           NaN    124.825480       NaN   \nstd            NaN    295.666352       NaN   \nmin            NaN      2.000000       NaN   \n25%            NaN      9.000000       NaN   \n50%            NaN     33.000000       NaN   \n75%            NaN    115.000000       NaN   \nmax            NaN   9660.000000       NaN   \n\n                                                   ta_url     ta_id  \ncount                                               40000     40000  \nunique                                              39980     39980  \ntop     /Restaurant_Review-g187514-d7809594-Reviews-La...  d7342803  \nfreq                                                    2         2  \nmean                                                  NaN       NaN  \nstd                                                   NaN       NaN  \nmin                                                   NaN       NaN  \n25%                                                   NaN       NaN  \n50%                                                   NaN       NaN  \n75%                                                   NaN       NaN  \nmax                                                   NaN       NaN  ",
      "text/html": "<div>\n<style scoped>\n    .dataframe tbody tr th:only-of-type {\n        vertical-align: middle;\n    }\n\n    .dataframe tbody tr th {\n        vertical-align: top;\n    }\n\n    .dataframe thead th {\n        text-align: right;\n    }\n</style>\n<table border=\"1\" class=\"dataframe\">\n  <thead>\n    <tr style=\"text-align: right;\">\n      <th></th>\n      <th>restaurant_id</th>\n      <th>city</th>\n      <th>cuisine_style</th>\n      <th>ranking</th>\n      <th>rating</th>\n      <th>price_range</th>\n      <th>reviews_cnt</th>\n      <th>reviews</th>\n      <th>ta_url</th>\n      <th>ta_id</th>\n    </tr>\n  </thead>\n  <tbody>\n    <tr>\n      <th>count</th>\n      <td>40000</td>\n      <td>40000</td>\n      <td>30717</td>\n      <td>40000.000000</td>\n      <td>40000.000000</td>\n      <td>26114</td>\n      <td>37457.000000</td>\n      <td>40000</td>\n      <td>40000</td>\n      <td>40000</td>\n    </tr>\n    <tr>\n      <th>unique</th>\n      <td>11909</td>\n      <td>31</td>\n      <td>9007</td>\n      <td>NaN</td>\n      <td>NaN</td>\n      <td>3</td>\n      <td>NaN</td>\n      <td>33516</td>\n      <td>39980</td>\n      <td>39980</td>\n    </tr>\n    <tr>\n      <th>top</th>\n      <td>id_227</td>\n      <td>London</td>\n      <td>['Italian']</td>\n      <td>NaN</td>\n      <td>NaN</td>\n      <td>$$ - $$$</td>\n      <td>NaN</td>\n      <td>[[], []]</td>\n      <td>/Restaurant_Review-g187514-d7809594-Reviews-La...</td>\n      <td>d7342803</td>\n    </tr>\n    <tr>\n      <th>freq</th>\n      <td>18</td>\n      <td>5757</td>\n      <td>1032</td>\n      <td>NaN</td>\n      <td>NaN</td>\n      <td>18412</td>\n      <td>NaN</td>\n      <td>6471</td>\n      <td>2</td>\n      <td>2</td>\n    </tr>\n    <tr>\n      <th>mean</th>\n      <td>NaN</td>\n      <td>NaN</td>\n      <td>NaN</td>\n      <td>3676.028525</td>\n      <td>3.993037</td>\n      <td>NaN</td>\n      <td>124.825480</td>\n      <td>NaN</td>\n      <td>NaN</td>\n      <td>NaN</td>\n    </tr>\n    <tr>\n      <th>std</th>\n      <td>NaN</td>\n      <td>NaN</td>\n      <td>NaN</td>\n      <td>3708.749567</td>\n      <td>0.668417</td>\n      <td>NaN</td>\n      <td>295.666352</td>\n      <td>NaN</td>\n      <td>NaN</td>\n      <td>NaN</td>\n    </tr>\n    <tr>\n      <th>min</th>\n      <td>NaN</td>\n      <td>NaN</td>\n      <td>NaN</td>\n      <td>1.000000</td>\n      <td>1.000000</td>\n      <td>NaN</td>\n      <td>2.000000</td>\n      <td>NaN</td>\n      <td>NaN</td>\n      <td>NaN</td>\n    </tr>\n    <tr>\n      <th>25%</th>\n      <td>NaN</td>\n      <td>NaN</td>\n      <td>NaN</td>\n      <td>973.000000</td>\n      <td>3.500000</td>\n      <td>NaN</td>\n      <td>9.000000</td>\n      <td>NaN</td>\n      <td>NaN</td>\n      <td>NaN</td>\n    </tr>\n    <tr>\n      <th>50%</th>\n      <td>NaN</td>\n      <td>NaN</td>\n      <td>NaN</td>\n      <td>2285.000000</td>\n      <td>4.000000</td>\n      <td>NaN</td>\n      <td>33.000000</td>\n      <td>NaN</td>\n      <td>NaN</td>\n      <td>NaN</td>\n    </tr>\n    <tr>\n      <th>75%</th>\n      <td>NaN</td>\n      <td>NaN</td>\n      <td>NaN</td>\n      <td>5260.000000</td>\n      <td>4.500000</td>\n      <td>NaN</td>\n      <td>115.000000</td>\n      <td>NaN</td>\n      <td>NaN</td>\n      <td>NaN</td>\n    </tr>\n    <tr>\n      <th>max</th>\n      <td>NaN</td>\n      <td>NaN</td>\n      <td>NaN</td>\n      <td>16444.000000</td>\n      <td>5.000000</td>\n      <td>NaN</td>\n      <td>9660.000000</td>\n      <td>NaN</td>\n      <td>NaN</td>\n      <td>NaN</td>\n    </tr>\n  </tbody>\n</table>\n</div>"
     },
     "metadata": {},
     "execution_count": 202
    }
   ],
   "source": [
    "df.describe(include='all')"
   ]
  },
  {
   "cell_type": "markdown",
   "metadata": {},
   "source": [
    "Есть неуникальные _restaurant_id_ и _ta_id_"
   ]
  },
  {
   "cell_type": "code",
   "execution_count": 203,
   "metadata": {},
   "outputs": [
    {
     "output_type": "execute_result",
     "data": {
      "text/plain": "     restaurant_id        city  \\\n1065        id_227  Luxembourg   \n4727        id_227  Bratislava   \n6237        id_227      Athens   \n\n                                          cuisine_style  ranking  rating  \\\n1065  ['Lebanese', 'Mediterranean', 'Middle Eastern'...    228.0     4.0   \n4727  ['Healthy', 'European', 'Mediterranean', 'Vege...    228.0     4.0   \n6237             ['European', 'Greek', 'Mediterranean']    228.0     4.5   \n\n     price_range  reviews_cnt  \\\n1065    $$ - $$$         21.0   \n4727    $$ - $$$        122.0   \n6237    $$ - $$$        220.0   \n\n                                                reviews  \\\n1065  [['Nice little Lebanese restaurant', 'Great fo...   \n4727  [['Great fish (African sharptooth catfish)', '...   \n6237  [['Spectacular view and food', 'Great view'], ...   \n\n                                                 ta_url      ta_id  \n1065  /Restaurant_Review-g190356-d10275783-Reviews-K...  d10275783  \n4727  /Restaurant_Review-g274924-d4009959-Reviews-Me...   d4009959  \n6237  /Restaurant_Review-g189400-d1898490-Reviews-Ol...   d1898490  ",
      "text/html": "<div>\n<style scoped>\n    .dataframe tbody tr th:only-of-type {\n        vertical-align: middle;\n    }\n\n    .dataframe tbody tr th {\n        vertical-align: top;\n    }\n\n    .dataframe thead th {\n        text-align: right;\n    }\n</style>\n<table border=\"1\" class=\"dataframe\">\n  <thead>\n    <tr style=\"text-align: right;\">\n      <th></th>\n      <th>restaurant_id</th>\n      <th>city</th>\n      <th>cuisine_style</th>\n      <th>ranking</th>\n      <th>rating</th>\n      <th>price_range</th>\n      <th>reviews_cnt</th>\n      <th>reviews</th>\n      <th>ta_url</th>\n      <th>ta_id</th>\n    </tr>\n  </thead>\n  <tbody>\n    <tr>\n      <th>1065</th>\n      <td>id_227</td>\n      <td>Luxembourg</td>\n      <td>['Lebanese', 'Mediterranean', 'Middle Eastern'...</td>\n      <td>228.0</td>\n      <td>4.0</td>\n      <td>$$ - $$$</td>\n      <td>21.0</td>\n      <td>[['Nice little Lebanese restaurant', 'Great fo...</td>\n      <td>/Restaurant_Review-g190356-d10275783-Reviews-K...</td>\n      <td>d10275783</td>\n    </tr>\n    <tr>\n      <th>4727</th>\n      <td>id_227</td>\n      <td>Bratislava</td>\n      <td>['Healthy', 'European', 'Mediterranean', 'Vege...</td>\n      <td>228.0</td>\n      <td>4.0</td>\n      <td>$$ - $$$</td>\n      <td>122.0</td>\n      <td>[['Great fish (African sharptooth catfish)', '...</td>\n      <td>/Restaurant_Review-g274924-d4009959-Reviews-Me...</td>\n      <td>d4009959</td>\n    </tr>\n    <tr>\n      <th>6237</th>\n      <td>id_227</td>\n      <td>Athens</td>\n      <td>['European', 'Greek', 'Mediterranean']</td>\n      <td>228.0</td>\n      <td>4.5</td>\n      <td>$$ - $$$</td>\n      <td>220.0</td>\n      <td>[['Spectacular view and food', 'Great view'], ...</td>\n      <td>/Restaurant_Review-g189400-d1898490-Reviews-Ol...</td>\n      <td>d1898490</td>\n    </tr>\n  </tbody>\n</table>\n</div>"
     },
     "metadata": {},
     "execution_count": 203
    }
   ],
   "source": [
    "df[df.restaurant_id==df.restaurant_id.value_counts().index[0]].head(3)\n",
    "\n"
   ]
  },
  {
   "cell_type": "markdown",
   "metadata": {},
   "source": [
    "Одинаковый _restaurant_id_ встречается в разных городах и имеет разный _ta_id_. Удалим эту колонку."
   ]
  },
  {
   "cell_type": "code",
   "execution_count": 204,
   "metadata": {},
   "outputs": [],
   "source": [
    "df.drop([\"restaurant_id\"], axis=1, inplace=True)"
   ]
  },
  {
   "cell_type": "code",
   "execution_count": 205,
   "metadata": {
    "tags": []
   },
   "outputs": [
    {
     "output_type": "stream",
     "name": "stdout",
     "text": "city                 cuisine_style  ranking  rating price_range  \\\n22924  Madrid  ['Spanish', 'Mediterranean']  2361.0   4.5     $$ - $$$     \n36275  Madrid  ['Spanish', 'Mediterranean']  2469.0   4.5     $$ - $$$     \n\n       reviews_cnt                                          reviews  \\\n22924  16.0         [['The real codido madrileño'], ['03/31/2017']]   \n36275  16.0         [['The real codido madrileño'], ['03/31/2017']]   \n\n                                                                    ta_url  \\\n22924  /Restaurant_Review-g187514-d7342803-Reviews-Los_Hierros-Madrid.html   \n36275  /Restaurant_Review-g187514-d7342803-Reviews-Los_Hierros-Madrid.html   \n\n          ta_id  \n22924  d7342803  \n36275  d7342803  \n"
    }
   ],
   "source": [
    "with pd.option_context('display.max_colwidth', -1):\n",
    "    print(df[df.ta_id==df.ta_id.value_counts().index[0]].head(3))"
   ]
  },
  {
   "cell_type": "markdown",
   "metadata": {},
   "source": [
    "Судя по-всему дублирующиеся _ta_id_ отличаются только по _ranking_. Попробуем сгрупировать, при этом ранк возьмется случайно, что не страшно, т.к. дублей всего 20"
   ]
  },
  {
   "cell_type": "code",
   "execution_count": 206,
   "metadata": {
    "tags": []
   },
   "outputs": [
    {
     "output_type": "stream",
     "name": "stdout",
     "text": "<class 'pandas.core.frame.DataFrame'>\nRangeIndex: 39980 entries, 0 to 39979\nData columns (total 9 columns):\n #   Column         Non-Null Count  Dtype  \n---  ------         --------------  -----  \n 0   city           39980 non-null  object \n 1   cuisine_style  30701 non-null  object \n 2   ranking        39980 non-null  float64\n 3   rating         39980 non-null  float64\n 4   price_range    26101 non-null  object \n 5   reviews_cnt    37437 non-null  float64\n 6   reviews        39980 non-null  object \n 7   ta_url         39980 non-null  object \n 8   ta_id          39980 non-null  object \ndtypes: float64(3), object(6)\nmemory usage: 2.7+ MB\n"
    }
   ],
   "source": [
    "df.drop_duplicates(subset=['city', 'cuisine_style', 'rating','price_range', 'reviews_cnt', 'reviews', 'ta_url', 'ta_id'], inplace=True, ignore_index=True)\n",
    "df.info()"
   ]
  },
  {
   "cell_type": "markdown",
   "metadata": {},
   "source": [
    "Теперь количество строк совпадает с уникальными значениями _ta_id_ т.е. его можно использовать как первичный ключ для дальнейших очисток"
   ]
  },
  {
   "cell_type": "markdown",
   "metadata": {},
   "source": [
    "### Исследование  price_range"
   ]
  },
  {
   "cell_type": "code",
   "execution_count": 207,
   "metadata": {
    "tags": []
   },
   "outputs": [
    {
     "output_type": "execute_result",
     "data": {
      "text/plain": "$$ - $$$    18402\n$            6276\n$$$$         1423\nName: price_range, dtype: int64"
     },
     "metadata": {},
     "execution_count": 207
    }
   ],
   "source": [
    "df.price_range.value_counts()"
   ]
  },
  {
   "cell_type": "markdown",
   "metadata": {},
   "source": [
    "Это ординальный признак, но есть пропуски. Преобразуем в числа."
   ]
  },
  {
   "cell_type": "code",
   "execution_count": 208,
   "metadata": {},
   "outputs": [],
   "source": [
    "dct = {'$$ - $$$': 2, '$': 1, '$$$$': 3}\n",
    "df.price_range.replace(to_replace=dct, inplace=True)"
   ]
  },
  {
   "cell_type": "markdown",
   "metadata": {},
   "source": [
    "Пропуски заполним наиболее частым значением (2), т.к. оно более вероятно"
   ]
  },
  {
   "cell_type": "code",
   "execution_count": 209,
   "metadata": {},
   "outputs": [],
   "source": [
    "df.price_range.fillna(2, inplace=True)"
   ]
  },
  {
   "cell_type": "markdown",
   "metadata": {},
   "source": [
    "### Исследование и очистка city"
   ]
  },
  {
   "cell_type": "code",
   "execution_count": 210,
   "metadata": {},
   "outputs": [
    {
     "output_type": "execute_result",
     "data": {
      "text/plain": "count      39980\nunique        31\ntop       London\nfreq        5757\nName: city, dtype: object"
     },
     "metadata": {},
     "execution_count": 210
    }
   ],
   "source": [
    "df.city.describe()"
   ]
  },
  {
   "cell_type": "markdown",
   "metadata": {},
   "source": [
    "### Исследование и очистка cuisine"
   ]
  },
  {
   "cell_type": "markdown",
   "metadata": {},
   "source": [
    "Сделаем вспомогательный датафрейм"
   ]
  },
  {
   "cell_type": "code",
   "execution_count": 211,
   "metadata": {},
   "outputs": [],
   "source": [
    "cuisines = df[[\"ta_id\",\"cuisine_style\"]]"
   ]
  },
  {
   "cell_type": "code",
   "execution_count": 212,
   "metadata": {},
   "outputs": [],
   "source": [
    "import json\n",
    "cuisines.cuisine_style.fillna('[\"Unknown\"]', inplace=True)\n",
    "cuisines.cuisine_style = cuisines.cuisine_style.apply(lambda c: json.loads(c.replace('\\'','\\\"')))"
   ]
  },
  {
   "cell_type": "markdown",
   "metadata": {},
   "source": [
    "Преобразуем массив кухонь в отдельный ряд на кухню для каждого ресторана"
   ]
  },
  {
   "cell_type": "code",
   "execution_count": 213,
   "metadata": {},
   "outputs": [
    {
     "output_type": "execute_result",
     "data": {
      "text/plain": "           ta_id        cuisine_style\ncount     104843               104843\nunique     39980                  126\ntop     d7231902  Vegetarian Friendly\nfreq          21                11183",
      "text/html": "<div>\n<style scoped>\n    .dataframe tbody tr th:only-of-type {\n        vertical-align: middle;\n    }\n\n    .dataframe tbody tr th {\n        vertical-align: top;\n    }\n\n    .dataframe thead th {\n        text-align: right;\n    }\n</style>\n<table border=\"1\" class=\"dataframe\">\n  <thead>\n    <tr style=\"text-align: right;\">\n      <th></th>\n      <th>ta_id</th>\n      <th>cuisine_style</th>\n    </tr>\n  </thead>\n  <tbody>\n    <tr>\n      <th>count</th>\n      <td>104843</td>\n      <td>104843</td>\n    </tr>\n    <tr>\n      <th>unique</th>\n      <td>39980</td>\n      <td>126</td>\n    </tr>\n    <tr>\n      <th>top</th>\n      <td>d7231902</td>\n      <td>Vegetarian Friendly</td>\n    </tr>\n    <tr>\n      <th>freq</th>\n      <td>21</td>\n      <td>11183</td>\n    </tr>\n  </tbody>\n</table>\n</div>"
     },
     "metadata": {},
     "execution_count": 213
    }
   ],
   "source": [
    "cuisines = cuisines.explode(\"cuisine_style\")\n",
    "cuisines.describe()"
   ]
  },
  {
   "cell_type": "markdown",
   "metadata": {},
   "source": [
    "Число уникальных кухонь - 126, но без учета добавленной Unknown - 125\n",
    "\n",
    "Самые популярные кухни:"
   ]
  },
  {
   "cell_type": "code",
   "execution_count": 214,
   "metadata": {},
   "outputs": [
    {
     "output_type": "execute_result",
     "data": {
      "text/plain": "Vegetarian Friendly    11183\nEuropean               10056\nUnknown                 9279\nMediterranean           6271\nItalian                 5963\n                       ...  \nXinjiang                   1\nYunnan                     1\nSalvadoran                 1\nLatvian                    1\nBurmese                    1\nName: cuisine_style, Length: 126, dtype: int64"
     },
     "metadata": {},
     "execution_count": 214
    }
   ],
   "source": [
    "cuisines.cuisine_style.value_counts()\n"
   ]
  },
  {
   "cell_type": "markdown",
   "metadata": {},
   "source": [
    "Среднее число кухонь на ресторан:"
   ]
  },
  {
   "cell_type": "code",
   "execution_count": 215,
   "metadata": {},
   "outputs": [
    {
     "output_type": "execute_result",
     "data": {
      "text/plain": "ta_id            1.000000\ncuisine_style    2.622386\ndtype: float64"
     },
     "metadata": {},
     "execution_count": 215
    }
   ],
   "source": [
    "cuisines.groupby(\"ta_id\").nunique().mean()"
   ]
  },
  {
   "cell_type": "markdown",
   "metadata": {},
   "source": [
    "Добавим фичу с колличеством кухонь на ресторан в основной датасет"
   ]
  },
  {
   "cell_type": "code",
   "execution_count": 216,
   "metadata": {},
   "outputs": [
    {
     "output_type": "execute_result",
     "data": {
      "text/plain": "        city                                      cuisine_style  ranking  \\\n0      Paris            ['European', 'French', 'International']   5570.0   \n1  Stockholm                                                NaN   1537.0   \n2     London  ['Japanese', 'Sushi', 'Asian', 'Grill', 'Veget...    353.0   \n\n   rating  price_range  reviews_cnt  \\\n0     3.5          2.0        194.0   \n1     4.0          2.0         10.0   \n2     4.5          3.0        688.0   \n\n                                             reviews  \\\n0  [['Good food at your doorstep', 'A good hotel ...   \n1  [['Unique cuisine', 'Delicious Nepalese food']...   \n2  [['Catch up with friends', 'Not exceptional'],...   \n\n                                              ta_url     ta_id  cuisines_cnt  \n0  /Restaurant_Review-g187147-d1912643-Reviews-R_...  d1912643             3  \n1  /Restaurant_Review-g189852-d7992032-Reviews-Bu...  d7992032             1  \n2  /Restaurant_Review-g186338-d8632781-Reviews-RO...  d8632781             7  ",
      "text/html": "<div>\n<style scoped>\n    .dataframe tbody tr th:only-of-type {\n        vertical-align: middle;\n    }\n\n    .dataframe tbody tr th {\n        vertical-align: top;\n    }\n\n    .dataframe thead th {\n        text-align: right;\n    }\n</style>\n<table border=\"1\" class=\"dataframe\">\n  <thead>\n    <tr style=\"text-align: right;\">\n      <th></th>\n      <th>city</th>\n      <th>cuisine_style</th>\n      <th>ranking</th>\n      <th>rating</th>\n      <th>price_range</th>\n      <th>reviews_cnt</th>\n      <th>reviews</th>\n      <th>ta_url</th>\n      <th>ta_id</th>\n      <th>cuisines_cnt</th>\n    </tr>\n  </thead>\n  <tbody>\n    <tr>\n      <th>0</th>\n      <td>Paris</td>\n      <td>['European', 'French', 'International']</td>\n      <td>5570.0</td>\n      <td>3.5</td>\n      <td>2.0</td>\n      <td>194.0</td>\n      <td>[['Good food at your doorstep', 'A good hotel ...</td>\n      <td>/Restaurant_Review-g187147-d1912643-Reviews-R_...</td>\n      <td>d1912643</td>\n      <td>3</td>\n    </tr>\n    <tr>\n      <th>1</th>\n      <td>Stockholm</td>\n      <td>NaN</td>\n      <td>1537.0</td>\n      <td>4.0</td>\n      <td>2.0</td>\n      <td>10.0</td>\n      <td>[['Unique cuisine', 'Delicious Nepalese food']...</td>\n      <td>/Restaurant_Review-g189852-d7992032-Reviews-Bu...</td>\n      <td>d7992032</td>\n      <td>1</td>\n    </tr>\n    <tr>\n      <th>2</th>\n      <td>London</td>\n      <td>['Japanese', 'Sushi', 'Asian', 'Grill', 'Veget...</td>\n      <td>353.0</td>\n      <td>4.5</td>\n      <td>3.0</td>\n      <td>688.0</td>\n      <td>[['Catch up with friends', 'Not exceptional'],...</td>\n      <td>/Restaurant_Review-g186338-d8632781-Reviews-RO...</td>\n      <td>d8632781</td>\n      <td>7</td>\n    </tr>\n  </tbody>\n</table>\n</div>"
     },
     "metadata": {},
     "execution_count": 216
    }
   ],
   "source": [
    "cuisine_cnt_df = cuisines.groupby(\"ta_id\").nunique()\n",
    "cuisine_cnt_df.columns=[\"ta_id\",\"cuisines_cnt\"]\n",
    "cuisine_cnt_df = cuisine_cnt_df[[\"cuisines_cnt\"]].reset_index()\n",
    "cuisine_cnt_df\n",
    "df=df.merge(cuisine_cnt_df, how=\"left\", on=\"ta_id\")\n",
    "df.head(3)"
   ]
  },
  {
   "cell_type": "markdown",
   "metadata": {},
   "source": [
    "Развернем данные по кухням, взяв только топ 25\\* кухонь. \n",
    "\n",
    "\\*Проверено опытным путем что большее количество уже незначительно влияет на ошибку модели"
   ]
  },
  {
   "cell_type": "code",
   "execution_count": 217,
   "metadata": {},
   "outputs": [],
   "source": [
    "top_kitchens = cuisines.cuisine_style.value_counts()[:25].index \n",
    "cuisines.cuisine_style=cuisines[\"cuisine_style\"].apply(lambda c: c if c in top_kitchens else 'other')"
   ]
  },
  {
   "cell_type": "code",
   "execution_count": 218,
   "metadata": {},
   "outputs": [],
   "source": [
    "cuisines=pd.get_dummies(cuisines,columns=[\"cuisine_style\"]).groupby(\"ta_id\").sum()"
   ]
  },
  {
   "cell_type": "markdown",
   "metadata": {},
   "source": [
    "Смерджим с основным датасетом"
   ]
  },
  {
   "cell_type": "code",
   "execution_count": 219,
   "metadata": {},
   "outputs": [
    {
     "output_type": "execute_result",
     "data": {
      "text/plain": "        city  ranking  rating  price_range  reviews_cnt  \\\n0      Paris   5570.0     3.5          2.0        194.0   \n1  Stockholm   1537.0     4.0          2.0         10.0   \n2     London    353.0     4.5          3.0        688.0   \n\n                                             reviews  \\\n0  [['Good food at your doorstep', 'A good hotel ...   \n1  [['Unique cuisine', 'Delicious Nepalese food']...   \n2  [['Catch up with friends', 'Not exceptional'],...   \n\n                                              ta_url     ta_id  cuisines_cnt  \\\n0  /Restaurant_Review-g187147-d1912643-Reviews-R_...  d1912643             3   \n1  /Restaurant_Review-g189852-d7992032-Reviews-Bu...  d7992032             1   \n2  /Restaurant_Review-g186338-d8632781-Reviews-RO...  d8632781             7   \n\n   cuisine_style_American  ...  cuisine_style_Pizza  cuisine_style_Portuguese  \\\n0                       0  ...                    0                         0   \n1                       0  ...                    0                         0   \n2                       0  ...                    0                         0   \n\n   cuisine_style_Pub  cuisine_style_Seafood  cuisine_style_Spanish  \\\n0                  0                      0                      0   \n1                  0                      0                      0   \n2                  0                      0                      0   \n\n   cuisine_style_Sushi  cuisine_style_Unknown  cuisine_style_Vegan Options  \\\n0                    0                      0                            0   \n1                    0                      1                            0   \n2                    1                      0                            1   \n\n   cuisine_style_Vegetarian Friendly  cuisine_style_other  \n0                                  0                    0  \n1                                  0                    0  \n2                                  1                    1  \n\n[3 rows x 36 columns]",
      "text/html": "<div>\n<style scoped>\n    .dataframe tbody tr th:only-of-type {\n        vertical-align: middle;\n    }\n\n    .dataframe tbody tr th {\n        vertical-align: top;\n    }\n\n    .dataframe thead th {\n        text-align: right;\n    }\n</style>\n<table border=\"1\" class=\"dataframe\">\n  <thead>\n    <tr style=\"text-align: right;\">\n      <th></th>\n      <th>city</th>\n      <th>ranking</th>\n      <th>rating</th>\n      <th>price_range</th>\n      <th>reviews_cnt</th>\n      <th>reviews</th>\n      <th>ta_url</th>\n      <th>ta_id</th>\n      <th>cuisines_cnt</th>\n      <th>cuisine_style_American</th>\n      <th>...</th>\n      <th>cuisine_style_Pizza</th>\n      <th>cuisine_style_Portuguese</th>\n      <th>cuisine_style_Pub</th>\n      <th>cuisine_style_Seafood</th>\n      <th>cuisine_style_Spanish</th>\n      <th>cuisine_style_Sushi</th>\n      <th>cuisine_style_Unknown</th>\n      <th>cuisine_style_Vegan Options</th>\n      <th>cuisine_style_Vegetarian Friendly</th>\n      <th>cuisine_style_other</th>\n    </tr>\n  </thead>\n  <tbody>\n    <tr>\n      <th>0</th>\n      <td>Paris</td>\n      <td>5570.0</td>\n      <td>3.5</td>\n      <td>2.0</td>\n      <td>194.0</td>\n      <td>[['Good food at your doorstep', 'A good hotel ...</td>\n      <td>/Restaurant_Review-g187147-d1912643-Reviews-R_...</td>\n      <td>d1912643</td>\n      <td>3</td>\n      <td>0</td>\n      <td>...</td>\n      <td>0</td>\n      <td>0</td>\n      <td>0</td>\n      <td>0</td>\n      <td>0</td>\n      <td>0</td>\n      <td>0</td>\n      <td>0</td>\n      <td>0</td>\n      <td>0</td>\n    </tr>\n    <tr>\n      <th>1</th>\n      <td>Stockholm</td>\n      <td>1537.0</td>\n      <td>4.0</td>\n      <td>2.0</td>\n      <td>10.0</td>\n      <td>[['Unique cuisine', 'Delicious Nepalese food']...</td>\n      <td>/Restaurant_Review-g189852-d7992032-Reviews-Bu...</td>\n      <td>d7992032</td>\n      <td>1</td>\n      <td>0</td>\n      <td>...</td>\n      <td>0</td>\n      <td>0</td>\n      <td>0</td>\n      <td>0</td>\n      <td>0</td>\n      <td>0</td>\n      <td>1</td>\n      <td>0</td>\n      <td>0</td>\n      <td>0</td>\n    </tr>\n    <tr>\n      <th>2</th>\n      <td>London</td>\n      <td>353.0</td>\n      <td>4.5</td>\n      <td>3.0</td>\n      <td>688.0</td>\n      <td>[['Catch up with friends', 'Not exceptional'],...</td>\n      <td>/Restaurant_Review-g186338-d8632781-Reviews-RO...</td>\n      <td>d8632781</td>\n      <td>7</td>\n      <td>0</td>\n      <td>...</td>\n      <td>0</td>\n      <td>0</td>\n      <td>0</td>\n      <td>0</td>\n      <td>0</td>\n      <td>1</td>\n      <td>0</td>\n      <td>1</td>\n      <td>1</td>\n      <td>1</td>\n    </tr>\n  </tbody>\n</table>\n<p>3 rows × 36 columns</p>\n</div>"
     },
     "metadata": {},
     "execution_count": 219
    }
   ],
   "source": [
    "df=df.merge(cuisines, how=\"left\", on=\"ta_id\")\n",
    "df.drop(\"cuisine_style\", axis=1, inplace=True)\n",
    "df.head(3)"
   ]
  },
  {
   "cell_type": "code",
   "execution_count": 220,
   "metadata": {
    "tags": []
   },
   "outputs": [],
   "source": [
    "df = df.drop([c for c in df.columns if df[c].dtype == 'object'], axis = 1) # Drop non-numbers\n",
    "\n"
   ]
  },
  {
   "cell_type": "code",
   "execution_count": 50,
   "metadata": {
    "tags": []
   },
   "outputs": [
    {
     "output_type": "stream",
     "name": "stdout",
     "text": "<class 'pandas.core.frame.DataFrame'>\nRangeIndex: 40000 entries, 0 to 39999\nData columns (total 3 columns):\n #   Column             Non-Null Count  Dtype  \n---  ------             --------------  -----  \n 0   Ranking            40000 non-null  float64\n 1   Rating             40000 non-null  float64\n 2   Number of Reviews  40000 non-null  float64\ndtypes: float64(3)\nmemory usage: 937.6 KB\n"
    }
   ],
   "source": []
  },
  {
   "cell_type": "code",
   "execution_count": 221,
   "metadata": {},
   "outputs": [],
   "source": [
    "df[\"reviews_cnt\"].fillna(df[\"reviews_cnt\"].median(), inplace=True)"
   ]
  },
  {
   "cell_type": "markdown",
   "metadata": {},
   "source": [
    "# Разбиваем датафрейм на части, необходимые для обучения и тестирования модели"
   ]
  },
  {
   "cell_type": "code",
   "execution_count": 222,
   "metadata": {},
   "outputs": [],
   "source": [
    "# Х - данные с информацией о ресторанах, у - целевая переменная (рейтинги ресторанов)\n",
    "X = df.drop([ 'rating'], axis = 1)\n",
    "y = df['rating']"
   ]
  },
  {
   "cell_type": "code",
   "execution_count": 223,
   "metadata": {},
   "outputs": [],
   "source": [
    "# Загружаем специальный инструмент для разбивки:\n",
    "from sklearn.model_selection import train_test_split"
   ]
  },
  {
   "cell_type": "code",
   "execution_count": 224,
   "metadata": {},
   "outputs": [],
   "source": [
    "# Наборы данных с меткой \"train\" будут использоваться для обучения модели, \"test\" - для тестирования.\n",
    "# Для тестирования мы будем использовать 25% от исходного датасета.\n",
    "X_train, X_test, y_train, y_test = train_test_split(X, y, test_size=0.25)"
   ]
  },
  {
   "cell_type": "markdown",
   "metadata": {},
   "source": [
    "# Создаём, обучаем и тестируем модель"
   ]
  },
  {
   "cell_type": "code",
   "execution_count": 225,
   "metadata": {},
   "outputs": [],
   "source": [
    "# Импортируем необходимые библиотеки:\n",
    "from sklearn.ensemble import RandomForestRegressor # инструмент для создания и обучения модели\n",
    "from sklearn import metrics # инструменты для оценки точности модели"
   ]
  },
  {
   "cell_type": "code",
   "execution_count": 226,
   "metadata": {},
   "outputs": [],
   "source": [
    "# Создаём модель\n",
    "regr = RandomForestRegressor(n_estimators=100)\n",
    "\n",
    "# Обучаем модель на тестовом наборе данных\n",
    "regr.fit(X_train, y_train)\n",
    "\n",
    "# Используем обученную модель для предсказания рейтинга ресторанов в тестовой выборке.\n",
    "# Предсказанные значения записываем в переменную y_pred\n",
    "y_pred = regr.predict(X_test)"
   ]
  },
  {
   "cell_type": "code",
   "execution_count": 227,
   "metadata": {
    "tags": []
   },
   "outputs": [
    {
     "output_type": "stream",
     "name": "stdout",
     "text": "MAE: 0.3750028686962529\n"
    }
   ],
   "source": [
    "# Сравниваем предсказанные значения (y_pred) с реальными (y_test), и смотрим насколько они в среднем отличаются\n",
    "# Метрика называется Mean Absolute Error (MAE) и показывает среднее отклонение предсказанных значений от фактических.\n",
    "print('MAE:', metrics.mean_absolute_error(y_test, y_pred))"
   ]
  },
  {
   "cell_type": "code",
   "execution_count": null,
   "metadata": {},
   "outputs": [],
   "source": []
  }
 ],
 "metadata": {
  "kernelspec": {
   "display_name": "Python 3",
   "language": "python",
   "name": "python3"
  },
  "language_info": {
   "codemirror_mode": {
    "name": "ipython",
    "version": 3
   },
   "file_extension": ".py",
   "mimetype": "text/x-python",
   "name": "python",
   "nbconvert_exporter": "python",
   "pygments_lexer": "ipython3",
   "version": "3.7.7-final"
  }
 },
 "nbformat": 4,
 "nbformat_minor": 2
}