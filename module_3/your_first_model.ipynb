{
 "cells": [
  {
   "cell_type": "markdown",
   "metadata": {},
   "source": [
    "# Загрузка Pandas и очистка данных"
   ]
  },
  {
   "cell_type": "code",
   "execution_count": 1120,
   "metadata": {},
   "outputs": [],
   "source": [
    "import pandas as pd\n",
    "import numpy as np\n",
    "import seaborn as sns\n",
    "import matplotlib.pyplot as plt # для построения графиков\n",
    "\n",
    "%matplotlib inline"
   ]
  },
  {
   "cell_type": "code",
   "execution_count": 1121,
   "metadata": {},
   "outputs": [],
   "source": [
    "df = pd.read_csv('main_task.csv')"
   ]
  },
  {
   "cell_type": "code",
   "execution_count": 1122,
   "metadata": {},
   "outputs": [
    {
     "output_type": "execute_result",
     "data": {
      "text/plain": "  Restaurant_id       City                                      Cuisine Style  \\\n0       id_5569      Paris            ['European', 'French', 'International']   \n1       id_1535  Stockholm                                                NaN   \n2        id_352     London  ['Japanese', 'Sushi', 'Asian', 'Grill', 'Veget...   \n3       id_3456     Berlin                                                NaN   \n4        id_615     Munich  ['German', 'Central European', 'Vegetarian Fri...   \n\n   Ranking  Rating Price Range  Number of Reviews  \\\n0   5570.0     3.5    $$ - $$$              194.0   \n1   1537.0     4.0         NaN               10.0   \n2    353.0     4.5        $$$$              688.0   \n3   3458.0     5.0         NaN                3.0   \n4    621.0     4.0    $$ - $$$               84.0   \n\n                                             Reviews  \\\n0  [['Good food at your doorstep', 'A good hotel ...   \n1  [['Unique cuisine', 'Delicious Nepalese food']...   \n2  [['Catch up with friends', 'Not exceptional'],...   \n3                                           [[], []]   \n4  [['Best place to try a Bavarian food', 'Nice b...   \n\n                                              URL_TA     ID_TA  \n0  /Restaurant_Review-g187147-d1912643-Reviews-R_...  d1912643  \n1  /Restaurant_Review-g189852-d7992032-Reviews-Bu...  d7992032  \n2  /Restaurant_Review-g186338-d8632781-Reviews-RO...  d8632781  \n3  /Restaurant_Review-g187323-d1358776-Reviews-Es...  d1358776  \n4  /Restaurant_Review-g187309-d6864963-Reviews-Au...  d6864963  ",
      "text/html": "<div>\n<style scoped>\n    .dataframe tbody tr th:only-of-type {\n        vertical-align: middle;\n    }\n\n    .dataframe tbody tr th {\n        vertical-align: top;\n    }\n\n    .dataframe thead th {\n        text-align: right;\n    }\n</style>\n<table border=\"1\" class=\"dataframe\">\n  <thead>\n    <tr style=\"text-align: right;\">\n      <th></th>\n      <th>Restaurant_id</th>\n      <th>City</th>\n      <th>Cuisine Style</th>\n      <th>Ranking</th>\n      <th>Rating</th>\n      <th>Price Range</th>\n      <th>Number of Reviews</th>\n      <th>Reviews</th>\n      <th>URL_TA</th>\n      <th>ID_TA</th>\n    </tr>\n  </thead>\n  <tbody>\n    <tr>\n      <th>0</th>\n      <td>id_5569</td>\n      <td>Paris</td>\n      <td>['European', 'French', 'International']</td>\n      <td>5570.0</td>\n      <td>3.5</td>\n      <td>$$ - $$$</td>\n      <td>194.0</td>\n      <td>[['Good food at your doorstep', 'A good hotel ...</td>\n      <td>/Restaurant_Review-g187147-d1912643-Reviews-R_...</td>\n      <td>d1912643</td>\n    </tr>\n    <tr>\n      <th>1</th>\n      <td>id_1535</td>\n      <td>Stockholm</td>\n      <td>NaN</td>\n      <td>1537.0</td>\n      <td>4.0</td>\n      <td>NaN</td>\n      <td>10.0</td>\n      <td>[['Unique cuisine', 'Delicious Nepalese food']...</td>\n      <td>/Restaurant_Review-g189852-d7992032-Reviews-Bu...</td>\n      <td>d7992032</td>\n    </tr>\n    <tr>\n      <th>2</th>\n      <td>id_352</td>\n      <td>London</td>\n      <td>['Japanese', 'Sushi', 'Asian', 'Grill', 'Veget...</td>\n      <td>353.0</td>\n      <td>4.5</td>\n      <td>$$$$</td>\n      <td>688.0</td>\n      <td>[['Catch up with friends', 'Not exceptional'],...</td>\n      <td>/Restaurant_Review-g186338-d8632781-Reviews-RO...</td>\n      <td>d8632781</td>\n    </tr>\n    <tr>\n      <th>3</th>\n      <td>id_3456</td>\n      <td>Berlin</td>\n      <td>NaN</td>\n      <td>3458.0</td>\n      <td>5.0</td>\n      <td>NaN</td>\n      <td>3.0</td>\n      <td>[[], []]</td>\n      <td>/Restaurant_Review-g187323-d1358776-Reviews-Es...</td>\n      <td>d1358776</td>\n    </tr>\n    <tr>\n      <th>4</th>\n      <td>id_615</td>\n      <td>Munich</td>\n      <td>['German', 'Central European', 'Vegetarian Fri...</td>\n      <td>621.0</td>\n      <td>4.0</td>\n      <td>$$ - $$$</td>\n      <td>84.0</td>\n      <td>[['Best place to try a Bavarian food', 'Nice b...</td>\n      <td>/Restaurant_Review-g187309-d6864963-Reviews-Au...</td>\n      <td>d6864963</td>\n    </tr>\n  </tbody>\n</table>\n</div>"
     },
     "metadata": {},
     "execution_count": 1122
    }
   ],
   "source": [
    "df.head()"
   ]
  },
  {
   "cell_type": "code",
   "execution_count": 1123,
   "metadata": {
    "tags": []
   },
   "outputs": [
    {
     "output_type": "stream",
     "name": "stdout",
     "text": "<class 'pandas.core.frame.DataFrame'>\nRangeIndex: 40000 entries, 0 to 39999\nData columns (total 10 columns):\n #   Column             Non-Null Count  Dtype  \n---  ------             --------------  -----  \n 0   Restaurant_id      40000 non-null  object \n 1   City               40000 non-null  object \n 2   Cuisine Style      30717 non-null  object \n 3   Ranking            40000 non-null  float64\n 4   Rating             40000 non-null  float64\n 5   Price Range        26114 non-null  object \n 6   Number of Reviews  37457 non-null  float64\n 7   Reviews            40000 non-null  object \n 8   URL_TA             40000 non-null  object \n 9   ID_TA              40000 non-null  object \ndtypes: float64(3), object(7)\nmemory usage: 3.1+ MB\n"
    }
   ],
   "source": [
    "df.info()"
   ]
  },
  {
   "cell_type": "markdown",
   "metadata": {},
   "source": [
    "Приведем имена колонок к нормальному виду"
   ]
  },
  {
   "cell_type": "code",
   "execution_count": 1124,
   "metadata": {},
   "outputs": [],
   "source": [
    "df.columns=['restaurant_id', 'city', 'cuisine_style', 'ranking', 'rating',\n",
    "       'price_range', 'reviews_cnt', 'reviews', 'ta_url', 'ta_id']\n"
   ]
  },
  {
   "cell_type": "markdown",
   "metadata": {},
   "source": [
    "### Общие наблюдения и очистки"
   ]
  },
  {
   "cell_type": "code",
   "execution_count": 1125,
   "metadata": {},
   "outputs": [
    {
     "output_type": "execute_result",
     "data": {
      "text/plain": "       restaurant_id    city cuisine_style       ranking        rating  \\\ncount          40000   40000         30717  40000.000000  40000.000000   \nunique         11909      31          9007           NaN           NaN   \ntop           id_227  London   ['Italian']           NaN           NaN   \nfreq              18    5757          1032           NaN           NaN   \nmean             NaN     NaN           NaN   3676.028525      3.993037   \nstd              NaN     NaN           NaN   3708.749567      0.668417   \nmin              NaN     NaN           NaN      1.000000      1.000000   \n25%              NaN     NaN           NaN    973.000000      3.500000   \n50%              NaN     NaN           NaN   2285.000000      4.000000   \n75%              NaN     NaN           NaN   5260.000000      4.500000   \nmax              NaN     NaN           NaN  16444.000000      5.000000   \n\n       price_range   reviews_cnt   reviews  \\\ncount        26114  37457.000000     40000   \nunique           3           NaN     33516   \ntop       $$ - $$$           NaN  [[], []]   \nfreq         18412           NaN      6471   \nmean           NaN    124.825480       NaN   \nstd            NaN    295.666352       NaN   \nmin            NaN      2.000000       NaN   \n25%            NaN      9.000000       NaN   \n50%            NaN     33.000000       NaN   \n75%            NaN    115.000000       NaN   \nmax            NaN   9660.000000       NaN   \n\n                                                   ta_url     ta_id  \ncount                                               40000     40000  \nunique                                              39980     39980  \ntop     /Restaurant_Review-g187514-d7809594-Reviews-La...  d7342803  \nfreq                                                    2         2  \nmean                                                  NaN       NaN  \nstd                                                   NaN       NaN  \nmin                                                   NaN       NaN  \n25%                                                   NaN       NaN  \n50%                                                   NaN       NaN  \n75%                                                   NaN       NaN  \nmax                                                   NaN       NaN  ",
      "text/html": "<div>\n<style scoped>\n    .dataframe tbody tr th:only-of-type {\n        vertical-align: middle;\n    }\n\n    .dataframe tbody tr th {\n        vertical-align: top;\n    }\n\n    .dataframe thead th {\n        text-align: right;\n    }\n</style>\n<table border=\"1\" class=\"dataframe\">\n  <thead>\n    <tr style=\"text-align: right;\">\n      <th></th>\n      <th>restaurant_id</th>\n      <th>city</th>\n      <th>cuisine_style</th>\n      <th>ranking</th>\n      <th>rating</th>\n      <th>price_range</th>\n      <th>reviews_cnt</th>\n      <th>reviews</th>\n      <th>ta_url</th>\n      <th>ta_id</th>\n    </tr>\n  </thead>\n  <tbody>\n    <tr>\n      <th>count</th>\n      <td>40000</td>\n      <td>40000</td>\n      <td>30717</td>\n      <td>40000.000000</td>\n      <td>40000.000000</td>\n      <td>26114</td>\n      <td>37457.000000</td>\n      <td>40000</td>\n      <td>40000</td>\n      <td>40000</td>\n    </tr>\n    <tr>\n      <th>unique</th>\n      <td>11909</td>\n      <td>31</td>\n      <td>9007</td>\n      <td>NaN</td>\n      <td>NaN</td>\n      <td>3</td>\n      <td>NaN</td>\n      <td>33516</td>\n      <td>39980</td>\n      <td>39980</td>\n    </tr>\n    <tr>\n      <th>top</th>\n      <td>id_227</td>\n      <td>London</td>\n      <td>['Italian']</td>\n      <td>NaN</td>\n      <td>NaN</td>\n      <td>$$ - $$$</td>\n      <td>NaN</td>\n      <td>[[], []]</td>\n      <td>/Restaurant_Review-g187514-d7809594-Reviews-La...</td>\n      <td>d7342803</td>\n    </tr>\n    <tr>\n      <th>freq</th>\n      <td>18</td>\n      <td>5757</td>\n      <td>1032</td>\n      <td>NaN</td>\n      <td>NaN</td>\n      <td>18412</td>\n      <td>NaN</td>\n      <td>6471</td>\n      <td>2</td>\n      <td>2</td>\n    </tr>\n    <tr>\n      <th>mean</th>\n      <td>NaN</td>\n      <td>NaN</td>\n      <td>NaN</td>\n      <td>3676.028525</td>\n      <td>3.993037</td>\n      <td>NaN</td>\n      <td>124.825480</td>\n      <td>NaN</td>\n      <td>NaN</td>\n      <td>NaN</td>\n    </tr>\n    <tr>\n      <th>std</th>\n      <td>NaN</td>\n      <td>NaN</td>\n      <td>NaN</td>\n      <td>3708.749567</td>\n      <td>0.668417</td>\n      <td>NaN</td>\n      <td>295.666352</td>\n      <td>NaN</td>\n      <td>NaN</td>\n      <td>NaN</td>\n    </tr>\n    <tr>\n      <th>min</th>\n      <td>NaN</td>\n      <td>NaN</td>\n      <td>NaN</td>\n      <td>1.000000</td>\n      <td>1.000000</td>\n      <td>NaN</td>\n      <td>2.000000</td>\n      <td>NaN</td>\n      <td>NaN</td>\n      <td>NaN</td>\n    </tr>\n    <tr>\n      <th>25%</th>\n      <td>NaN</td>\n      <td>NaN</td>\n      <td>NaN</td>\n      <td>973.000000</td>\n      <td>3.500000</td>\n      <td>NaN</td>\n      <td>9.000000</td>\n      <td>NaN</td>\n      <td>NaN</td>\n      <td>NaN</td>\n    </tr>\n    <tr>\n      <th>50%</th>\n      <td>NaN</td>\n      <td>NaN</td>\n      <td>NaN</td>\n      <td>2285.000000</td>\n      <td>4.000000</td>\n      <td>NaN</td>\n      <td>33.000000</td>\n      <td>NaN</td>\n      <td>NaN</td>\n      <td>NaN</td>\n    </tr>\n    <tr>\n      <th>75%</th>\n      <td>NaN</td>\n      <td>NaN</td>\n      <td>NaN</td>\n      <td>5260.000000</td>\n      <td>4.500000</td>\n      <td>NaN</td>\n      <td>115.000000</td>\n      <td>NaN</td>\n      <td>NaN</td>\n      <td>NaN</td>\n    </tr>\n    <tr>\n      <th>max</th>\n      <td>NaN</td>\n      <td>NaN</td>\n      <td>NaN</td>\n      <td>16444.000000</td>\n      <td>5.000000</td>\n      <td>NaN</td>\n      <td>9660.000000</td>\n      <td>NaN</td>\n      <td>NaN</td>\n      <td>NaN</td>\n    </tr>\n  </tbody>\n</table>\n</div>"
     },
     "metadata": {},
     "execution_count": 1125
    }
   ],
   "source": [
    "df.describe(include='all')"
   ]
  },
  {
   "cell_type": "markdown",
   "metadata": {},
   "source": [
    "Есть неуникальные _restaurant_id_ и _ta_id_"
   ]
  },
  {
   "cell_type": "code",
   "execution_count": 1126,
   "metadata": {},
   "outputs": [
    {
     "output_type": "execute_result",
     "data": {
      "text/plain": "     restaurant_id        city  \\\n1065        id_227  Luxembourg   \n4727        id_227  Bratislava   \n6237        id_227      Athens   \n\n                                          cuisine_style  ranking  rating  \\\n1065  ['Lebanese', 'Mediterranean', 'Middle Eastern'...    228.0     4.0   \n4727  ['Healthy', 'European', 'Mediterranean', 'Vege...    228.0     4.0   \n6237             ['European', 'Greek', 'Mediterranean']    228.0     4.5   \n\n     price_range  reviews_cnt  \\\n1065    $$ - $$$         21.0   \n4727    $$ - $$$        122.0   \n6237    $$ - $$$        220.0   \n\n                                                reviews  \\\n1065  [['Nice little Lebanese restaurant', 'Great fo...   \n4727  [['Great fish (African sharptooth catfish)', '...   \n6237  [['Spectacular view and food', 'Great view'], ...   \n\n                                                 ta_url      ta_id  \n1065  /Restaurant_Review-g190356-d10275783-Reviews-K...  d10275783  \n4727  /Restaurant_Review-g274924-d4009959-Reviews-Me...   d4009959  \n6237  /Restaurant_Review-g189400-d1898490-Reviews-Ol...   d1898490  ",
      "text/html": "<div>\n<style scoped>\n    .dataframe tbody tr th:only-of-type {\n        vertical-align: middle;\n    }\n\n    .dataframe tbody tr th {\n        vertical-align: top;\n    }\n\n    .dataframe thead th {\n        text-align: right;\n    }\n</style>\n<table border=\"1\" class=\"dataframe\">\n  <thead>\n    <tr style=\"text-align: right;\">\n      <th></th>\n      <th>restaurant_id</th>\n      <th>city</th>\n      <th>cuisine_style</th>\n      <th>ranking</th>\n      <th>rating</th>\n      <th>price_range</th>\n      <th>reviews_cnt</th>\n      <th>reviews</th>\n      <th>ta_url</th>\n      <th>ta_id</th>\n    </tr>\n  </thead>\n  <tbody>\n    <tr>\n      <th>1065</th>\n      <td>id_227</td>\n      <td>Luxembourg</td>\n      <td>['Lebanese', 'Mediterranean', 'Middle Eastern'...</td>\n      <td>228.0</td>\n      <td>4.0</td>\n      <td>$$ - $$$</td>\n      <td>21.0</td>\n      <td>[['Nice little Lebanese restaurant', 'Great fo...</td>\n      <td>/Restaurant_Review-g190356-d10275783-Reviews-K...</td>\n      <td>d10275783</td>\n    </tr>\n    <tr>\n      <th>4727</th>\n      <td>id_227</td>\n      <td>Bratislava</td>\n      <td>['Healthy', 'European', 'Mediterranean', 'Vege...</td>\n      <td>228.0</td>\n      <td>4.0</td>\n      <td>$$ - $$$</td>\n      <td>122.0</td>\n      <td>[['Great fish (African sharptooth catfish)', '...</td>\n      <td>/Restaurant_Review-g274924-d4009959-Reviews-Me...</td>\n      <td>d4009959</td>\n    </tr>\n    <tr>\n      <th>6237</th>\n      <td>id_227</td>\n      <td>Athens</td>\n      <td>['European', 'Greek', 'Mediterranean']</td>\n      <td>228.0</td>\n      <td>4.5</td>\n      <td>$$ - $$$</td>\n      <td>220.0</td>\n      <td>[['Spectacular view and food', 'Great view'], ...</td>\n      <td>/Restaurant_Review-g189400-d1898490-Reviews-Ol...</td>\n      <td>d1898490</td>\n    </tr>\n  </tbody>\n</table>\n</div>"
     },
     "metadata": {},
     "execution_count": 1126
    }
   ],
   "source": [
    "df[df.restaurant_id==df.restaurant_id.value_counts().index[0]].head(3)\n",
    "\n"
   ]
  },
  {
   "cell_type": "markdown",
   "metadata": {},
   "source": [
    "Одинаковый _restaurant_id_ встречается в разных городах и имеет разный _ta_id_. Удалим эту колонку."
   ]
  },
  {
   "cell_type": "code",
   "execution_count": 1127,
   "metadata": {},
   "outputs": [],
   "source": [
    "df.drop([\"restaurant_id\"], axis=1, inplace=True)"
   ]
  },
  {
   "cell_type": "code",
   "execution_count": 1128,
   "metadata": {
    "tags": []
   },
   "outputs": [
    {
     "output_type": "stream",
     "name": "stdout",
     "text": "city                 cuisine_style  ranking  rating price_range  \\\n22924  Madrid  ['Spanish', 'Mediterranean']  2361.0   4.5     $$ - $$$     \n36275  Madrid  ['Spanish', 'Mediterranean']  2469.0   4.5     $$ - $$$     \n\n       reviews_cnt                                          reviews  \\\n22924  16.0         [['The real codido madrileño'], ['03/31/2017']]   \n36275  16.0         [['The real codido madrileño'], ['03/31/2017']]   \n\n                                                                    ta_url  \\\n22924  /Restaurant_Review-g187514-d7342803-Reviews-Los_Hierros-Madrid.html   \n36275  /Restaurant_Review-g187514-d7342803-Reviews-Los_Hierros-Madrid.html   \n\n          ta_id  \n22924  d7342803  \n36275  d7342803  \n"
    }
   ],
   "source": [
    "with pd.option_context('display.max_colwidth', -1):\n",
    "    print(df[df.ta_id==df.ta_id.value_counts().index[0]].head(3))"
   ]
  },
  {
   "cell_type": "markdown",
   "metadata": {},
   "source": [
    "Судя по-всему дублирующиеся _ta_id_ отличаются только по _ranking_. Попробуем сгрупировать, при этом ранк возьмется случайно, что не страшно, т.к. дублей всего 20"
   ]
  },
  {
   "cell_type": "code",
   "execution_count": 1129,
   "metadata": {
    "tags": []
   },
   "outputs": [
    {
     "output_type": "stream",
     "name": "stdout",
     "text": "<class 'pandas.core.frame.DataFrame'>\nRangeIndex: 39980 entries, 0 to 39979\nData columns (total 9 columns):\n #   Column         Non-Null Count  Dtype  \n---  ------         --------------  -----  \n 0   city           39980 non-null  object \n 1   cuisine_style  30701 non-null  object \n 2   ranking        39980 non-null  float64\n 3   rating         39980 non-null  float64\n 4   price_range    26101 non-null  object \n 5   reviews_cnt    37437 non-null  float64\n 6   reviews        39980 non-null  object \n 7   ta_url         39980 non-null  object \n 8   ta_id          39980 non-null  object \ndtypes: float64(3), object(6)\nmemory usage: 2.7+ MB\n"
    }
   ],
   "source": [
    "df.drop_duplicates(subset=['city', 'cuisine_style', 'rating','price_range', 'reviews_cnt', 'reviews', 'ta_url', 'ta_id'], inplace=True, ignore_index=True)\n",
    "df.info()"
   ]
  },
  {
   "cell_type": "markdown",
   "metadata": {},
   "source": [
    "Теперь количество строк совпадает с уникальными значениями _ta_id_ т.е. его можно использовать как первичный ключ для дальнейших очисток"
   ]
  },
  {
   "cell_type": "markdown",
   "metadata": {},
   "source": [
    "### Вынос общих функций"
   ]
  },
  {
   "cell_type": "code",
   "execution_count": 1130,
   "metadata": {},
   "outputs": [],
   "source": [
    "import ast\n",
    "\n",
    "def text_to_dct(json_text):\n",
    "    #return json.loads(json_text.replace('\\'','\\\"')) This does not work for tricky cases with \" and ' used for quotes in parallel\n",
    "    return ast.literal_eval(json_text.replace('nan','\\'\\''))"
   ]
  },
  {
   "cell_type": "markdown",
   "metadata": {},
   "source": [
    "### Исследование  price_range"
   ]
  },
  {
   "cell_type": "code",
   "execution_count": 1131,
   "metadata": {
    "tags": []
   },
   "outputs": [
    {
     "output_type": "execute_result",
     "data": {
      "text/plain": "$$ - $$$    18402\n$            6276\n$$$$         1423\nName: price_range, dtype: int64"
     },
     "metadata": {},
     "execution_count": 1131
    }
   ],
   "source": [
    "df.price_range.value_counts()"
   ]
  },
  {
   "cell_type": "markdown",
   "metadata": {},
   "source": [
    "Это ординальный признак, но есть пропуски. Преобразуем в числа."
   ]
  },
  {
   "cell_type": "code",
   "execution_count": 1132,
   "metadata": {},
   "outputs": [],
   "source": [
    "dct = {'$$ - $$$': 2, '$': 1, '$$$$': 3}\n",
    "df.price_range.replace(to_replace=dct, inplace=True)"
   ]
  },
  {
   "cell_type": "markdown",
   "metadata": {},
   "source": [
    "Пропуски заполним наиболее частым значением (2), т.к. оно более вероятно"
   ]
  },
  {
   "cell_type": "code",
   "execution_count": 1133,
   "metadata": {},
   "outputs": [],
   "source": [
    "df.price_range.fillna(2, inplace=True)"
   ]
  },
  {
   "cell_type": "markdown",
   "metadata": {},
   "source": [
    "### Исследование и очистка city"
   ]
  },
  {
   "cell_type": "code",
   "execution_count": 1134,
   "metadata": {},
   "outputs": [
    {
     "output_type": "execute_result",
     "data": {
      "text/plain": "count      39980\nunique        31\ntop       London\nfreq        5757\nName: city, dtype: object"
     },
     "metadata": {},
     "execution_count": 1134
    }
   ],
   "source": [
    "df.city.describe()"
   ]
  },
  {
   "cell_type": "markdown",
   "metadata": {},
   "source": [
    "### Исследование и очистка cuisine"
   ]
  },
  {
   "cell_type": "markdown",
   "metadata": {},
   "source": [
    "Сделаем вспомогательный датафрейм"
   ]
  },
  {
   "cell_type": "code",
   "execution_count": 1135,
   "metadata": {},
   "outputs": [],
   "source": [
    "cuisines = df[[\"ta_id\",\"cuisine_style\"]]"
   ]
  },
  {
   "cell_type": "code",
   "execution_count": 1136,
   "metadata": {},
   "outputs": [],
   "source": [
    "\n",
    "cuisines.cuisine_style.fillna('[\"Unknown\"]', inplace=True)\n",
    "cuisines.cuisine_style = cuisines.cuisine_style.apply(text_to_dct)"
   ]
  },
  {
   "cell_type": "markdown",
   "metadata": {},
   "source": [
    "Преобразуем массив кухонь в отдельный ряд на кухню для каждого ресторана"
   ]
  },
  {
   "cell_type": "code",
   "execution_count": 1137,
   "metadata": {},
   "outputs": [
    {
     "output_type": "execute_result",
     "data": {
      "text/plain": "           ta_id        cuisine_style\ncount     104843               104843\nunique     39980                  126\ntop     d7231902  Vegetarian Friendly\nfreq          21                11183",
      "text/html": "<div>\n<style scoped>\n    .dataframe tbody tr th:only-of-type {\n        vertical-align: middle;\n    }\n\n    .dataframe tbody tr th {\n        vertical-align: top;\n    }\n\n    .dataframe thead th {\n        text-align: right;\n    }\n</style>\n<table border=\"1\" class=\"dataframe\">\n  <thead>\n    <tr style=\"text-align: right;\">\n      <th></th>\n      <th>ta_id</th>\n      <th>cuisine_style</th>\n    </tr>\n  </thead>\n  <tbody>\n    <tr>\n      <th>count</th>\n      <td>104843</td>\n      <td>104843</td>\n    </tr>\n    <tr>\n      <th>unique</th>\n      <td>39980</td>\n      <td>126</td>\n    </tr>\n    <tr>\n      <th>top</th>\n      <td>d7231902</td>\n      <td>Vegetarian Friendly</td>\n    </tr>\n    <tr>\n      <th>freq</th>\n      <td>21</td>\n      <td>11183</td>\n    </tr>\n  </tbody>\n</table>\n</div>"
     },
     "metadata": {},
     "execution_count": 1137
    }
   ],
   "source": [
    "cuisines = cuisines.explode(\"cuisine_style\")\n",
    "cuisines.describe()"
   ]
  },
  {
   "cell_type": "markdown",
   "metadata": {},
   "source": [
    "Число уникальных кухонь - 126, но без учета добавленной Unknown - 125\n",
    "\n",
    "Самые популярные кухни:"
   ]
  },
  {
   "cell_type": "code",
   "execution_count": 1138,
   "metadata": {},
   "outputs": [
    {
     "output_type": "execute_result",
     "data": {
      "text/plain": "Vegetarian Friendly    11183\nEuropean               10056\nUnknown                 9279\nMediterranean           6271\nItalian                 5963\n                       ...  \nXinjiang                   1\nSalvadoran                 1\nYun                        1\nLatvian                    1\nBurmese                    1\nName: cuisine_style, Length: 126, dtype: int64"
     },
     "metadata": {},
     "execution_count": 1138
    }
   ],
   "source": [
    "cuisines.cuisine_style.value_counts()\n"
   ]
  },
  {
   "cell_type": "markdown",
   "metadata": {},
   "source": [
    "Среднее число кухонь на ресторан:"
   ]
  },
  {
   "cell_type": "code",
   "execution_count": 1139,
   "metadata": {},
   "outputs": [
    {
     "output_type": "execute_result",
     "data": {
      "text/plain": "ta_id            1.000000\ncuisine_style    2.622386\ndtype: float64"
     },
     "metadata": {},
     "execution_count": 1139
    }
   ],
   "source": [
    "cuisines.groupby(\"ta_id\").nunique().mean()"
   ]
  },
  {
   "cell_type": "markdown",
   "metadata": {},
   "source": [
    "Добавим фичу с колличеством кухонь на ресторан в основной датасет"
   ]
  },
  {
   "cell_type": "code",
   "execution_count": 1140,
   "metadata": {},
   "outputs": [
    {
     "output_type": "execute_result",
     "data": {
      "text/plain": "        city                                      cuisine_style  ranking  \\\n0      Paris            ['European', 'French', 'International']   5570.0   \n1  Stockholm                                                NaN   1537.0   \n2     London  ['Japanese', 'Sushi', 'Asian', 'Grill', 'Veget...    353.0   \n\n   rating  price_range  reviews_cnt  \\\n0     3.5          2.0        194.0   \n1     4.0          2.0         10.0   \n2     4.5          3.0        688.0   \n\n                                             reviews  \\\n0  [['Good food at your doorstep', 'A good hotel ...   \n1  [['Unique cuisine', 'Delicious Nepalese food']...   \n2  [['Catch up with friends', 'Not exceptional'],...   \n\n                                              ta_url     ta_id  cuisines_cnt  \n0  /Restaurant_Review-g187147-d1912643-Reviews-R_...  d1912643             3  \n1  /Restaurant_Review-g189852-d7992032-Reviews-Bu...  d7992032             1  \n2  /Restaurant_Review-g186338-d8632781-Reviews-RO...  d8632781             7  ",
      "text/html": "<div>\n<style scoped>\n    .dataframe tbody tr th:only-of-type {\n        vertical-align: middle;\n    }\n\n    .dataframe tbody tr th {\n        vertical-align: top;\n    }\n\n    .dataframe thead th {\n        text-align: right;\n    }\n</style>\n<table border=\"1\" class=\"dataframe\">\n  <thead>\n    <tr style=\"text-align: right;\">\n      <th></th>\n      <th>city</th>\n      <th>cuisine_style</th>\n      <th>ranking</th>\n      <th>rating</th>\n      <th>price_range</th>\n      <th>reviews_cnt</th>\n      <th>reviews</th>\n      <th>ta_url</th>\n      <th>ta_id</th>\n      <th>cuisines_cnt</th>\n    </tr>\n  </thead>\n  <tbody>\n    <tr>\n      <th>0</th>\n      <td>Paris</td>\n      <td>['European', 'French', 'International']</td>\n      <td>5570.0</td>\n      <td>3.5</td>\n      <td>2.0</td>\n      <td>194.0</td>\n      <td>[['Good food at your doorstep', 'A good hotel ...</td>\n      <td>/Restaurant_Review-g187147-d1912643-Reviews-R_...</td>\n      <td>d1912643</td>\n      <td>3</td>\n    </tr>\n    <tr>\n      <th>1</th>\n      <td>Stockholm</td>\n      <td>NaN</td>\n      <td>1537.0</td>\n      <td>4.0</td>\n      <td>2.0</td>\n      <td>10.0</td>\n      <td>[['Unique cuisine', 'Delicious Nepalese food']...</td>\n      <td>/Restaurant_Review-g189852-d7992032-Reviews-Bu...</td>\n      <td>d7992032</td>\n      <td>1</td>\n    </tr>\n    <tr>\n      <th>2</th>\n      <td>London</td>\n      <td>['Japanese', 'Sushi', 'Asian', 'Grill', 'Veget...</td>\n      <td>353.0</td>\n      <td>4.5</td>\n      <td>3.0</td>\n      <td>688.0</td>\n      <td>[['Catch up with friends', 'Not exceptional'],...</td>\n      <td>/Restaurant_Review-g186338-d8632781-Reviews-RO...</td>\n      <td>d8632781</td>\n      <td>7</td>\n    </tr>\n  </tbody>\n</table>\n</div>"
     },
     "metadata": {},
     "execution_count": 1140
    }
   ],
   "source": [
    "cuisine_cnt_df = cuisines.groupby(\"ta_id\").nunique()\n",
    "cuisine_cnt_df.columns=[\"ta_id\",\"cuisines_cnt\"]\n",
    "cuisine_cnt_df = cuisine_cnt_df[[\"cuisines_cnt\"]].reset_index()\n",
    "cuisine_cnt_df\n",
    "df=df.merge(cuisine_cnt_df, how=\"left\", on=\"ta_id\")\n",
    "df.head(3)"
   ]
  },
  {
   "cell_type": "markdown",
   "metadata": {},
   "source": [
    "Развернем данные по кухням, взяв только топ 25\\* кухонь. \n",
    "\n",
    "\\*Проверено опытным путем что большее количество уже незначительно влияет на ошибку модели"
   ]
  },
  {
   "cell_type": "code",
   "execution_count": 1141,
   "metadata": {},
   "outputs": [],
   "source": [
    "top_kitchens = cuisines.cuisine_style.value_counts()[:25].index \n",
    "cuisines.cuisine_style=cuisines[\"cuisine_style\"].apply(lambda c: c if c in top_kitchens else 'other')"
   ]
  },
  {
   "cell_type": "code",
   "execution_count": 1142,
   "metadata": {},
   "outputs": [],
   "source": [
    "cuisines=pd.get_dummies(cuisines,columns=[\"cuisine_style\"]).groupby(\"ta_id\").sum()"
   ]
  },
  {
   "cell_type": "markdown",
   "metadata": {},
   "source": [
    "Смерджим с основным датасетом"
   ]
  },
  {
   "cell_type": "code",
   "execution_count": 1143,
   "metadata": {},
   "outputs": [
    {
     "output_type": "execute_result",
     "data": {
      "text/plain": "        city  ranking  rating  price_range  reviews_cnt  \\\n0      Paris   5570.0     3.5          2.0        194.0   \n1  Stockholm   1537.0     4.0          2.0         10.0   \n2     London    353.0     4.5          3.0        688.0   \n\n                                             reviews  \\\n0  [['Good food at your doorstep', 'A good hotel ...   \n1  [['Unique cuisine', 'Delicious Nepalese food']...   \n2  [['Catch up with friends', 'Not exceptional'],...   \n\n                                              ta_url     ta_id  cuisines_cnt  \\\n0  /Restaurant_Review-g187147-d1912643-Reviews-R_...  d1912643             3   \n1  /Restaurant_Review-g189852-d7992032-Reviews-Bu...  d7992032             1   \n2  /Restaurant_Review-g186338-d8632781-Reviews-RO...  d8632781             7   \n\n   cuisine_style_American  ...  cuisine_style_Pizza  cuisine_style_Portuguese  \\\n0                       0  ...                    0                         0   \n1                       0  ...                    0                         0   \n2                       0  ...                    0                         0   \n\n   cuisine_style_Pub  cuisine_style_Seafood  cuisine_style_Spanish  \\\n0                  0                      0                      0   \n1                  0                      0                      0   \n2                  0                      0                      0   \n\n   cuisine_style_Sushi  cuisine_style_Unknown  cuisine_style_Vegan Options  \\\n0                    0                      0                            0   \n1                    0                      1                            0   \n2                    1                      0                            1   \n\n   cuisine_style_Vegetarian Friendly  cuisine_style_other  \n0                                  0                    0  \n1                                  0                    0  \n2                                  1                    1  \n\n[3 rows x 35 columns]",
      "text/html": "<div>\n<style scoped>\n    .dataframe tbody tr th:only-of-type {\n        vertical-align: middle;\n    }\n\n    .dataframe tbody tr th {\n        vertical-align: top;\n    }\n\n    .dataframe thead th {\n        text-align: right;\n    }\n</style>\n<table border=\"1\" class=\"dataframe\">\n  <thead>\n    <tr style=\"text-align: right;\">\n      <th></th>\n      <th>city</th>\n      <th>ranking</th>\n      <th>rating</th>\n      <th>price_range</th>\n      <th>reviews_cnt</th>\n      <th>reviews</th>\n      <th>ta_url</th>\n      <th>ta_id</th>\n      <th>cuisines_cnt</th>\n      <th>cuisine_style_American</th>\n      <th>...</th>\n      <th>cuisine_style_Pizza</th>\n      <th>cuisine_style_Portuguese</th>\n      <th>cuisine_style_Pub</th>\n      <th>cuisine_style_Seafood</th>\n      <th>cuisine_style_Spanish</th>\n      <th>cuisine_style_Sushi</th>\n      <th>cuisine_style_Unknown</th>\n      <th>cuisine_style_Vegan Options</th>\n      <th>cuisine_style_Vegetarian Friendly</th>\n      <th>cuisine_style_other</th>\n    </tr>\n  </thead>\n  <tbody>\n    <tr>\n      <th>0</th>\n      <td>Paris</td>\n      <td>5570.0</td>\n      <td>3.5</td>\n      <td>2.0</td>\n      <td>194.0</td>\n      <td>[['Good food at your doorstep', 'A good hotel ...</td>\n      <td>/Restaurant_Review-g187147-d1912643-Reviews-R_...</td>\n      <td>d1912643</td>\n      <td>3</td>\n      <td>0</td>\n      <td>...</td>\n      <td>0</td>\n      <td>0</td>\n      <td>0</td>\n      <td>0</td>\n      <td>0</td>\n      <td>0</td>\n      <td>0</td>\n      <td>0</td>\n      <td>0</td>\n      <td>0</td>\n    </tr>\n    <tr>\n      <th>1</th>\n      <td>Stockholm</td>\n      <td>1537.0</td>\n      <td>4.0</td>\n      <td>2.0</td>\n      <td>10.0</td>\n      <td>[['Unique cuisine', 'Delicious Nepalese food']...</td>\n      <td>/Restaurant_Review-g189852-d7992032-Reviews-Bu...</td>\n      <td>d7992032</td>\n      <td>1</td>\n      <td>0</td>\n      <td>...</td>\n      <td>0</td>\n      <td>0</td>\n      <td>0</td>\n      <td>0</td>\n      <td>0</td>\n      <td>0</td>\n      <td>1</td>\n      <td>0</td>\n      <td>0</td>\n      <td>0</td>\n    </tr>\n    <tr>\n      <th>2</th>\n      <td>London</td>\n      <td>353.0</td>\n      <td>4.5</td>\n      <td>3.0</td>\n      <td>688.0</td>\n      <td>[['Catch up with friends', 'Not exceptional'],...</td>\n      <td>/Restaurant_Review-g186338-d8632781-Reviews-RO...</td>\n      <td>d8632781</td>\n      <td>7</td>\n      <td>0</td>\n      <td>...</td>\n      <td>0</td>\n      <td>0</td>\n      <td>0</td>\n      <td>0</td>\n      <td>0</td>\n      <td>1</td>\n      <td>0</td>\n      <td>1</td>\n      <td>1</td>\n      <td>1</td>\n    </tr>\n  </tbody>\n</table>\n<p>3 rows × 35 columns</p>\n</div>"
     },
     "metadata": {},
     "execution_count": 1143
    }
   ],
   "source": [
    "df=df.merge(cuisines, how=\"left\", on=\"ta_id\")\n",
    "df.drop(\"cuisine_style\", axis=1, inplace=True)\n",
    "df.head(3)"
   ]
  },
  {
   "cell_type": "markdown",
   "metadata": {},
   "source": [
    "### Работа с отзывами"
   ]
  },
  {
   "cell_type": "code",
   "execution_count": 1144,
   "metadata": {
    "tags": []
   },
   "outputs": [],
   "source": [
    "reviews = df[[\"ta_id\",\"reviews\"]]\n",
    "reviews.reviews = reviews.reviews.apply(text_to_dct)\n"
   ]
  },
  {
   "cell_type": "markdown",
   "metadata": {},
   "source": [
    "Анализируем сколько бывает отзывов"
   ]
  },
  {
   "cell_type": "code",
   "execution_count": 1145,
   "metadata": {},
   "outputs": [
    {
     "output_type": "execute_result",
     "data": {
      "text/plain": "(2    28961\n 0     6465\n 1     4554\n Name: reviews, dtype: int64,\n 2    28961\n 0     6465\n 1     4554\n Name: reviews, dtype: int64)"
     },
     "metadata": {},
     "execution_count": 1145
    }
   ],
   "source": [
    "reviews.reviews.apply(lambda r: len(r[0])).value_counts(),reviews.reviews.apply(lambda r: len(r[1])).value_counts()"
   ]
  },
  {
   "cell_type": "markdown",
   "metadata": {},
   "source": [
    "Видно что количество дат отзывов скорее всего совпадает с количеством отзывов, несмотря на то что хранится в отдельном массиве. Нужен как анализ конкретных ревью, так и их дат. Вынесем в отдельные колонки"
   ]
  },
  {
   "cell_type": "code",
   "execution_count": 1146,
   "metadata": {
    "tags": []
   },
   "outputs": [
    {
     "output_type": "execute_result",
     "data": {
      "text/plain": "           ta_id   review_2        review_2_date   review_1  \\\ncount      39980      33515                33515      28961   \nunique     39980      28613                 1880      24756   \ntop     d7394137  Excellent  2018-01-07 00:00:00  Excellent   \nfreq           1        118                  486         86   \nfirst        NaN        NaN  2004-04-21 00:00:00        NaN   \nlast         NaN        NaN  2018-02-26 00:00:00        NaN   \n\n              review_1_date  \ncount                 28961  \nunique                 1951  \ntop     2018-01-03 00:00:00  \nfreq                    194  \nfirst   2007-11-14 00:00:00  \nlast    2018-02-26 00:00:00  ",
      "text/html": "<div>\n<style scoped>\n    .dataframe tbody tr th:only-of-type {\n        vertical-align: middle;\n    }\n\n    .dataframe tbody tr th {\n        vertical-align: top;\n    }\n\n    .dataframe thead th {\n        text-align: right;\n    }\n</style>\n<table border=\"1\" class=\"dataframe\">\n  <thead>\n    <tr style=\"text-align: right;\">\n      <th></th>\n      <th>ta_id</th>\n      <th>review_2</th>\n      <th>review_2_date</th>\n      <th>review_1</th>\n      <th>review_1_date</th>\n    </tr>\n  </thead>\n  <tbody>\n    <tr>\n      <th>count</th>\n      <td>39980</td>\n      <td>33515</td>\n      <td>33515</td>\n      <td>28961</td>\n      <td>28961</td>\n    </tr>\n    <tr>\n      <th>unique</th>\n      <td>39980</td>\n      <td>28613</td>\n      <td>1880</td>\n      <td>24756</td>\n      <td>1951</td>\n    </tr>\n    <tr>\n      <th>top</th>\n      <td>d7394137</td>\n      <td>Excellent</td>\n      <td>2018-01-07 00:00:00</td>\n      <td>Excellent</td>\n      <td>2018-01-03 00:00:00</td>\n    </tr>\n    <tr>\n      <th>freq</th>\n      <td>1</td>\n      <td>118</td>\n      <td>486</td>\n      <td>86</td>\n      <td>194</td>\n    </tr>\n    <tr>\n      <th>first</th>\n      <td>NaN</td>\n      <td>NaN</td>\n      <td>2004-04-21 00:00:00</td>\n      <td>NaN</td>\n      <td>2007-11-14 00:00:00</td>\n    </tr>\n    <tr>\n      <th>last</th>\n      <td>NaN</td>\n      <td>NaN</td>\n      <td>2018-02-26 00:00:00</td>\n      <td>NaN</td>\n      <td>2018-02-26 00:00:00</td>\n    </tr>\n  </tbody>\n</table>\n</div>"
     },
     "metadata": {},
     "execution_count": 1146
    }
   ],
   "source": [
    "reviews[\"review_2\"]=reviews.reviews.apply(lambda r: r[0][0] if len(r[0])>0 else None)\n",
    "reviews[\"review_2_date\"]=pd.to_datetime(reviews.reviews.apply(lambda r: r[1][0] if len(r[1])>0 else None))\n",
    "reviews[\"review_1\"]=reviews.reviews.apply(lambda r: r[0][1] if len(r[0])>1 else None)\n",
    "reviews[\"review_1_date\"]=pd.to_datetime(reviews.reviews.apply(lambda r: r[1][1] if len(r[1])>1 else None))\n",
    "reviews.drop([\"reviews\"], axis=1, inplace=True)\n",
    "reviews.describe()"
   ]
  },
  {
   "cell_type": "code",
   "execution_count": 1147,
   "metadata": {
    "tags": []
   },
   "outputs": [
    {
     "output_type": "stream",
     "name": "stdout",
     "text": "Максимальное количество дней между ревью 3207.0\n"
    }
   ],
   "source": [
    "\n",
    "print(\"Максимальное количество дней между ревью\", (reviews.review_2_date-reviews.review_1_date).dt.days.max())\n",
    "#reviews[\"days_between_reviews\"].fillna(reviews.days_between_reviews.max()+1000, inplace=True)"
   ]
  },
  {
   "cell_type": "markdown",
   "metadata": {},
   "source": [
    "Вероятно данные вбивались некорректно, т.к. самый старый второй отзыв раньше самого старого первого. Постараемся удалить выбросы"
   ]
  },
  {
   "cell_type": "code",
   "execution_count": 1148,
   "metadata": {
    "tags": []
   },
   "outputs": [],
   "source": [
    "#reviews.review_1_date.dt.year.hist()\n",
    "#print(reviews.review_1_date.dt.year.quantile([0.01,0.99]))"
   ]
  },
  {
   "cell_type": "code",
   "execution_count": 1149,
   "metadata": {
    "tags": []
   },
   "outputs": [],
   "source": [
    "#reviews.review_2_date.dt.year.hist()\n",
    "#print(reviews.review_2_date.dt.year.quantile([0.01,0.99]))\n"
   ]
  },
  {
   "cell_type": "code",
   "execution_count": 1150,
   "metadata": {},
   "outputs": [],
   "source": [
    "#reviews = reviews[(np.isnat(reviews.review_1_date) | (reviews.review_1_date.dt.year>=2012)) & (np.isnat(reviews.review_1_date) | (reviews.review_2_date.dt.year>=2013))]"
   ]
  },
  {
   "cell_type": "markdown",
   "metadata": {},
   "source": [
    "На основе дат введем два признака: Сколько прошло с последнего отзыва и как часто люди ревьюят ресторан. "
   ]
  },
  {
   "cell_type": "code",
   "execution_count": 1151,
   "metadata": {},
   "outputs": [],
   "source": [
    "today=max(reviews.review_1_date.max(),reviews.review_2_date.max())\n",
    "reviews[\"days_since_last_review\"]=(today-reviews[[\"review_1_date\",\"review_2_date\"]].max(axis=1)).dt.days\n",
    "reviews[\"days_between_reviews\"]=(np.abs(reviews.review_2_date - reviews.review_1_date)).dt.days"
   ]
  },
  {
   "cell_type": "code",
   "execution_count": 1152,
   "metadata": {},
   "outputs": [
    {
     "output_type": "execute_result",
     "data": {
      "text/plain": "<matplotlib.axes._subplots.AxesSubplot at 0x7fc35b697f10>"
     },
     "metadata": {},
     "execution_count": 1152
    },
    {
     "output_type": "display_data",
     "data": {
      "text/plain": "<Figure size 432x288 with 1 Axes>",
      "image/svg+xml": "<?xml version=\"1.0\" encoding=\"utf-8\" standalone=\"no\"?>\n<!DOCTYPE svg PUBLIC \"-//W3C//DTD SVG 1.1//EN\"\n  \"http://www.w3.org/Graphics/SVG/1.1/DTD/svg11.dtd\">\n<!-- Created with matplotlib (https://matplotlib.org/) -->\n<svg height=\"248.518125pt\" version=\"1.1\" viewBox=\"0 0 388.0125 248.518125\" width=\"388.0125pt\" xmlns=\"http://www.w3.org/2000/svg\" xmlns:xlink=\"http://www.w3.org/1999/xlink\">\n <defs>\n  <style type=\"text/css\">\n*{stroke-linecap:butt;stroke-linejoin:round;}\n  </style>\n </defs>\n <g id=\"figure_1\">\n  <g id=\"patch_1\">\n   <path d=\"M 0 248.518125 \nL 388.0125 248.518125 \nL 388.0125 0 \nL 0 0 \nz\n\" style=\"fill:none;\"/>\n  </g>\n  <g id=\"axes_1\">\n   <g id=\"patch_2\">\n    <path d=\"M 46.0125 224.64 \nL 380.8125 224.64 \nL 380.8125 7.2 \nL 46.0125 7.2 \nz\n\" style=\"fill:#ffffff;\"/>\n   </g>\n   <g id=\"patch_3\">\n    <path clip-path=\"url(#p8ddb087e32)\" d=\"M 61.230682 224.64 \nL 91.667045 224.64 \nL 91.667045 17.554286 \nL 61.230682 17.554286 \nz\n\" style=\"fill:#1f77b4;\"/>\n   </g>\n   <g id=\"patch_4\">\n    <path clip-path=\"url(#p8ddb087e32)\" d=\"M 91.667045 224.64 \nL 122.103409 224.64 \nL 122.103409 196.438584 \nL 91.667045 196.438584 \nz\n\" style=\"fill:#1f77b4;\"/>\n   </g>\n   <g id=\"patch_5\">\n    <path clip-path=\"url(#p8ddb087e32)\" d=\"M 122.103409 224.64 \nL 152.539773 224.64 \nL 152.539773 217.080781 \nL 122.103409 217.080781 \nz\n\" style=\"fill:#1f77b4;\"/>\n   </g>\n   <g id=\"patch_6\">\n    <path clip-path=\"url(#p8ddb087e32)\" d=\"M 152.539773 224.64 \nL 182.976136 224.64 \nL 182.976136 221.881807 \nL 152.539773 221.881807 \nz\n\" style=\"fill:#1f77b4;\"/>\n   </g>\n   <g id=\"patch_7\">\n    <path clip-path=\"url(#p8ddb087e32)\" d=\"M 182.976136 224.64 \nL 213.4125 224.64 \nL 213.4125 223.637021 \nL 182.976136 223.637021 \nz\n\" style=\"fill:#1f77b4;\"/>\n   </g>\n   <g id=\"patch_8\">\n    <path clip-path=\"url(#p8ddb087e32)\" d=\"M 213.4125 224.64 \nL 243.848864 224.64 \nL 243.848864 224.448254 \nL 213.4125 224.448254 \nz\n\" style=\"fill:#1f77b4;\"/>\n   </g>\n   <g id=\"patch_9\">\n    <path clip-path=\"url(#p8ddb087e32)\" d=\"M 243.848864 224.64 \nL 274.285227 224.64 \nL 274.285227 224.418755 \nL 243.848864 224.418755 \nz\n\" style=\"fill:#1f77b4;\"/>\n   </g>\n   <g id=\"patch_10\">\n    <path clip-path=\"url(#p8ddb087e32)\" d=\"M 274.285227 224.64 \nL 304.721591 224.64 \nL 304.721591 224.499878 \nL 274.285227 224.499878 \nz\n\" style=\"fill:#1f77b4;\"/>\n   </g>\n   <g id=\"patch_11\">\n    <path clip-path=\"url(#p8ddb087e32)\" d=\"M 304.721591 224.64 \nL 335.157955 224.64 \nL 335.157955 224.64 \nL 304.721591 224.64 \nz\n\" style=\"fill:#1f77b4;\"/>\n   </g>\n   <g id=\"patch_12\">\n    <path clip-path=\"url(#p8ddb087e32)\" d=\"M 335.157955 224.64 \nL 365.594318 224.64 \nL 365.594318 224.632625 \nL 335.157955 224.632625 \nz\n\" style=\"fill:#1f77b4;\"/>\n   </g>\n   <g id=\"matplotlib.axis_1\">\n    <g id=\"xtick_1\">\n     <g id=\"line2d_1\">\n      <path clip-path=\"url(#p8ddb087e32)\" d=\"M 61.230682 224.64 \nL 61.230682 7.2 \n\" style=\"fill:none;stroke:#b0b0b0;stroke-linecap:square;stroke-width:0.8;\"/>\n     </g>\n     <g id=\"line2d_2\">\n      <defs>\n       <path d=\"M 0 0 \nL 0 3.5 \n\" id=\"m14be8de6cb\" style=\"stroke:#000000;stroke-width:0.8;\"/>\n      </defs>\n      <g>\n       <use style=\"stroke:#000000;stroke-width:0.8;\" x=\"61.230682\" xlink:href=\"#m14be8de6cb\" y=\"224.64\"/>\n      </g>\n     </g>\n     <g id=\"text_1\">\n      <!-- 0 -->\n      <defs>\n       <path d=\"M 31.78125 66.40625 \nQ 24.171875 66.40625 20.328125 58.90625 \nQ 16.5 51.421875 16.5 36.375 \nQ 16.5 21.390625 20.328125 13.890625 \nQ 24.171875 6.390625 31.78125 6.390625 \nQ 39.453125 6.390625 43.28125 13.890625 \nQ 47.125 21.390625 47.125 36.375 \nQ 47.125 51.421875 43.28125 58.90625 \nQ 39.453125 66.40625 31.78125 66.40625 \nz\nM 31.78125 74.21875 \nQ 44.046875 74.21875 50.515625 64.515625 \nQ 56.984375 54.828125 56.984375 36.375 \nQ 56.984375 17.96875 50.515625 8.265625 \nQ 44.046875 -1.421875 31.78125 -1.421875 \nQ 19.53125 -1.421875 13.0625 8.265625 \nQ 6.59375 17.96875 6.59375 36.375 \nQ 6.59375 54.828125 13.0625 64.515625 \nQ 19.53125 74.21875 31.78125 74.21875 \nz\n\" id=\"DejaVuSans-48\"/>\n      </defs>\n      <g transform=\"translate(58.049432 239.238437)scale(0.1 -0.1)\">\n       <use xlink:href=\"#DejaVuSans-48\"/>\n      </g>\n     </g>\n    </g>\n    <g id=\"xtick_2\">\n     <g id=\"line2d_3\">\n      <path clip-path=\"url(#p8ddb087e32)\" d=\"M 121.393488 224.64 \nL 121.393488 7.2 \n\" style=\"fill:none;stroke:#b0b0b0;stroke-linecap:square;stroke-width:0.8;\"/>\n     </g>\n     <g id=\"line2d_4\">\n      <g>\n       <use style=\"stroke:#000000;stroke-width:0.8;\" x=\"121.393488\" xlink:href=\"#m14be8de6cb\" y=\"224.64\"/>\n      </g>\n     </g>\n     <g id=\"text_2\">\n      <!-- 1000 -->\n      <defs>\n       <path d=\"M 12.40625 8.296875 \nL 28.515625 8.296875 \nL 28.515625 63.921875 \nL 10.984375 60.40625 \nL 10.984375 69.390625 \nL 28.421875 72.90625 \nL 38.28125 72.90625 \nL 38.28125 8.296875 \nL 54.390625 8.296875 \nL 54.390625 0 \nL 12.40625 0 \nz\n\" id=\"DejaVuSans-49\"/>\n      </defs>\n      <g transform=\"translate(108.668488 239.238437)scale(0.1 -0.1)\">\n       <use xlink:href=\"#DejaVuSans-49\"/>\n       <use x=\"63.623047\" xlink:href=\"#DejaVuSans-48\"/>\n       <use x=\"127.246094\" xlink:href=\"#DejaVuSans-48\"/>\n       <use x=\"190.869141\" xlink:href=\"#DejaVuSans-48\"/>\n      </g>\n     </g>\n    </g>\n    <g id=\"xtick_3\">\n     <g id=\"line2d_5\">\n      <path clip-path=\"url(#p8ddb087e32)\" d=\"M 181.556294 224.64 \nL 181.556294 7.2 \n\" style=\"fill:none;stroke:#b0b0b0;stroke-linecap:square;stroke-width:0.8;\"/>\n     </g>\n     <g id=\"line2d_6\">\n      <g>\n       <use style=\"stroke:#000000;stroke-width:0.8;\" x=\"181.556294\" xlink:href=\"#m14be8de6cb\" y=\"224.64\"/>\n      </g>\n     </g>\n     <g id=\"text_3\">\n      <!-- 2000 -->\n      <defs>\n       <path d=\"M 19.1875 8.296875 \nL 53.609375 8.296875 \nL 53.609375 0 \nL 7.328125 0 \nL 7.328125 8.296875 \nQ 12.9375 14.109375 22.625 23.890625 \nQ 32.328125 33.6875 34.8125 36.53125 \nQ 39.546875 41.84375 41.421875 45.53125 \nQ 43.3125 49.21875 43.3125 52.78125 \nQ 43.3125 58.59375 39.234375 62.25 \nQ 35.15625 65.921875 28.609375 65.921875 \nQ 23.96875 65.921875 18.8125 64.3125 \nQ 13.671875 62.703125 7.8125 59.421875 \nL 7.8125 69.390625 \nQ 13.765625 71.78125 18.9375 73 \nQ 24.125 74.21875 28.421875 74.21875 \nQ 39.75 74.21875 46.484375 68.546875 \nQ 53.21875 62.890625 53.21875 53.421875 \nQ 53.21875 48.921875 51.53125 44.890625 \nQ 49.859375 40.875 45.40625 35.40625 \nQ 44.1875 33.984375 37.640625 27.21875 \nQ 31.109375 20.453125 19.1875 8.296875 \nz\n\" id=\"DejaVuSans-50\"/>\n      </defs>\n      <g transform=\"translate(168.831294 239.238437)scale(0.1 -0.1)\">\n       <use xlink:href=\"#DejaVuSans-50\"/>\n       <use x=\"63.623047\" xlink:href=\"#DejaVuSans-48\"/>\n       <use x=\"127.246094\" xlink:href=\"#DejaVuSans-48\"/>\n       <use x=\"190.869141\" xlink:href=\"#DejaVuSans-48\"/>\n      </g>\n     </g>\n    </g>\n    <g id=\"xtick_4\">\n     <g id=\"line2d_7\">\n      <path clip-path=\"url(#p8ddb087e32)\" d=\"M 241.7191 224.64 \nL 241.7191 7.2 \n\" style=\"fill:none;stroke:#b0b0b0;stroke-linecap:square;stroke-width:0.8;\"/>\n     </g>\n     <g id=\"line2d_8\">\n      <g>\n       <use style=\"stroke:#000000;stroke-width:0.8;\" x=\"241.7191\" xlink:href=\"#m14be8de6cb\" y=\"224.64\"/>\n      </g>\n     </g>\n     <g id=\"text_4\">\n      <!-- 3000 -->\n      <defs>\n       <path d=\"M 40.578125 39.3125 \nQ 47.65625 37.796875 51.625 33 \nQ 55.609375 28.21875 55.609375 21.1875 \nQ 55.609375 10.40625 48.1875 4.484375 \nQ 40.765625 -1.421875 27.09375 -1.421875 \nQ 22.515625 -1.421875 17.65625 -0.515625 \nQ 12.796875 0.390625 7.625 2.203125 \nL 7.625 11.71875 \nQ 11.71875 9.328125 16.59375 8.109375 \nQ 21.484375 6.890625 26.8125 6.890625 \nQ 36.078125 6.890625 40.9375 10.546875 \nQ 45.796875 14.203125 45.796875 21.1875 \nQ 45.796875 27.640625 41.28125 31.265625 \nQ 36.765625 34.90625 28.71875 34.90625 \nL 20.21875 34.90625 \nL 20.21875 43.015625 \nL 29.109375 43.015625 \nQ 36.375 43.015625 40.234375 45.921875 \nQ 44.09375 48.828125 44.09375 54.296875 \nQ 44.09375 59.90625 40.109375 62.90625 \nQ 36.140625 65.921875 28.71875 65.921875 \nQ 24.65625 65.921875 20.015625 65.03125 \nQ 15.375 64.15625 9.8125 62.3125 \nL 9.8125 71.09375 \nQ 15.4375 72.65625 20.34375 73.4375 \nQ 25.25 74.21875 29.59375 74.21875 \nQ 40.828125 74.21875 47.359375 69.109375 \nQ 53.90625 64.015625 53.90625 55.328125 \nQ 53.90625 49.265625 50.4375 45.09375 \nQ 46.96875 40.921875 40.578125 39.3125 \nz\n\" id=\"DejaVuSans-51\"/>\n      </defs>\n      <g transform=\"translate(228.9941 239.238437)scale(0.1 -0.1)\">\n       <use xlink:href=\"#DejaVuSans-51\"/>\n       <use x=\"63.623047\" xlink:href=\"#DejaVuSans-48\"/>\n       <use x=\"127.246094\" xlink:href=\"#DejaVuSans-48\"/>\n       <use x=\"190.869141\" xlink:href=\"#DejaVuSans-48\"/>\n      </g>\n     </g>\n    </g>\n    <g id=\"xtick_5\">\n     <g id=\"line2d_9\">\n      <path clip-path=\"url(#p8ddb087e32)\" d=\"M 301.881906 224.64 \nL 301.881906 7.2 \n\" style=\"fill:none;stroke:#b0b0b0;stroke-linecap:square;stroke-width:0.8;\"/>\n     </g>\n     <g id=\"line2d_10\">\n      <g>\n       <use style=\"stroke:#000000;stroke-width:0.8;\" x=\"301.881906\" xlink:href=\"#m14be8de6cb\" y=\"224.64\"/>\n      </g>\n     </g>\n     <g id=\"text_5\">\n      <!-- 4000 -->\n      <defs>\n       <path d=\"M 37.796875 64.3125 \nL 12.890625 25.390625 \nL 37.796875 25.390625 \nz\nM 35.203125 72.90625 \nL 47.609375 72.90625 \nL 47.609375 25.390625 \nL 58.015625 25.390625 \nL 58.015625 17.1875 \nL 47.609375 17.1875 \nL 47.609375 0 \nL 37.796875 0 \nL 37.796875 17.1875 \nL 4.890625 17.1875 \nL 4.890625 26.703125 \nz\n\" id=\"DejaVuSans-52\"/>\n      </defs>\n      <g transform=\"translate(289.156906 239.238437)scale(0.1 -0.1)\">\n       <use xlink:href=\"#DejaVuSans-52\"/>\n       <use x=\"63.623047\" xlink:href=\"#DejaVuSans-48\"/>\n       <use x=\"127.246094\" xlink:href=\"#DejaVuSans-48\"/>\n       <use x=\"190.869141\" xlink:href=\"#DejaVuSans-48\"/>\n      </g>\n     </g>\n    </g>\n    <g id=\"xtick_6\">\n     <g id=\"line2d_11\">\n      <path clip-path=\"url(#p8ddb087e32)\" d=\"M 362.044713 224.64 \nL 362.044713 7.2 \n\" style=\"fill:none;stroke:#b0b0b0;stroke-linecap:square;stroke-width:0.8;\"/>\n     </g>\n     <g id=\"line2d_12\">\n      <g>\n       <use style=\"stroke:#000000;stroke-width:0.8;\" x=\"362.044713\" xlink:href=\"#m14be8de6cb\" y=\"224.64\"/>\n      </g>\n     </g>\n     <g id=\"text_6\">\n      <!-- 5000 -->\n      <defs>\n       <path d=\"M 10.796875 72.90625 \nL 49.515625 72.90625 \nL 49.515625 64.59375 \nL 19.828125 64.59375 \nL 19.828125 46.734375 \nQ 21.96875 47.46875 24.109375 47.828125 \nQ 26.265625 48.1875 28.421875 48.1875 \nQ 40.625 48.1875 47.75 41.5 \nQ 54.890625 34.8125 54.890625 23.390625 \nQ 54.890625 11.625 47.5625 5.09375 \nQ 40.234375 -1.421875 26.90625 -1.421875 \nQ 22.3125 -1.421875 17.546875 -0.640625 \nQ 12.796875 0.140625 7.71875 1.703125 \nL 7.71875 11.625 \nQ 12.109375 9.234375 16.796875 8.0625 \nQ 21.484375 6.890625 26.703125 6.890625 \nQ 35.15625 6.890625 40.078125 11.328125 \nQ 45.015625 15.765625 45.015625 23.390625 \nQ 45.015625 31 40.078125 35.4375 \nQ 35.15625 39.890625 26.703125 39.890625 \nQ 22.75 39.890625 18.8125 39.015625 \nQ 14.890625 38.140625 10.796875 36.28125 \nz\n\" id=\"DejaVuSans-53\"/>\n      </defs>\n      <g transform=\"translate(349.319713 239.238437)scale(0.1 -0.1)\">\n       <use xlink:href=\"#DejaVuSans-53\"/>\n       <use x=\"63.623047\" xlink:href=\"#DejaVuSans-48\"/>\n       <use x=\"127.246094\" xlink:href=\"#DejaVuSans-48\"/>\n       <use x=\"190.869141\" xlink:href=\"#DejaVuSans-48\"/>\n      </g>\n     </g>\n    </g>\n   </g>\n   <g id=\"matplotlib.axis_2\">\n    <g id=\"ytick_1\">\n     <g id=\"line2d_13\">\n      <path clip-path=\"url(#p8ddb087e32)\" d=\"M 46.0125 224.64 \nL 380.8125 224.64 \n\" style=\"fill:none;stroke:#b0b0b0;stroke-linecap:square;stroke-width:0.8;\"/>\n     </g>\n     <g id=\"line2d_14\">\n      <defs>\n       <path d=\"M 0 0 \nL -3.5 0 \n\" id=\"m3ff6f156f4\" style=\"stroke:#000000;stroke-width:0.8;\"/>\n      </defs>\n      <g>\n       <use style=\"stroke:#000000;stroke-width:0.8;\" x=\"46.0125\" xlink:href=\"#m3ff6f156f4\" y=\"224.64\"/>\n      </g>\n     </g>\n     <g id=\"text_7\">\n      <!-- 0 -->\n      <g transform=\"translate(32.65 228.439219)scale(0.1 -0.1)\">\n       <use xlink:href=\"#DejaVuSans-48\"/>\n      </g>\n     </g>\n    </g>\n    <g id=\"ytick_2\">\n     <g id=\"line2d_15\">\n      <path clip-path=\"url(#p8ddb087e32)\" d=\"M 46.0125 187.765763 \nL 380.8125 187.765763 \n\" style=\"fill:none;stroke:#b0b0b0;stroke-linecap:square;stroke-width:0.8;\"/>\n     </g>\n     <g id=\"line2d_16\">\n      <g>\n       <use style=\"stroke:#000000;stroke-width:0.8;\" x=\"46.0125\" xlink:href=\"#m3ff6f156f4\" y=\"187.765763\"/>\n      </g>\n     </g>\n     <g id=\"text_8\">\n      <!-- 5000 -->\n      <g transform=\"translate(13.5625 191.564982)scale(0.1 -0.1)\">\n       <use xlink:href=\"#DejaVuSans-53\"/>\n       <use x=\"63.623047\" xlink:href=\"#DejaVuSans-48\"/>\n       <use x=\"127.246094\" xlink:href=\"#DejaVuSans-48\"/>\n       <use x=\"190.869141\" xlink:href=\"#DejaVuSans-48\"/>\n      </g>\n     </g>\n    </g>\n    <g id=\"ytick_3\">\n     <g id=\"line2d_17\">\n      <path clip-path=\"url(#p8ddb087e32)\" d=\"M 46.0125 150.891526 \nL 380.8125 150.891526 \n\" style=\"fill:none;stroke:#b0b0b0;stroke-linecap:square;stroke-width:0.8;\"/>\n     </g>\n     <g id=\"line2d_18\">\n      <g>\n       <use style=\"stroke:#000000;stroke-width:0.8;\" x=\"46.0125\" xlink:href=\"#m3ff6f156f4\" y=\"150.891526\"/>\n      </g>\n     </g>\n     <g id=\"text_9\">\n      <!-- 10000 -->\n      <g transform=\"translate(7.2 154.690745)scale(0.1 -0.1)\">\n       <use xlink:href=\"#DejaVuSans-49\"/>\n       <use x=\"63.623047\" xlink:href=\"#DejaVuSans-48\"/>\n       <use x=\"127.246094\" xlink:href=\"#DejaVuSans-48\"/>\n       <use x=\"190.869141\" xlink:href=\"#DejaVuSans-48\"/>\n       <use x=\"254.492188\" xlink:href=\"#DejaVuSans-48\"/>\n      </g>\n     </g>\n    </g>\n    <g id=\"ytick_4\">\n     <g id=\"line2d_19\">\n      <path clip-path=\"url(#p8ddb087e32)\" d=\"M 46.0125 114.017289 \nL 380.8125 114.017289 \n\" style=\"fill:none;stroke:#b0b0b0;stroke-linecap:square;stroke-width:0.8;\"/>\n     </g>\n     <g id=\"line2d_20\">\n      <g>\n       <use style=\"stroke:#000000;stroke-width:0.8;\" x=\"46.0125\" xlink:href=\"#m3ff6f156f4\" y=\"114.017289\"/>\n      </g>\n     </g>\n     <g id=\"text_10\">\n      <!-- 15000 -->\n      <g transform=\"translate(7.2 117.816508)scale(0.1 -0.1)\">\n       <use xlink:href=\"#DejaVuSans-49\"/>\n       <use x=\"63.623047\" xlink:href=\"#DejaVuSans-53\"/>\n       <use x=\"127.246094\" xlink:href=\"#DejaVuSans-48\"/>\n       <use x=\"190.869141\" xlink:href=\"#DejaVuSans-48\"/>\n       <use x=\"254.492188\" xlink:href=\"#DejaVuSans-48\"/>\n      </g>\n     </g>\n    </g>\n    <g id=\"ytick_5\">\n     <g id=\"line2d_21\">\n      <path clip-path=\"url(#p8ddb087e32)\" d=\"M 46.0125 77.143053 \nL 380.8125 77.143053 \n\" style=\"fill:none;stroke:#b0b0b0;stroke-linecap:square;stroke-width:0.8;\"/>\n     </g>\n     <g id=\"line2d_22\">\n      <g>\n       <use style=\"stroke:#000000;stroke-width:0.8;\" x=\"46.0125\" xlink:href=\"#m3ff6f156f4\" y=\"77.143053\"/>\n      </g>\n     </g>\n     <g id=\"text_11\">\n      <!-- 20000 -->\n      <g transform=\"translate(7.2 80.942271)scale(0.1 -0.1)\">\n       <use xlink:href=\"#DejaVuSans-50\"/>\n       <use x=\"63.623047\" xlink:href=\"#DejaVuSans-48\"/>\n       <use x=\"127.246094\" xlink:href=\"#DejaVuSans-48\"/>\n       <use x=\"190.869141\" xlink:href=\"#DejaVuSans-48\"/>\n       <use x=\"254.492188\" xlink:href=\"#DejaVuSans-48\"/>\n      </g>\n     </g>\n    </g>\n    <g id=\"ytick_6\">\n     <g id=\"line2d_23\">\n      <path clip-path=\"url(#p8ddb087e32)\" d=\"M 46.0125 40.268816 \nL 380.8125 40.268816 \n\" style=\"fill:none;stroke:#b0b0b0;stroke-linecap:square;stroke-width:0.8;\"/>\n     </g>\n     <g id=\"line2d_24\">\n      <g>\n       <use style=\"stroke:#000000;stroke-width:0.8;\" x=\"46.0125\" xlink:href=\"#m3ff6f156f4\" y=\"40.268816\"/>\n      </g>\n     </g>\n     <g id=\"text_12\">\n      <!-- 25000 -->\n      <g transform=\"translate(7.2 44.068034)scale(0.1 -0.1)\">\n       <use xlink:href=\"#DejaVuSans-50\"/>\n       <use x=\"63.623047\" xlink:href=\"#DejaVuSans-53\"/>\n       <use x=\"127.246094\" xlink:href=\"#DejaVuSans-48\"/>\n       <use x=\"190.869141\" xlink:href=\"#DejaVuSans-48\"/>\n       <use x=\"254.492188\" xlink:href=\"#DejaVuSans-48\"/>\n      </g>\n     </g>\n    </g>\n   </g>\n   <g id=\"patch_13\">\n    <path d=\"M 46.0125 224.64 \nL 46.0125 7.2 \n\" style=\"fill:none;stroke:#000000;stroke-linecap:square;stroke-linejoin:miter;stroke-width:0.8;\"/>\n   </g>\n   <g id=\"patch_14\">\n    <path d=\"M 380.8125 224.64 \nL 380.8125 7.2 \n\" style=\"fill:none;stroke:#000000;stroke-linecap:square;stroke-linejoin:miter;stroke-width:0.8;\"/>\n   </g>\n   <g id=\"patch_15\">\n    <path d=\"M 46.0125 224.64 \nL 380.8125 224.64 \n\" style=\"fill:none;stroke:#000000;stroke-linecap:square;stroke-linejoin:miter;stroke-width:0.8;\"/>\n   </g>\n   <g id=\"patch_16\">\n    <path d=\"M 46.0125 7.2 \nL 380.8125 7.2 \n\" style=\"fill:none;stroke:#000000;stroke-linecap:square;stroke-linejoin:miter;stroke-width:0.8;\"/>\n   </g>\n  </g>\n </g>\n <defs>\n  <clipPath id=\"p8ddb087e32\">\n   <rect height=\"217.44\" width=\"334.8\" x=\"46.0125\" y=\"7.2\"/>\n  </clipPath>\n </defs>\n</svg>\n",
      "image/png": "[encoded data removed]"
     },
     "metadata": {
      "needs_background": "light"
     }
    }
   ],
   "source": [
    "reviews.days_since_last_review.hist()"
   ]
  },
  {
   "cell_type": "code",
   "execution_count": 1153,
   "metadata": {},
   "outputs": [
    {
     "output_type": "execute_result",
     "data": {
      "text/plain": "<matplotlib.axes._subplots.AxesSubplot at 0x7fc35b5c0b90>"
     },
     "metadata": {},
     "execution_count": 1153
    },
    {
     "output_type": "display_data",
     "data": {
      "text/plain": "<Figure size 432x288 with 1 Axes>",
      "image/svg+xml": "<?xml version=\"1.0\" encoding=\"utf-8\" standalone=\"no\"?>\n<!DOCTYPE svg PUBLIC \"-//W3C//DTD SVG 1.1//EN\"\n  \"http://www.w3.org/Graphics/SVG/1.1/DTD/svg11.dtd\">\n<!-- Created with matplotlib (https://matplotlib.org/) -->\n<svg height=\"248.518125pt\" version=\"1.1\" viewBox=\"0 0 388.0125 248.518125\" width=\"388.0125pt\" xmlns=\"http://www.w3.org/2000/svg\" xmlns:xlink=\"http://www.w3.org/1999/xlink\">\n <defs>\n  <style type=\"text/css\">\n*{stroke-linecap:butt;stroke-linejoin:round;}\n  </style>\n </defs>\n <g id=\"figure_1\">\n  <g id=\"patch_1\">\n   <path d=\"M 0 248.518125 \nL 388.0125 248.518125 \nL 388.0125 0 \nL 0 0 \nz\n\" style=\"fill:none;\"/>\n  </g>\n  <g id=\"axes_1\">\n   <g id=\"patch_2\">\n    <path d=\"M 46.0125 224.64 \nL 380.8125 224.64 \nL 380.8125 7.2 \nL 46.0125 7.2 \nz\n\" style=\"fill:#ffffff;\"/>\n   </g>\n   <g id=\"patch_3\">\n    <path clip-path=\"url(#p7e8ba3b4e3)\" d=\"M 61.230682 224.64 \nL 91.667045 224.64 \nL 91.667045 17.554286 \nL 61.230682 17.554286 \nz\n\" style=\"fill:#1f77b4;\"/>\n   </g>\n   <g id=\"patch_4\">\n    <path clip-path=\"url(#p7e8ba3b4e3)\" d=\"M 91.667045 224.64 \nL 122.103409 224.64 \nL 122.103409 206.261566 \nL 91.667045 206.261566 \nz\n\" style=\"fill:#1f77b4;\"/>\n   </g>\n   <g id=\"patch_5\">\n    <path clip-path=\"url(#p7e8ba3b4e3)\" d=\"M 122.103409 224.64 \nL 152.539773 224.64 \nL 152.539773 220.152149 \nL 122.103409 220.152149 \nz\n\" style=\"fill:#1f77b4;\"/>\n   </g>\n   <g id=\"patch_6\">\n    <path clip-path=\"url(#p7e8ba3b4e3)\" d=\"M 152.539773 224.64 \nL 182.976136 224.64 \nL 182.976136 222.762676 \nL 152.539773 222.762676 \nz\n\" style=\"fill:#1f77b4;\"/>\n   </g>\n   <g id=\"patch_7\">\n    <path clip-path=\"url(#p7e8ba3b4e3)\" d=\"M 182.976136 224.64 \nL 213.4125 224.64 \nL 213.4125 223.802053 \nL 182.976136 223.802053 \nz\n\" style=\"fill:#1f77b4;\"/>\n   </g>\n   <g id=\"patch_8\">\n    <path clip-path=\"url(#p7e8ba3b4e3)\" d=\"M 213.4125 224.64 \nL 243.848864 224.64 \nL 243.848864 224.253255 \nL 213.4125 224.253255 \nz\n\" style=\"fill:#1f77b4;\"/>\n   </g>\n   <g id=\"patch_9\">\n    <path clip-path=\"url(#p7e8ba3b4e3)\" d=\"M 243.848864 224.64 \nL 274.285227 224.64 \nL 274.285227 224.511085 \nL 243.848864 224.511085 \nz\n\" style=\"fill:#1f77b4;\"/>\n   </g>\n   <g id=\"patch_10\">\n    <path clip-path=\"url(#p7e8ba3b4e3)\" d=\"M 274.285227 224.64 \nL 304.721591 224.64 \nL 304.721591 224.591657 \nL 274.285227 224.591657 \nz\n\" style=\"fill:#1f77b4;\"/>\n   </g>\n   <g id=\"patch_11\">\n    <path clip-path=\"url(#p7e8ba3b4e3)\" d=\"M 304.721591 224.64 \nL 335.157955 224.64 \nL 335.157955 224.615828 \nL 304.721591 224.615828 \nz\n\" style=\"fill:#1f77b4;\"/>\n   </g>\n   <g id=\"patch_12\">\n    <path clip-path=\"url(#p7e8ba3b4e3)\" d=\"M 335.157955 224.64 \nL 365.594318 224.64 \nL 365.594318 224.551371 \nL 335.157955 224.551371 \nz\n\" style=\"fill:#1f77b4;\"/>\n   </g>\n   <g id=\"matplotlib.axis_1\">\n    <g id=\"xtick_1\">\n     <g id=\"line2d_1\">\n      <path clip-path=\"url(#p7e8ba3b4e3)\" d=\"M 61.230682 224.64 \nL 61.230682 7.2 \n\" style=\"fill:none;stroke:#b0b0b0;stroke-linecap:square;stroke-width:0.8;\"/>\n     </g>\n     <g id=\"line2d_2\">\n      <defs>\n       <path d=\"M 0 0 \nL 0 3.5 \n\" id=\"m1479b6f85f\" style=\"stroke:#000000;stroke-width:0.8;\"/>\n      </defs>\n      <g>\n       <use style=\"stroke:#000000;stroke-width:0.8;\" x=\"61.230682\" xlink:href=\"#m1479b6f85f\" y=\"224.64\"/>\n      </g>\n     </g>\n     <g id=\"text_1\">\n      <!-- 0 -->\n      <defs>\n       <path d=\"M 31.78125 66.40625 \nQ 24.171875 66.40625 20.328125 58.90625 \nQ 16.5 51.421875 16.5 36.375 \nQ 16.5 21.390625 20.328125 13.890625 \nQ 24.171875 6.390625 31.78125 6.390625 \nQ 39.453125 6.390625 43.28125 13.890625 \nQ 47.125 21.390625 47.125 36.375 \nQ 47.125 51.421875 43.28125 58.90625 \nQ 39.453125 66.40625 31.78125 66.40625 \nz\nM 31.78125 74.21875 \nQ 44.046875 74.21875 50.515625 64.515625 \nQ 56.984375 54.828125 56.984375 36.375 \nQ 56.984375 17.96875 50.515625 8.265625 \nQ 44.046875 -1.421875 31.78125 -1.421875 \nQ 19.53125 -1.421875 13.0625 8.265625 \nQ 6.59375 17.96875 6.59375 36.375 \nQ 6.59375 54.828125 13.0625 64.515625 \nQ 19.53125 74.21875 31.78125 74.21875 \nz\n\" id=\"DejaVuSans-48\"/>\n      </defs>\n      <g transform=\"translate(58.049432 239.238438)scale(0.1 -0.1)\">\n       <use xlink:href=\"#DejaVuSans-48\"/>\n      </g>\n     </g>\n    </g>\n    <g id=\"xtick_2\">\n     <g id=\"line2d_3\">\n      <path clip-path=\"url(#p7e8ba3b4e3)\" d=\"M 108.683697 224.64 \nL 108.683697 7.2 \n\" style=\"fill:none;stroke:#b0b0b0;stroke-linecap:square;stroke-width:0.8;\"/>\n     </g>\n     <g id=\"line2d_4\">\n      <g>\n       <use style=\"stroke:#000000;stroke-width:0.8;\" x=\"108.683697\" xlink:href=\"#m1479b6f85f\" y=\"224.64\"/>\n      </g>\n     </g>\n     <g id=\"text_2\">\n      <!-- 500 -->\n      <defs>\n       <path d=\"M 10.796875 72.90625 \nL 49.515625 72.90625 \nL 49.515625 64.59375 \nL 19.828125 64.59375 \nL 19.828125 46.734375 \nQ 21.96875 47.46875 24.109375 47.828125 \nQ 26.265625 48.1875 28.421875 48.1875 \nQ 40.625 48.1875 47.75 41.5 \nQ 54.890625 34.8125 54.890625 23.390625 \nQ 54.890625 11.625 47.5625 5.09375 \nQ 40.234375 -1.421875 26.90625 -1.421875 \nQ 22.3125 -1.421875 17.546875 -0.640625 \nQ 12.796875 0.140625 7.71875 1.703125 \nL 7.71875 11.625 \nQ 12.109375 9.234375 16.796875 8.0625 \nQ 21.484375 6.890625 26.703125 6.890625 \nQ 35.15625 6.890625 40.078125 11.328125 \nQ 45.015625 15.765625 45.015625 23.390625 \nQ 45.015625 31 40.078125 35.4375 \nQ 35.15625 39.890625 26.703125 39.890625 \nQ 22.75 39.890625 18.8125 39.015625 \nQ 14.890625 38.140625 10.796875 36.28125 \nz\n\" id=\"DejaVuSans-53\"/>\n      </defs>\n      <g transform=\"translate(99.139947 239.238438)scale(0.1 -0.1)\">\n       <use xlink:href=\"#DejaVuSans-53\"/>\n       <use x=\"63.623047\" xlink:href=\"#DejaVuSans-48\"/>\n       <use x=\"127.246094\" xlink:href=\"#DejaVuSans-48\"/>\n      </g>\n     </g>\n    </g>\n    <g id=\"xtick_3\">\n     <g id=\"line2d_5\">\n      <path clip-path=\"url(#p7e8ba3b4e3)\" d=\"M 156.136711 224.64 \nL 156.136711 7.2 \n\" style=\"fill:none;stroke:#b0b0b0;stroke-linecap:square;stroke-width:0.8;\"/>\n     </g>\n     <g id=\"line2d_6\">\n      <g>\n       <use style=\"stroke:#000000;stroke-width:0.8;\" x=\"156.136711\" xlink:href=\"#m1479b6f85f\" y=\"224.64\"/>\n      </g>\n     </g>\n     <g id=\"text_3\">\n      <!-- 1000 -->\n      <defs>\n       <path d=\"M 12.40625 8.296875 \nL 28.515625 8.296875 \nL 28.515625 63.921875 \nL 10.984375 60.40625 \nL 10.984375 69.390625 \nL 28.421875 72.90625 \nL 38.28125 72.90625 \nL 38.28125 8.296875 \nL 54.390625 8.296875 \nL 54.390625 0 \nL 12.40625 0 \nz\n\" id=\"DejaVuSans-49\"/>\n      </defs>\n      <g transform=\"translate(143.411711 239.238438)scale(0.1 -0.1)\">\n       <use xlink:href=\"#DejaVuSans-49\"/>\n       <use x=\"63.623047\" xlink:href=\"#DejaVuSans-48\"/>\n       <use x=\"127.246094\" xlink:href=\"#DejaVuSans-48\"/>\n       <use x=\"190.869141\" xlink:href=\"#DejaVuSans-48\"/>\n      </g>\n     </g>\n    </g>\n    <g id=\"xtick_4\">\n     <g id=\"line2d_7\">\n      <path clip-path=\"url(#p7e8ba3b4e3)\" d=\"M 203.589726 224.64 \nL 203.589726 7.2 \n\" style=\"fill:none;stroke:#b0b0b0;stroke-linecap:square;stroke-width:0.8;\"/>\n     </g>\n     <g id=\"line2d_8\">\n      <g>\n       <use style=\"stroke:#000000;stroke-width:0.8;\" x=\"203.589726\" xlink:href=\"#m1479b6f85f\" y=\"224.64\"/>\n      </g>\n     </g>\n     <g id=\"text_4\">\n      <!-- 1500 -->\n      <g transform=\"translate(190.864726 239.238438)scale(0.1 -0.1)\">\n       <use xlink:href=\"#DejaVuSans-49\"/>\n       <use x=\"63.623047\" xlink:href=\"#DejaVuSans-53\"/>\n       <use x=\"127.246094\" xlink:href=\"#DejaVuSans-48\"/>\n       <use x=\"190.869141\" xlink:href=\"#DejaVuSans-48\"/>\n      </g>\n     </g>\n    </g>\n    <g id=\"xtick_5\">\n     <g id=\"line2d_9\">\n      <path clip-path=\"url(#p7e8ba3b4e3)\" d=\"M 251.042741 224.64 \nL 251.042741 7.2 \n\" style=\"fill:none;stroke:#b0b0b0;stroke-linecap:square;stroke-width:0.8;\"/>\n     </g>\n     <g id=\"line2d_10\">\n      <g>\n       <use style=\"stroke:#000000;stroke-width:0.8;\" x=\"251.042741\" xlink:href=\"#m1479b6f85f\" y=\"224.64\"/>\n      </g>\n     </g>\n     <g id=\"text_5\">\n      <!-- 2000 -->\n      <defs>\n       <path d=\"M 19.1875 8.296875 \nL 53.609375 8.296875 \nL 53.609375 0 \nL 7.328125 0 \nL 7.328125 8.296875 \nQ 12.9375 14.109375 22.625 23.890625 \nQ 32.328125 33.6875 34.8125 36.53125 \nQ 39.546875 41.84375 41.421875 45.53125 \nQ 43.3125 49.21875 43.3125 52.78125 \nQ 43.3125 58.59375 39.234375 62.25 \nQ 35.15625 65.921875 28.609375 65.921875 \nQ 23.96875 65.921875 18.8125 64.3125 \nQ 13.671875 62.703125 7.8125 59.421875 \nL 7.8125 69.390625 \nQ 13.765625 71.78125 18.9375 73 \nQ 24.125 74.21875 28.421875 74.21875 \nQ 39.75 74.21875 46.484375 68.546875 \nQ 53.21875 62.890625 53.21875 53.421875 \nQ 53.21875 48.921875 51.53125 44.890625 \nQ 49.859375 40.875 45.40625 35.40625 \nQ 44.1875 33.984375 37.640625 27.21875 \nQ 31.109375 20.453125 19.1875 8.296875 \nz\n\" id=\"DejaVuSans-50\"/>\n      </defs>\n      <g transform=\"translate(238.317741 239.238438)scale(0.1 -0.1)\">\n       <use xlink:href=\"#DejaVuSans-50\"/>\n       <use x=\"63.623047\" xlink:href=\"#DejaVuSans-48\"/>\n       <use x=\"127.246094\" xlink:href=\"#DejaVuSans-48\"/>\n       <use x=\"190.869141\" xlink:href=\"#DejaVuSans-48\"/>\n      </g>\n     </g>\n    </g>\n    <g id=\"xtick_6\">\n     <g id=\"line2d_11\">\n      <path clip-path=\"url(#p7e8ba3b4e3)\" d=\"M 298.495755 224.64 \nL 298.495755 7.2 \n\" style=\"fill:none;stroke:#b0b0b0;stroke-linecap:square;stroke-width:0.8;\"/>\n     </g>\n     <g id=\"line2d_12\">\n      <g>\n       <use style=\"stroke:#000000;stroke-width:0.8;\" x=\"298.495755\" xlink:href=\"#m1479b6f85f\" y=\"224.64\"/>\n      </g>\n     </g>\n     <g id=\"text_6\">\n      <!-- 2500 -->\n      <g transform=\"translate(285.770755 239.238438)scale(0.1 -0.1)\">\n       <use xlink:href=\"#DejaVuSans-50\"/>\n       <use x=\"63.623047\" xlink:href=\"#DejaVuSans-53\"/>\n       <use x=\"127.246094\" xlink:href=\"#DejaVuSans-48\"/>\n       <use x=\"190.869141\" xlink:href=\"#DejaVuSans-48\"/>\n      </g>\n     </g>\n    </g>\n    <g id=\"xtick_7\">\n     <g id=\"line2d_13\">\n      <path clip-path=\"url(#p7e8ba3b4e3)\" d=\"M 345.94877 224.64 \nL 345.94877 7.2 \n\" style=\"fill:none;stroke:#b0b0b0;stroke-linecap:square;stroke-width:0.8;\"/>\n     </g>\n     <g id=\"line2d_14\">\n      <g>\n       <use style=\"stroke:#000000;stroke-width:0.8;\" x=\"345.94877\" xlink:href=\"#m1479b6f85f\" y=\"224.64\"/>\n      </g>\n     </g>\n     <g id=\"text_7\">\n      <!-- 3000 -->\n      <defs>\n       <path d=\"M 40.578125 39.3125 \nQ 47.65625 37.796875 51.625 33 \nQ 55.609375 28.21875 55.609375 21.1875 \nQ 55.609375 10.40625 48.1875 4.484375 \nQ 40.765625 -1.421875 27.09375 -1.421875 \nQ 22.515625 -1.421875 17.65625 -0.515625 \nQ 12.796875 0.390625 7.625 2.203125 \nL 7.625 11.71875 \nQ 11.71875 9.328125 16.59375 8.109375 \nQ 21.484375 6.890625 26.8125 6.890625 \nQ 36.078125 6.890625 40.9375 10.546875 \nQ 45.796875 14.203125 45.796875 21.1875 \nQ 45.796875 27.640625 41.28125 31.265625 \nQ 36.765625 34.90625 28.71875 34.90625 \nL 20.21875 34.90625 \nL 20.21875 43.015625 \nL 29.109375 43.015625 \nQ 36.375 43.015625 40.234375 45.921875 \nQ 44.09375 48.828125 44.09375 54.296875 \nQ 44.09375 59.90625 40.109375 62.90625 \nQ 36.140625 65.921875 28.71875 65.921875 \nQ 24.65625 65.921875 20.015625 65.03125 \nQ 15.375 64.15625 9.8125 62.3125 \nL 9.8125 71.09375 \nQ 15.4375 72.65625 20.34375 73.4375 \nQ 25.25 74.21875 29.59375 74.21875 \nQ 40.828125 74.21875 47.359375 69.109375 \nQ 53.90625 64.015625 53.90625 55.328125 \nQ 53.90625 49.265625 50.4375 45.09375 \nQ 46.96875 40.921875 40.578125 39.3125 \nz\n\" id=\"DejaVuSans-51\"/>\n      </defs>\n      <g transform=\"translate(333.22377 239.238438)scale(0.1 -0.1)\">\n       <use xlink:href=\"#DejaVuSans-51\"/>\n       <use x=\"63.623047\" xlink:href=\"#DejaVuSans-48\"/>\n       <use x=\"127.246094\" xlink:href=\"#DejaVuSans-48\"/>\n       <use x=\"190.869141\" xlink:href=\"#DejaVuSans-48\"/>\n      </g>\n     </g>\n    </g>\n   </g>\n   <g id=\"matplotlib.axis_2\">\n    <g id=\"ytick_1\">\n     <g id=\"line2d_15\">\n      <path clip-path=\"url(#p7e8ba3b4e3)\" d=\"M 46.0125 224.64 \nL 380.8125 224.64 \n\" style=\"fill:none;stroke:#b0b0b0;stroke-linecap:square;stroke-width:0.8;\"/>\n     </g>\n     <g id=\"line2d_16\">\n      <defs>\n       <path d=\"M 0 0 \nL -3.5 0 \n\" id=\"mbc41afa1ce\" style=\"stroke:#000000;stroke-width:0.8;\"/>\n      </defs>\n      <g>\n       <use style=\"stroke:#000000;stroke-width:0.8;\" x=\"46.0125\" xlink:href=\"#mbc41afa1ce\" y=\"224.64\"/>\n      </g>\n     </g>\n     <g id=\"text_8\">\n      <!-- 0 -->\n      <g transform=\"translate(32.65 228.439219)scale(0.1 -0.1)\">\n       <use xlink:href=\"#DejaVuSans-48\"/>\n      </g>\n     </g>\n    </g>\n    <g id=\"ytick_2\">\n     <g id=\"line2d_17\">\n      <path clip-path=\"url(#p7e8ba3b4e3)\" d=\"M 46.0125 184.354086 \nL 380.8125 184.354086 \n\" style=\"fill:none;stroke:#b0b0b0;stroke-linecap:square;stroke-width:0.8;\"/>\n     </g>\n     <g id=\"line2d_18\">\n      <g>\n       <use style=\"stroke:#000000;stroke-width:0.8;\" x=\"46.0125\" xlink:href=\"#mbc41afa1ce\" y=\"184.354086\"/>\n      </g>\n     </g>\n     <g id=\"text_9\">\n      <!-- 5000 -->\n      <g transform=\"translate(13.5625 188.153304)scale(0.1 -0.1)\">\n       <use xlink:href=\"#DejaVuSans-53\"/>\n       <use x=\"63.623047\" xlink:href=\"#DejaVuSans-48\"/>\n       <use x=\"127.246094\" xlink:href=\"#DejaVuSans-48\"/>\n       <use x=\"190.869141\" xlink:href=\"#DejaVuSans-48\"/>\n      </g>\n     </g>\n    </g>\n    <g id=\"ytick_3\">\n     <g id=\"line2d_19\">\n      <path clip-path=\"url(#p7e8ba3b4e3)\" d=\"M 46.0125 144.068171 \nL 380.8125 144.068171 \n\" style=\"fill:none;stroke:#b0b0b0;stroke-linecap:square;stroke-width:0.8;\"/>\n     </g>\n     <g id=\"line2d_20\">\n      <g>\n       <use style=\"stroke:#000000;stroke-width:0.8;\" x=\"46.0125\" xlink:href=\"#mbc41afa1ce\" y=\"144.068171\"/>\n      </g>\n     </g>\n     <g id=\"text_10\">\n      <!-- 10000 -->\n      <g transform=\"translate(7.2 147.86739)scale(0.1 -0.1)\">\n       <use xlink:href=\"#DejaVuSans-49\"/>\n       <use x=\"63.623047\" xlink:href=\"#DejaVuSans-48\"/>\n       <use x=\"127.246094\" xlink:href=\"#DejaVuSans-48\"/>\n       <use x=\"190.869141\" xlink:href=\"#DejaVuSans-48\"/>\n       <use x=\"254.492188\" xlink:href=\"#DejaVuSans-48\"/>\n      </g>\n     </g>\n    </g>\n    <g id=\"ytick_4\">\n     <g id=\"line2d_21\">\n      <path clip-path=\"url(#p7e8ba3b4e3)\" d=\"M 46.0125 103.782257 \nL 380.8125 103.782257 \n\" style=\"fill:none;stroke:#b0b0b0;stroke-linecap:square;stroke-width:0.8;\"/>\n     </g>\n     <g id=\"line2d_22\">\n      <g>\n       <use style=\"stroke:#000000;stroke-width:0.8;\" x=\"46.0125\" xlink:href=\"#mbc41afa1ce\" y=\"103.782257\"/>\n      </g>\n     </g>\n     <g id=\"text_11\">\n      <!-- 15000 -->\n      <g transform=\"translate(7.2 107.581476)scale(0.1 -0.1)\">\n       <use xlink:href=\"#DejaVuSans-49\"/>\n       <use x=\"63.623047\" xlink:href=\"#DejaVuSans-53\"/>\n       <use x=\"127.246094\" xlink:href=\"#DejaVuSans-48\"/>\n       <use x=\"190.869141\" xlink:href=\"#DejaVuSans-48\"/>\n       <use x=\"254.492188\" xlink:href=\"#DejaVuSans-48\"/>\n      </g>\n     </g>\n    </g>\n    <g id=\"ytick_5\">\n     <g id=\"line2d_23\">\n      <path clip-path=\"url(#p7e8ba3b4e3)\" d=\"M 46.0125 63.496342 \nL 380.8125 63.496342 \n\" style=\"fill:none;stroke:#b0b0b0;stroke-linecap:square;stroke-width:0.8;\"/>\n     </g>\n     <g id=\"line2d_24\">\n      <g>\n       <use style=\"stroke:#000000;stroke-width:0.8;\" x=\"46.0125\" xlink:href=\"#mbc41afa1ce\" y=\"63.496342\"/>\n      </g>\n     </g>\n     <g id=\"text_12\">\n      <!-- 20000 -->\n      <g transform=\"translate(7.2 67.295561)scale(0.1 -0.1)\">\n       <use xlink:href=\"#DejaVuSans-50\"/>\n       <use x=\"63.623047\" xlink:href=\"#DejaVuSans-48\"/>\n       <use x=\"127.246094\" xlink:href=\"#DejaVuSans-48\"/>\n       <use x=\"190.869141\" xlink:href=\"#DejaVuSans-48\"/>\n       <use x=\"254.492188\" xlink:href=\"#DejaVuSans-48\"/>\n      </g>\n     </g>\n    </g>\n    <g id=\"ytick_6\">\n     <g id=\"line2d_25\">\n      <path clip-path=\"url(#p7e8ba3b4e3)\" d=\"M 46.0125 23.210428 \nL 380.8125 23.210428 \n\" style=\"fill:none;stroke:#b0b0b0;stroke-linecap:square;stroke-width:0.8;\"/>\n     </g>\n     <g id=\"line2d_26\">\n      <g>\n       <use style=\"stroke:#000000;stroke-width:0.8;\" x=\"46.0125\" xlink:href=\"#mbc41afa1ce\" y=\"23.210428\"/>\n      </g>\n     </g>\n     <g id=\"text_13\">\n      <!-- 25000 -->\n      <g transform=\"translate(7.2 27.009647)scale(0.1 -0.1)\">\n       <use xlink:href=\"#DejaVuSans-50\"/>\n       <use x=\"63.623047\" xlink:href=\"#DejaVuSans-53\"/>\n       <use x=\"127.246094\" xlink:href=\"#DejaVuSans-48\"/>\n       <use x=\"190.869141\" xlink:href=\"#DejaVuSans-48\"/>\n       <use x=\"254.492188\" xlink:href=\"#DejaVuSans-48\"/>\n      </g>\n     </g>\n    </g>\n   </g>\n   <g id=\"patch_13\">\n    <path d=\"M 46.0125 224.64 \nL 46.0125 7.2 \n\" style=\"fill:none;stroke:#000000;stroke-linecap:square;stroke-linejoin:miter;stroke-width:0.8;\"/>\n   </g>\n   <g id=\"patch_14\">\n    <path d=\"M 380.8125 224.64 \nL 380.8125 7.2 \n\" style=\"fill:none;stroke:#000000;stroke-linecap:square;stroke-linejoin:miter;stroke-width:0.8;\"/>\n   </g>\n   <g id=\"patch_15\">\n    <path d=\"M 46.0125 224.64 \nL 380.8125 224.64 \n\" style=\"fill:none;stroke:#000000;stroke-linecap:square;stroke-linejoin:miter;stroke-width:0.8;\"/>\n   </g>\n   <g id=\"patch_16\">\n    <path d=\"M 46.0125 7.2 \nL 380.8125 7.2 \n\" style=\"fill:none;stroke:#000000;stroke-linecap:square;stroke-linejoin:miter;stroke-width:0.8;\"/>\n   </g>\n  </g>\n </g>\n <defs>\n  <clipPath id=\"p7e8ba3b4e3\">\n   <rect height=\"217.44\" width=\"334.8\" x=\"46.0125\" y=\"7.2\"/>\n  </clipPath>\n </defs>\n</svg>\n",
      "image/png": "[encoded data removed]"
     },
     "metadata": {
      "needs_background": "light"
     }
    }
   ],
   "source": [
    "reviews.days_between_reviews.hist()"
   ]
  },
  {
   "cell_type": "markdown",
   "metadata": {},
   "source": [
    "Установим порог по 10й персентили в этих признаках и заменим запороговые значения максимумом (гипотеза чем больше дней тем \"хуже\" ревью)"
   ]
  },
  {
   "cell_type": "code",
   "execution_count": 1154,
   "metadata": {},
   "outputs": [],
   "source": [
    "days_between_reviews_threshold = reviews.days_between_reviews.quantile(0.90)\n",
    "reviews[reviews.days_between_reviews>days_between_reviews_threshold].days_between_reviews = days_between_reviews_threshold\n",
    "\n",
    "days_since_last_review_threshold = reviews.days_since_last_review.quantile(0.90)\n",
    "reviews[reviews.days_since_last_review>days_since_last_review_threshold].days_since_last_review = days_since_last_review_threshold"
   ]
  },
  {
   "cell_type": "markdown",
   "metadata": {},
   "source": [
    "Также заменим пропуски теми же пороговыми значениями "
   ]
  },
  {
   "cell_type": "code",
   "execution_count": 1155,
   "metadata": {
    "tags": []
   },
   "outputs": [
    {
     "output_type": "stream",
     "name": "stdout",
     "text": "<class 'pandas.core.frame.DataFrame'>\nInt64Index: 39980 entries, 0 to 39979\nData columns (total 7 columns):\n #   Column                  Non-Null Count  Dtype         \n---  ------                  --------------  -----         \n 0   ta_id                   39980 non-null  object        \n 1   review_2                33515 non-null  object        \n 2   review_2_date           33515 non-null  datetime64[ns]\n 3   review_1                28961 non-null  object        \n 4   review_1_date           28961 non-null  datetime64[ns]\n 5   days_since_last_review  39980 non-null  float64       \n 6   days_between_reviews    39980 non-null  float64       \ndtypes: datetime64[ns](2), float64(2), object(3)\nmemory usage: 2.4+ MB\n"
    }
   ],
   "source": [
    "reviews.days_between_reviews.fillna(days_between_reviews_threshold, inplace=True)\n",
    "reviews.days_since_last_review.fillna(days_since_last_review_threshold, inplace=True)\n",
    "reviews.info()"
   ]
  },
  {
   "cell_type": "code",
   "execution_count": 1158,
   "metadata": {},
   "outputs": [
    {
     "output_type": "execute_result",
     "data": {
      "text/plain": "        city  ranking  rating  price_range  reviews_cnt  \\\n0      Paris   5570.0     3.5          2.0        194.0   \n1  Stockholm   1537.0     4.0          2.0         10.0   \n2     London    353.0     4.5          3.0        688.0   \n\n                                              ta_url     ta_id  cuisines_cnt  \\\n0  /Restaurant_Review-g187147-d1912643-Reviews-R_...  d1912643             3   \n1  /Restaurant_Review-g189852-d7992032-Reviews-Bu...  d7992032             1   \n2  /Restaurant_Review-g186338-d8632781-Reviews-RO...  d8632781             7   \n\n   cuisine_style_American  cuisine_style_Asian  ...  cuisine_style_Pub  \\\n0                       0                    0  ...                  0   \n1                       0                    0  ...                  0   \n2                       0                    1  ...                  0   \n\n   cuisine_style_Seafood  cuisine_style_Spanish  cuisine_style_Sushi  \\\n0                      0                      0                    0   \n1                      0                      0                    0   \n2                      0                      0                    1   \n\n   cuisine_style_Unknown  cuisine_style_Vegan Options  \\\n0                      0                            0   \n1                      1                            0   \n2                      0                            1   \n\n   cuisine_style_Vegetarian Friendly  cuisine_style_other  \\\n0                                  0                    0   \n1                                  0                    0   \n2                                  1                    1   \n\n   days_since_last_review  days_between_reviews  \n0                    57.0                  41.0  \n1                   235.0                 382.0  \n2                    49.0                   2.0  \n\n[3 rows x 36 columns]",
      "text/html": "<div>\n<style scoped>\n    .dataframe tbody tr th:only-of-type {\n        vertical-align: middle;\n    }\n\n    .dataframe tbody tr th {\n        vertical-align: top;\n    }\n\n    .dataframe thead th {\n        text-align: right;\n    }\n</style>\n<table border=\"1\" class=\"dataframe\">\n  <thead>\n    <tr style=\"text-align: right;\">\n      <th></th>\n      <th>city</th>\n      <th>ranking</th>\n      <th>rating</th>\n      <th>price_range</th>\n      <th>reviews_cnt</th>\n      <th>ta_url</th>\n      <th>ta_id</th>\n      <th>cuisines_cnt</th>\n      <th>cuisine_style_American</th>\n      <th>cuisine_style_Asian</th>\n      <th>...</th>\n      <th>cuisine_style_Pub</th>\n      <th>cuisine_style_Seafood</th>\n      <th>cuisine_style_Spanish</th>\n      <th>cuisine_style_Sushi</th>\n      <th>cuisine_style_Unknown</th>\n      <th>cuisine_style_Vegan Options</th>\n      <th>cuisine_style_Vegetarian Friendly</th>\n      <th>cuisine_style_other</th>\n      <th>days_since_last_review</th>\n      <th>days_between_reviews</th>\n    </tr>\n  </thead>\n  <tbody>\n    <tr>\n      <th>0</th>\n      <td>Paris</td>\n      <td>5570.0</td>\n      <td>3.5</td>\n      <td>2.0</td>\n      <td>194.0</td>\n      <td>/Restaurant_Review-g187147-d1912643-Reviews-R_...</td>\n      <td>d1912643</td>\n      <td>3</td>\n      <td>0</td>\n      <td>0</td>\n      <td>...</td>\n      <td>0</td>\n      <td>0</td>\n      <td>0</td>\n      <td>0</td>\n      <td>0</td>\n      <td>0</td>\n      <td>0</td>\n      <td>0</td>\n      <td>57.0</td>\n      <td>41.0</td>\n    </tr>\n    <tr>\n      <th>1</th>\n      <td>Stockholm</td>\n      <td>1537.0</td>\n      <td>4.0</td>\n      <td>2.0</td>\n      <td>10.0</td>\n      <td>/Restaurant_Review-g189852-d7992032-Reviews-Bu...</td>\n      <td>d7992032</td>\n      <td>1</td>\n      <td>0</td>\n      <td>0</td>\n      <td>...</td>\n      <td>0</td>\n      <td>0</td>\n      <td>0</td>\n      <td>0</td>\n      <td>1</td>\n      <td>0</td>\n      <td>0</td>\n      <td>0</td>\n      <td>235.0</td>\n      <td>382.0</td>\n    </tr>\n    <tr>\n      <th>2</th>\n      <td>London</td>\n      <td>353.0</td>\n      <td>4.5</td>\n      <td>3.0</td>\n      <td>688.0</td>\n      <td>/Restaurant_Review-g186338-d8632781-Reviews-RO...</td>\n      <td>d8632781</td>\n      <td>7</td>\n      <td>0</td>\n      <td>1</td>\n      <td>...</td>\n      <td>0</td>\n      <td>0</td>\n      <td>0</td>\n      <td>1</td>\n      <td>0</td>\n      <td>1</td>\n      <td>1</td>\n      <td>1</td>\n      <td>49.0</td>\n      <td>2.0</td>\n    </tr>\n  </tbody>\n</table>\n<p>3 rows × 36 columns</p>\n</div>"
     },
     "metadata": {},
     "execution_count": 1158
    }
   ],
   "source": [
    "df=df.merge(reviews[[\"ta_id\",\"days_since_last_review\",\"days_between_reviews\"]], how=\"left\", on=\"ta_id\")\n",
    "df.drop(\"reviews\", axis=1, inplace=True)\n",
    "df.head(3)"
   ]
  },
  {
   "cell_type": "code",
   "execution_count": 1159,
   "metadata": {
    "tags": []
   },
   "outputs": [],
   "source": [
    "df = df.drop([c for c in df.columns if df[c].dtype == 'object'], axis = 1) # Drop non-numbers"
   ]
  },
  {
   "cell_type": "code",
   "execution_count": 50,
   "metadata": {
    "tags": []
   },
   "outputs": [
    {
     "output_type": "stream",
     "name": "stdout",
     "text": "<class 'pandas.core.frame.DataFrame'>\nRangeIndex: 40000 entries, 0 to 39999\nData columns (total 3 columns):\n #   Column             Non-Null Count  Dtype  \n---  ------             --------------  -----  \n 0   Ranking            40000 non-null  float64\n 1   Rating             40000 non-null  float64\n 2   Number of Reviews  40000 non-null  float64\ndtypes: float64(3)\nmemory usage: 937.6 KB\n"
    }
   ],
   "source": []
  },
  {
   "cell_type": "code",
   "execution_count": 1160,
   "metadata": {},
   "outputs": [],
   "source": [
    "df[\"reviews_cnt\"].fillna(df[\"reviews_cnt\"].median(), inplace=True)"
   ]
  },
  {
   "cell_type": "markdown",
   "metadata": {},
   "source": [
    "# Разбиваем датафрейм на части, необходимые для обучения и тестирования модели"
   ]
  },
  {
   "cell_type": "code",
   "execution_count": 1161,
   "metadata": {},
   "outputs": [],
   "source": [
    "# Х - данные с информацией о ресторанах, у - целевая переменная (рейтинги ресторанов)\n",
    "X = df.drop([ 'rating'], axis = 1)\n",
    "y = df['rating']"
   ]
  },
  {
   "cell_type": "code",
   "execution_count": 1162,
   "metadata": {},
   "outputs": [],
   "source": [
    "# Загружаем специальный инструмент для разбивки:\n",
    "from sklearn.model_selection import train_test_split"
   ]
  },
  {
   "cell_type": "code",
   "execution_count": 1163,
   "metadata": {},
   "outputs": [],
   "source": [
    "# Наборы данных с меткой \"train\" будут использоваться для обучения модели, \"test\" - для тестирования.\n",
    "# Для тестирования мы будем использовать 25% от исходного датасета.\n",
    "X_train, X_test, y_train, y_test = train_test_split(X, y, test_size=0.25)"
   ]
  },
  {
   "cell_type": "markdown",
   "metadata": {},
   "source": [
    "# Создаём, обучаем и тестируем модель"
   ]
  },
  {
   "cell_type": "code",
   "execution_count": 1164,
   "metadata": {},
   "outputs": [],
   "source": [
    "# Импортируем необходимые библиотеки:\n",
    "from sklearn.ensemble import RandomForestRegressor # инструмент для создания и обучения модели\n",
    "from sklearn import metrics # инструменты для оценки точности модели"
   ]
  },
  {
   "cell_type": "code",
   "execution_count": 1165,
   "metadata": {},
   "outputs": [],
   "source": [
    "# Создаём модель\n",
    "regr = RandomForestRegressor(n_estimators=100)\n",
    "\n",
    "# Обучаем модель на тестовом наборе данных\n",
    "regr.fit(X_train, y_train)\n",
    "\n",
    "# Используем обученную модель для предсказания рейтинга ресторанов в тестовой выборке.\n",
    "# Предсказанные значения записываем в переменную y_pred\n",
    "y_pred = regr.predict(X_test)"
   ]
  },
  {
   "cell_type": "code",
   "execution_count": 1166,
   "metadata": {
    "tags": []
   },
   "outputs": [
    {
     "output_type": "stream",
     "name": "stdout",
     "text": "MAE: 0.36133536291955504\n"
    }
   ],
   "source": [
    "# Сравниваем предсказанные значения (y_pred) с реальными (y_test), и смотрим насколько они в среднем отличаются\n",
    "# Метрика называется Mean Absolute Error (MAE) и показывает среднее отклонение предсказанных значений от фактических.\n",
    "print('MAE:', metrics.mean_absolute_error(y_test, y_pred))"
   ]
  },
  {
   "cell_type": "code",
   "execution_count": null,
   "metadata": {},
   "outputs": [],
   "source": []
  }
 ],
 "metadata": {
  "kernelspec": {
   "display_name": "Python 3",
   "language": "python",
   "name": "python3"
  },
  "language_info": {
   "codemirror_mode": {
    "name": "ipython",
    "version": 3
   },
   "file_extension": ".py",
   "mimetype": "text/x-python",
   "name": "python",
   "nbconvert_exporter": "python",
   "pygments_lexer": "ipython3",
   "version": "3.7.7-final"
  }
 },
 "nbformat": 4,
 "nbformat_minor": 2
}