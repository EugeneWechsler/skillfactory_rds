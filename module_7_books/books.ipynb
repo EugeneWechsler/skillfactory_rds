{
 "metadata": {
  "language_info": {
   "codemirror_mode": {
    "name": "ipython",
    "version": 3
   },
   "file_extension": ".py",
   "mimetype": "text/x-python",
   "name": "python",
   "nbconvert_exporter": "python",
   "pygments_lexer": "ipython3",
   "version": "3.7.7-final"
  },
  "orig_nbformat": 2,
  "kernelspec": {
   "name": "python3",
   "display_name": "Python 3.7.7 64-bit ('anaconda3': virtualenv)",
   "metadata": {
    "interpreter": {
     "hash": "dca0ade3e726a953b501b15e8e990130d2b7799f14cfd9f4271676035ebe5511"
    }
   }
  }
 },
 "nbformat": 4,
 "nbformat_minor": 2,
 "cells": [
  {
   "cell_type": "code",
   "execution_count": 4,
   "metadata": {},
   "outputs": [
    {
     "output_type": "stream",
     "name": "stdout",
     "text": [
      "Collecting lightfm\n",
      "  Using cached https://files.pythonhosted.org/packages/5e/fe/8864d723daa8e5afc74080ce510c30f7ad52facf6a157d4b42dec83dfab4/lightfm-1.16.tar.gz\n",
      "    Complete output from command python setup.py egg_info:\n",
      "    Traceback (most recent call last):\n",
      "      File \"<string>\", line 1, in <module>\n",
      "      File \"/private/var/folders/qq/8_2s6gh54f9g3ytkydqxfsv80000gq/T/pip-install-Np8FoX/lightfm/setup.py\", line 3, in <module>\n",
      "        import pathlib\n",
      "    ImportError: No module named pathlib\n",
      "    \n",
      "    ----------------------------------------\n",
      "\u001b[31mCommand \"python setup.py egg_info\" failed with error code 1 in /private/var/folders/qq/8_2s6gh54f9g3ytkydqxfsv80000gq/T/pip-install-Np8FoX/lightfm/\u001b[0m\n",
      "\u001b[33mYou are using pip version 19.0.3, however version 20.3.4 is available.\n",
      "You should consider upgrading via the 'pip install --upgrade pip' command.\u001b[0m\n"
     ]
    }
   ],
   "source": [
    "!pip install lightfm"
   ]
  },
  {
   "cell_type": "code",
   "execution_count": 6,
   "metadata": {},
   "outputs": [],
   "source": [
    "import numpy as np\n",
    "import pandas as pd\n",
    "import scipy.sparse as sparse\n",
    "from lightfm import LightFM\n",
    "from lightfm.cross_validation import random_train_test_split\n",
    "from lightfm.evaluation import precision_at_k, recall_at_k\n",
    " \n",
    "ratings = pd.read_csv('goodbooks-10k/ratings.csv')\n",
    "books = pd.read_csv('goodbooks-10k/books.csv')\n",
    "tags = pd.read_csv('goodbooks-10k/tags.csv')\n",
    "book_tags = pd.read_csv('goodbooks-10k/book_tags.csv')"
   ]
  },
  {
   "cell_type": "code",
   "execution_count": 8,
   "metadata": {},
   "outputs": [
    {
     "output_type": "execute_result",
     "data": {
      "text/plain": [
       "       tag_id                          tag_name\n",
       "13416   13416                 google-play-books\n",
       "5862     5862                   buchanan-renard\n",
       "33552   33552  الجائزة-العالمية-للرواية-العربية\n",
       "19301   19301                 marketing-selling"
      ],
      "text/html": "<div>\n<style scoped>\n    .dataframe tbody tr th:only-of-type {\n        vertical-align: middle;\n    }\n\n    .dataframe tbody tr th {\n        vertical-align: top;\n    }\n\n    .dataframe thead th {\n        text-align: right;\n    }\n</style>\n<table border=\"1\" class=\"dataframe\">\n  <thead>\n    <tr style=\"text-align: right;\">\n      <th></th>\n      <th>tag_id</th>\n      <th>tag_name</th>\n    </tr>\n  </thead>\n  <tbody>\n    <tr>\n      <th>13416</th>\n      <td>13416</td>\n      <td>google-play-books</td>\n    </tr>\n    <tr>\n      <th>5862</th>\n      <td>5862</td>\n      <td>buchanan-renard</td>\n    </tr>\n    <tr>\n      <th>33552</th>\n      <td>33552</td>\n      <td>الجائزة-العالمية-للرواية-العربية</td>\n    </tr>\n    <tr>\n      <th>19301</th>\n      <td>19301</td>\n      <td>marketing-selling</td>\n    </tr>\n  </tbody>\n</table>\n</div>"
     },
     "metadata": {},
     "execution_count": 8
    }
   ],
   "source": [
    "tags.sample(4)"
   ]
  },
  {
   "cell_type": "code",
   "execution_count": 9,
   "metadata": {},
   "outputs": [
    {
     "output_type": "execute_result",
     "data": {
      "text/plain": [
       "        goodreads_book_id  tag_id  count\n",
       "949316           22021611   11491     11\n",
       "490604             359581    9221     34\n",
       "847838           15711341   24960     51\n",
       "84551               10541   30756      7"
      ],
      "text/html": "<div>\n<style scoped>\n    .dataframe tbody tr th:only-of-type {\n        vertical-align: middle;\n    }\n\n    .dataframe tbody tr th {\n        vertical-align: top;\n    }\n\n    .dataframe thead th {\n        text-align: right;\n    }\n</style>\n<table border=\"1\" class=\"dataframe\">\n  <thead>\n    <tr style=\"text-align: right;\">\n      <th></th>\n      <th>goodreads_book_id</th>\n      <th>tag_id</th>\n      <th>count</th>\n    </tr>\n  </thead>\n  <tbody>\n    <tr>\n      <th>949316</th>\n      <td>22021611</td>\n      <td>11491</td>\n      <td>11</td>\n    </tr>\n    <tr>\n      <th>490604</th>\n      <td>359581</td>\n      <td>9221</td>\n      <td>34</td>\n    </tr>\n    <tr>\n      <th>847838</th>\n      <td>15711341</td>\n      <td>24960</td>\n      <td>51</td>\n    </tr>\n    <tr>\n      <th>84551</th>\n      <td>10541</td>\n      <td>30756</td>\n      <td>7</td>\n    </tr>\n  </tbody>\n</table>\n</div>"
     },
     "metadata": {},
     "execution_count": 9
    }
   ],
   "source": [
    "book_tags.sample(4)"
   ]
  },
  {
   "cell_type": "code",
   "execution_count": 16,
   "metadata": {},
   "outputs": [],
   "source": [
    "mapper = dict(zip(books.goodreads_book_id,books.book_id))"
   ]
  },
  {
   "cell_type": "code",
   "execution_count": 18,
   "metadata": {},
   "outputs": [],
   "source": [
    "tags = pd.read_csv('tags_cleaned.csv')\n",
    "book_tags = book_tags[book_tags.tag_id.isin(tags.tag_id)]\n",
    "book_tags['id'] = book_tags.goodreads_book_id.apply(lambda x: mapper[x])"
   ]
  },
  {
   "cell_type": "code",
   "execution_count": 19,
   "metadata": {},
   "outputs": [],
   "source": [
    "ratings_coo = sparse.coo_matrix((ratings.rating,(ratings.user_id,ratings.book_id)))\n",
    "feature_ratings  = sparse.coo_matrix(([1]*len(book_tags),(book_tags.id,book_tags.tag_id)))"
   ]
  },
  {
   "cell_type": "code",
   "execution_count": 20,
   "metadata": {},
   "outputs": [],
   "source": [
    "#число потоков нашего процессора\n",
    "NUM_THREADS = 8 \n",
    "\n",
    "#число параметров вектора \n",
    "NUM_COMPONENTS = 30 \n",
    "\n",
    "#число эпох обучения\n",
    "NUM_EPOCHS = 10 "
   ]
  },
  {
   "cell_type": "code",
   "execution_count": 21,
   "metadata": {},
   "outputs": [],
   "source": [
    "#Создаём модель\n",
    "model = LightFM(learning_rate=0.05, loss='warp', no_components=NUM_COMPONENTS)\n",
    " \n",
    "#Разбиваем наш датасет на обучающую и тестовую выборки\n",
    "train,test = random_train_test_split(ratings_coo, test_percentage=0.2, random_state=None)\n",
    "\n",
    "#Обучаем модель\n",
    "model = model.fit(train, epochs=NUM_EPOCHS, num_threads=NUM_THREADS,item_features =feature_ratings)"
   ]
  },
  {
   "cell_type": "code",
   "execution_count": 22,
   "metadata": {},
   "outputs": [
    {
     "output_type": "stream",
     "name": "stdout",
     "text": [
      "0.037602295696071236 0.08156635\n"
     ]
    }
   ],
   "source": [
    "#Тестируем нашу модель\n",
    "prec_score = precision_at_k(\n",
    "                     model,\n",
    "                     test,\n",
    "                     num_threads=NUM_THREADS,\n",
    "                     k=10,\n",
    "                     item_features=feature_ratings).mean()\n",
    " \n",
    "recall_at_k = recall_at_k(model,\n",
    "                     test,\n",
    "                     num_threads=NUM_THREADS,\n",
    "                     k=10,\n",
    "                     item_features=feature_ratings).mean()\n",
    "\n",
    "print(recall_at_k,prec_score)"
   ]
  },
  {
   "cell_type": "code",
   "execution_count": 23,
   "metadata": {},
   "outputs": [],
   "source": [
    "item_biases, item_embeddings = model.get_item_representations(features=feature_ratings)"
   ]
  },
  {
   "cell_type": "code",
   "execution_count": 24,
   "metadata": {},
   "outputs": [
    {
     "output_type": "stream",
     "name": "stdout",
     "text": [
      "Collecting nmslib\n",
      "\u001b[?25l  Downloading https://files.pythonhosted.org/packages/a1/9a/b474519f9440ca38d5a583da7eaeaabde7d256733b6d60a975d249e50ec8/nmslib-2.1.1-cp27-cp27m-macosx_10_15_x86_64.whl (927kB)\n",
      "\u001b[K    100% |████████████████████████████████| 931kB 2.7MB/s \n",
      "\u001b[?25hCollecting psutil (from nmslib)\n",
      "  Using cached https://files.pythonhosted.org/packages/f5/7f/a2559a514bdeb2a33e4bf3dc3d2bb17d5acded718893869a82536130cfb3/psutil-5.8.0-cp27-cp27m-macosx_10_9_x86_64.whl\n",
      "Collecting pybind11<2.6.2 (from nmslib)\n",
      "\u001b[?25l  Downloading https://files.pythonhosted.org/packages/00/84/fc9dc13ee536ba5e6b8fd10ce368fea5b738fe394c3b296cde7c9b144a92/pybind11-2.6.1-py2.py3-none-any.whl (188kB)\n",
      "\u001b[K    100% |████████████████████████████████| 194kB 2.2MB/s \n",
      "\u001b[?25hCollecting numpy<1.17,>=1.10.0; python_version == \"2.7\" (from nmslib)\n",
      "  Using cached https://files.pythonhosted.org/packages/09/96/84cf406fe7d589f3dba9fc0f737e65985a3526c6d8c783f02d4b5a10825d/numpy-1.16.6-cp27-cp27m-macosx_10_9_x86_64.whl\n",
      "\u001b[31mmatplotlib 1.3.1 requires nose, which is not installed.\u001b[0m\n",
      "Installing collected packages: psutil, pybind11, numpy, nmslib\n",
      "\u001b[31mCould not install packages due to an EnvironmentError: [Errno 13] Permission denied: '/Library/Python/2.7/site-packages/psutil'\n",
      "Consider using the `--user` option or check the permissions.\n",
      "\u001b[0m\n",
      "\u001b[33mYou are using pip version 19.0.3, however version 20.3.4 is available.\n",
      "You should consider upgrading via the 'pip install --upgrade pip' command.\u001b[0m\n"
     ]
    }
   ],
   "source": [
    "!pip install nmslib"
   ]
  },
  {
   "cell_type": "code",
   "execution_count": 25,
   "metadata": {},
   "outputs": [],
   "source": [
    "import nmslib\n",
    " \n",
    "#Создаём наш граф для поиска\n",
    "nms_idx = nmslib.init(method='hnsw', space='cosinesimil')\n",
    " \n",
    "#Начинаем добавлять наши книги в граф\n",
    "nms_idx.addDataPointBatch(item_embeddings)\n",
    "nms_idx.createIndex(print_progress=True)"
   ]
  },
  {
   "cell_type": "code",
   "execution_count": 26,
   "metadata": {},
   "outputs": [],
   "source": [
    "#Вспомогательная функция для поиска по графу\n",
    "def nearest_books_nms(book_id, index, n=10):\n",
    "    nn = index.knnQuery(item_embeddings[book_id], k=n)\n",
    "    return nn"
   ]
  },
  {
   "cell_type": "code",
   "execution_count": 27,
   "metadata": {},
   "outputs": [
    {
     "output_type": "execute_result",
     "data": {
      "text/plain": [
       "     book_id  goodreads_book_id  best_book_id  work_id  books_count  \\\n",
       "845      846               5472          5472  2966408           51   \n",
       "\n",
       "          isbn        isbn13                              authors  \\\n",
       "845  151010269  9.780151e+12  George Orwell, Christopher Hitchens   \n",
       "\n",
       "     original_publication_year       original_title  ... ratings_count  \\\n",
       "845                     1950.0   Animal Farm & 1984  ...        116197   \n",
       "\n",
       "    work_ratings_count  work_text_reviews_count  ratings_1  ratings_2  \\\n",
       "845             118761                     1293       1212       3276   \n",
       "\n",
       "     ratings_3  ratings_4  ratings_5  \\\n",
       "845      16511      40583      57179   \n",
       "\n",
       "                                             image_url  \\\n",
       "845  https://images.gr-assets.com/books/1327959366m...   \n",
       "\n",
       "                                       small_image_url  \n",
       "845  https://images.gr-assets.com/books/1327959366s...  \n",
       "\n",
       "[1 rows x 23 columns]"
      ],
      "text/html": "<div>\n<style scoped>\n    .dataframe tbody tr th:only-of-type {\n        vertical-align: middle;\n    }\n\n    .dataframe tbody tr th {\n        vertical-align: top;\n    }\n\n    .dataframe thead th {\n        text-align: right;\n    }\n</style>\n<table border=\"1\" class=\"dataframe\">\n  <thead>\n    <tr style=\"text-align: right;\">\n      <th></th>\n      <th>book_id</th>\n      <th>goodreads_book_id</th>\n      <th>best_book_id</th>\n      <th>work_id</th>\n      <th>books_count</th>\n      <th>isbn</th>\n      <th>isbn13</th>\n      <th>authors</th>\n      <th>original_publication_year</th>\n      <th>original_title</th>\n      <th>...</th>\n      <th>ratings_count</th>\n      <th>work_ratings_count</th>\n      <th>work_text_reviews_count</th>\n      <th>ratings_1</th>\n      <th>ratings_2</th>\n      <th>ratings_3</th>\n      <th>ratings_4</th>\n      <th>ratings_5</th>\n      <th>image_url</th>\n      <th>small_image_url</th>\n    </tr>\n  </thead>\n  <tbody>\n    <tr>\n      <th>845</th>\n      <td>846</td>\n      <td>5472</td>\n      <td>5472</td>\n      <td>2966408</td>\n      <td>51</td>\n      <td>151010269</td>\n      <td>9.780151e+12</td>\n      <td>George Orwell, Christopher Hitchens</td>\n      <td>1950.0</td>\n      <td>Animal Farm &amp; 1984</td>\n      <td>...</td>\n      <td>116197</td>\n      <td>118761</td>\n      <td>1293</td>\n      <td>1212</td>\n      <td>3276</td>\n      <td>16511</td>\n      <td>40583</td>\n      <td>57179</td>\n      <td>https://images.gr-assets.com/books/1327959366m...</td>\n      <td>https://images.gr-assets.com/books/1327959366s...</td>\n    </tr>\n  </tbody>\n</table>\n<p>1 rows × 23 columns</p>\n</div>"
     },
     "metadata": {},
     "execution_count": 27
    }
   ],
   "source": [
    "books[books.original_title.str.find('1984')>=0].head(2)"
   ]
  },
  {
   "cell_type": "code",
   "execution_count": 28,
   "metadata": {},
   "outputs": [],
   "source": [
    "nbm = nearest_books_nms(846,nms_idx)[0]"
   ]
  },
  {
   "cell_type": "code",
   "execution_count": 29,
   "metadata": {},
   "outputs": [
    {
     "output_type": "execute_result",
     "data": {
      "text/plain": [
       "      book_id  goodreads_book_id  best_book_id   work_id  books_count  \\\n",
       "12         13               5470          5470    153313          995   \n",
       "13         14               7613          7613   2207778          896   \n",
       "54         55               5129          5129   3204877          515   \n",
       "288       289              76620         76620   1357456          193   \n",
       "374       375               1852          1852   3252320         1384   \n",
       "528       529               7733          7733   2394716         1762   \n",
       "808       809               5479          5479  39947767           38   \n",
       "845       846               5472          5472   2966408           51   \n",
       "934       935              43035         43035   2949952         1085   \n",
       "8139     8140               5481          5481  16335101           80   \n",
       "\n",
       "            isbn        isbn13                                  authors  \\\n",
       "12     451524934  9.780452e+12  George Orwell, Erich Fromm, Celâl Üster   \n",
       "13     452284244  9.780452e+12                            George Orwell   \n",
       "54      60929871  9.780061e+12                            Aldous Huxley   \n",
       "288   038039586X  9.780380e+12                            Richard Adams   \n",
       "374    439227143  9.780439e+12                              Jack London   \n",
       "528    141439491  9.780141e+12       Jonathan Swift, Robert DeMaria Jr.   \n",
       "808     60776099  9.780061e+12      Aldous Huxley, Christopher Hitchens   \n",
       "845    151010269  9.780151e+12      George Orwell, Christopher Hitchens   \n",
       "934    439236193  9.780439e+12                              Jack London   \n",
       "8139    60898526  9.780061e+12                            Aldous Huxley   \n",
       "\n",
       "      original_publication_year                             original_title  \\\n",
       "12                       1949.0                       Nineteen Eighty-Four   \n",
       "13                       1945.0                 Animal Farm: A Fairy Story   \n",
       "54                       1932.0                            Brave New World   \n",
       "288                      1972.0                             Watership Down   \n",
       "374                      1903.0                       The Call of the Wild   \n",
       "528                      1726.0                         Gulliver’s Travels   \n",
       "808                      1932.0  Brave New World/Brave New World Revisited   \n",
       "845                      1950.0                         Animal Farm & 1984   \n",
       "934                      1906.0                                 White Fang   \n",
       "8139                     1958.0                 Brave New World Revisited    \n",
       "\n",
       "      ... ratings_count work_ratings_count  work_text_reviews_count  \\\n",
       "12    ...       1956832            2053394                    45518   \n",
       "13    ...       1881700            1982987                    35472   \n",
       "54    ...       1022601            1079135                    20095   \n",
       "288   ...        292426             308373                    10399   \n",
       "374   ...        223932             248795                     6770   \n",
       "528   ...        168727             188299                     3927   \n",
       "808   ...        108124             110115                     1012   \n",
       "845   ...        116197             118761                     1293   \n",
       "934   ...        100223             114519                     3017   \n",
       "8139  ...         11073              12286                      714   \n",
       "\n",
       "      ratings_1  ratings_2  ratings_3  ratings_4  ratings_5  \\\n",
       "12        41845      86425     324874     692021     908229   \n",
       "13        66854     135147     433432     698642     648912   \n",
       "54        26367      60328     219895     389379     383166   \n",
       "288        9158      15767      52906     102093     128449   \n",
       "374        6366      16636      62853      90382      72558   \n",
       "528        5995      19839      63680      61509      37276   \n",
       "808        1215       3784      18335      39753      47028   \n",
       "845        1212       3276      16511      40583      57179   \n",
       "934        1823       5850      27264      42175      37407   \n",
       "8139        231        691       2765       4567       4032   \n",
       "\n",
       "                                              image_url  \\\n",
       "12    https://images.gr-assets.com/books/1348990566m...   \n",
       "13    https://images.gr-assets.com/books/1424037542m...   \n",
       "54    https://images.gr-assets.com/books/1487389574m...   \n",
       "288   https://images.gr-assets.com/books/1405136931m...   \n",
       "374   https://images.gr-assets.com/books/1452291694m...   \n",
       "528   https://images.gr-assets.com/books/1427829692m...   \n",
       "808   https://images.gr-assets.com/books/1331315450m...   \n",
       "845   https://images.gr-assets.com/books/1327959366m...   \n",
       "934   https://images.gr-assets.com/books/1475878443m...   \n",
       "8139  https://images.gr-assets.com/books/1410136964m...   \n",
       "\n",
       "                                        small_image_url  \n",
       "12    https://images.gr-assets.com/books/1348990566s...  \n",
       "13    https://images.gr-assets.com/books/1424037542s...  \n",
       "54    https://images.gr-assets.com/books/1487389574s...  \n",
       "288   https://images.gr-assets.com/books/1405136931s...  \n",
       "374   https://images.gr-assets.com/books/1452291694s...  \n",
       "528   https://images.gr-assets.com/books/1427829692s...  \n",
       "808   https://images.gr-assets.com/books/1331315450s...  \n",
       "845   https://images.gr-assets.com/books/1327959366s...  \n",
       "934   https://images.gr-assets.com/books/1475878443s...  \n",
       "8139  https://images.gr-assets.com/books/1410136964s...  \n",
       "\n",
       "[10 rows x 23 columns]"
      ],
      "text/html": "<div>\n<style scoped>\n    .dataframe tbody tr th:only-of-type {\n        vertical-align: middle;\n    }\n\n    .dataframe tbody tr th {\n        vertical-align: top;\n    }\n\n    .dataframe thead th {\n        text-align: right;\n    }\n</style>\n<table border=\"1\" class=\"dataframe\">\n  <thead>\n    <tr style=\"text-align: right;\">\n      <th></th>\n      <th>book_id</th>\n      <th>goodreads_book_id</th>\n      <th>best_book_id</th>\n      <th>work_id</th>\n      <th>books_count</th>\n      <th>isbn</th>\n      <th>isbn13</th>\n      <th>authors</th>\n      <th>original_publication_year</th>\n      <th>original_title</th>\n      <th>...</th>\n      <th>ratings_count</th>\n      <th>work_ratings_count</th>\n      <th>work_text_reviews_count</th>\n      <th>ratings_1</th>\n      <th>ratings_2</th>\n      <th>ratings_3</th>\n      <th>ratings_4</th>\n      <th>ratings_5</th>\n      <th>image_url</th>\n      <th>small_image_url</th>\n    </tr>\n  </thead>\n  <tbody>\n    <tr>\n      <th>12</th>\n      <td>13</td>\n      <td>5470</td>\n      <td>5470</td>\n      <td>153313</td>\n      <td>995</td>\n      <td>451524934</td>\n      <td>9.780452e+12</td>\n      <td>George Orwell, Erich Fromm, Celâl Üster</td>\n      <td>1949.0</td>\n      <td>Nineteen Eighty-Four</td>\n      <td>...</td>\n      <td>1956832</td>\n      <td>2053394</td>\n      <td>45518</td>\n      <td>41845</td>\n      <td>86425</td>\n      <td>324874</td>\n      <td>692021</td>\n      <td>908229</td>\n      <td>https://images.gr-assets.com/books/1348990566m...</td>\n      <td>https://images.gr-assets.com/books/1348990566s...</td>\n    </tr>\n    <tr>\n      <th>13</th>\n      <td>14</td>\n      <td>7613</td>\n      <td>7613</td>\n      <td>2207778</td>\n      <td>896</td>\n      <td>452284244</td>\n      <td>9.780452e+12</td>\n      <td>George Orwell</td>\n      <td>1945.0</td>\n      <td>Animal Farm: A Fairy Story</td>\n      <td>...</td>\n      <td>1881700</td>\n      <td>1982987</td>\n      <td>35472</td>\n      <td>66854</td>\n      <td>135147</td>\n      <td>433432</td>\n      <td>698642</td>\n      <td>648912</td>\n      <td>https://images.gr-assets.com/books/1424037542m...</td>\n      <td>https://images.gr-assets.com/books/1424037542s...</td>\n    </tr>\n    <tr>\n      <th>54</th>\n      <td>55</td>\n      <td>5129</td>\n      <td>5129</td>\n      <td>3204877</td>\n      <td>515</td>\n      <td>60929871</td>\n      <td>9.780061e+12</td>\n      <td>Aldous Huxley</td>\n      <td>1932.0</td>\n      <td>Brave New World</td>\n      <td>...</td>\n      <td>1022601</td>\n      <td>1079135</td>\n      <td>20095</td>\n      <td>26367</td>\n      <td>60328</td>\n      <td>219895</td>\n      <td>389379</td>\n      <td>383166</td>\n      <td>https://images.gr-assets.com/books/1487389574m...</td>\n      <td>https://images.gr-assets.com/books/1487389574s...</td>\n    </tr>\n    <tr>\n      <th>288</th>\n      <td>289</td>\n      <td>76620</td>\n      <td>76620</td>\n      <td>1357456</td>\n      <td>193</td>\n      <td>038039586X</td>\n      <td>9.780380e+12</td>\n      <td>Richard Adams</td>\n      <td>1972.0</td>\n      <td>Watership Down</td>\n      <td>...</td>\n      <td>292426</td>\n      <td>308373</td>\n      <td>10399</td>\n      <td>9158</td>\n      <td>15767</td>\n      <td>52906</td>\n      <td>102093</td>\n      <td>128449</td>\n      <td>https://images.gr-assets.com/books/1405136931m...</td>\n      <td>https://images.gr-assets.com/books/1405136931s...</td>\n    </tr>\n    <tr>\n      <th>374</th>\n      <td>375</td>\n      <td>1852</td>\n      <td>1852</td>\n      <td>3252320</td>\n      <td>1384</td>\n      <td>439227143</td>\n      <td>9.780439e+12</td>\n      <td>Jack London</td>\n      <td>1903.0</td>\n      <td>The Call of the Wild</td>\n      <td>...</td>\n      <td>223932</td>\n      <td>248795</td>\n      <td>6770</td>\n      <td>6366</td>\n      <td>16636</td>\n      <td>62853</td>\n      <td>90382</td>\n      <td>72558</td>\n      <td>https://images.gr-assets.com/books/1452291694m...</td>\n      <td>https://images.gr-assets.com/books/1452291694s...</td>\n    </tr>\n    <tr>\n      <th>528</th>\n      <td>529</td>\n      <td>7733</td>\n      <td>7733</td>\n      <td>2394716</td>\n      <td>1762</td>\n      <td>141439491</td>\n      <td>9.780141e+12</td>\n      <td>Jonathan Swift, Robert DeMaria Jr.</td>\n      <td>1726.0</td>\n      <td>Gulliver’s Travels</td>\n      <td>...</td>\n      <td>168727</td>\n      <td>188299</td>\n      <td>3927</td>\n      <td>5995</td>\n      <td>19839</td>\n      <td>63680</td>\n      <td>61509</td>\n      <td>37276</td>\n      <td>https://images.gr-assets.com/books/1427829692m...</td>\n      <td>https://images.gr-assets.com/books/1427829692s...</td>\n    </tr>\n    <tr>\n      <th>808</th>\n      <td>809</td>\n      <td>5479</td>\n      <td>5479</td>\n      <td>39947767</td>\n      <td>38</td>\n      <td>60776099</td>\n      <td>9.780061e+12</td>\n      <td>Aldous Huxley, Christopher Hitchens</td>\n      <td>1932.0</td>\n      <td>Brave New World/Brave New World Revisited</td>\n      <td>...</td>\n      <td>108124</td>\n      <td>110115</td>\n      <td>1012</td>\n      <td>1215</td>\n      <td>3784</td>\n      <td>18335</td>\n      <td>39753</td>\n      <td>47028</td>\n      <td>https://images.gr-assets.com/books/1331315450m...</td>\n      <td>https://images.gr-assets.com/books/1331315450s...</td>\n    </tr>\n    <tr>\n      <th>845</th>\n      <td>846</td>\n      <td>5472</td>\n      <td>5472</td>\n      <td>2966408</td>\n      <td>51</td>\n      <td>151010269</td>\n      <td>9.780151e+12</td>\n      <td>George Orwell, Christopher Hitchens</td>\n      <td>1950.0</td>\n      <td>Animal Farm &amp; 1984</td>\n      <td>...</td>\n      <td>116197</td>\n      <td>118761</td>\n      <td>1293</td>\n      <td>1212</td>\n      <td>3276</td>\n      <td>16511</td>\n      <td>40583</td>\n      <td>57179</td>\n      <td>https://images.gr-assets.com/books/1327959366m...</td>\n      <td>https://images.gr-assets.com/books/1327959366s...</td>\n    </tr>\n    <tr>\n      <th>934</th>\n      <td>935</td>\n      <td>43035</td>\n      <td>43035</td>\n      <td>2949952</td>\n      <td>1085</td>\n      <td>439236193</td>\n      <td>9.780439e+12</td>\n      <td>Jack London</td>\n      <td>1906.0</td>\n      <td>White Fang</td>\n      <td>...</td>\n      <td>100223</td>\n      <td>114519</td>\n      <td>3017</td>\n      <td>1823</td>\n      <td>5850</td>\n      <td>27264</td>\n      <td>42175</td>\n      <td>37407</td>\n      <td>https://images.gr-assets.com/books/1475878443m...</td>\n      <td>https://images.gr-assets.com/books/1475878443s...</td>\n    </tr>\n    <tr>\n      <th>8139</th>\n      <td>8140</td>\n      <td>5481</td>\n      <td>5481</td>\n      <td>16335101</td>\n      <td>80</td>\n      <td>60898526</td>\n      <td>9.780061e+12</td>\n      <td>Aldous Huxley</td>\n      <td>1958.0</td>\n      <td>Brave New World Revisited</td>\n      <td>...</td>\n      <td>11073</td>\n      <td>12286</td>\n      <td>714</td>\n      <td>231</td>\n      <td>691</td>\n      <td>2765</td>\n      <td>4567</td>\n      <td>4032</td>\n      <td>https://images.gr-assets.com/books/1410136964m...</td>\n      <td>https://images.gr-assets.com/books/1410136964s...</td>\n    </tr>\n  </tbody>\n</table>\n<p>10 rows × 23 columns</p>\n</div>"
     },
     "metadata": {},
     "execution_count": 29
    }
   ],
   "source": [
    "books[books.book_id.isin(nbm)]"
   ]
  },
  {
   "cell_type": "code",
   "execution_count": 34,
   "metadata": {},
   "outputs": [
    {
     "output_type": "execute_result",
     "data": {
      "text/plain": [
       "     book_id  goodreads_book_id  best_book_id  work_id  books_count      isbn  \\\n",
       "208      209              23807         23807    22533          187  99446782   \n",
       "\n",
       "           isbn13        authors  original_publication_year  \\\n",
       "208  9.780099e+12  Thomas Harris                     1988.0   \n",
       "\n",
       "               original_title  ... ratings_count work_ratings_count  \\\n",
       "208  The Silence of the Lambs  ...        351107             366112   \n",
       "\n",
       "     work_text_reviews_count  ratings_1  ratings_2  ratings_3  ratings_4  \\\n",
       "208                     3866      10268      12845      55427     123652   \n",
       "\n",
       "     ratings_5                                          image_url  \\\n",
       "208     163920  https://images.gr-assets.com/books/1390426249m...   \n",
       "\n",
       "                                       small_image_url  \n",
       "208  https://images.gr-assets.com/books/1390426249s...  \n",
       "\n",
       "[1 rows x 23 columns]"
      ],
      "text/html": "<div>\n<style scoped>\n    .dataframe tbody tr th:only-of-type {\n        vertical-align: middle;\n    }\n\n    .dataframe tbody tr th {\n        vertical-align: top;\n    }\n\n    .dataframe thead th {\n        text-align: right;\n    }\n</style>\n<table border=\"1\" class=\"dataframe\">\n  <thead>\n    <tr style=\"text-align: right;\">\n      <th></th>\n      <th>book_id</th>\n      <th>goodreads_book_id</th>\n      <th>best_book_id</th>\n      <th>work_id</th>\n      <th>books_count</th>\n      <th>isbn</th>\n      <th>isbn13</th>\n      <th>authors</th>\n      <th>original_publication_year</th>\n      <th>original_title</th>\n      <th>...</th>\n      <th>ratings_count</th>\n      <th>work_ratings_count</th>\n      <th>work_text_reviews_count</th>\n      <th>ratings_1</th>\n      <th>ratings_2</th>\n      <th>ratings_3</th>\n      <th>ratings_4</th>\n      <th>ratings_5</th>\n      <th>image_url</th>\n      <th>small_image_url</th>\n    </tr>\n  </thead>\n  <tbody>\n    <tr>\n      <th>208</th>\n      <td>209</td>\n      <td>23807</td>\n      <td>23807</td>\n      <td>22533</td>\n      <td>187</td>\n      <td>99446782</td>\n      <td>9.780099e+12</td>\n      <td>Thomas Harris</td>\n      <td>1988.0</td>\n      <td>The Silence of the Lambs</td>\n      <td>...</td>\n      <td>351107</td>\n      <td>366112</td>\n      <td>3866</td>\n      <td>10268</td>\n      <td>12845</td>\n      <td>55427</td>\n      <td>123652</td>\n      <td>163920</td>\n      <td>https://images.gr-assets.com/books/1390426249m...</td>\n      <td>https://images.gr-assets.com/books/1390426249s...</td>\n    </tr>\n  </tbody>\n</table>\n<p>1 rows × 23 columns</p>\n</div>"
     },
     "metadata": {},
     "execution_count": 34
    }
   ],
   "source": [
    "books[books.original_title.str.find('The Silence of the Lambs')>=0].head(2)"
   ]
  },
  {
   "cell_type": "code",
   "execution_count": 36,
   "metadata": {},
   "outputs": [
    {
     "output_type": "execute_result",
     "data": {
      "text/plain": [
       "208     The Silence of the Lambs\n",
       "273                The Godfather\n",
       "430                   Red Dragon\n",
       "525       Darkly Dreaming Dexter\n",
       "767               Shutter Island\n",
       "1484            The Black Dahlia\n",
       "1801                    Hannibal\n",
       "3405              The Dante Club\n",
       "4421             Hannibal Rising\n",
       "5312               A Simple Plan\n",
       "Name: original_title, dtype: object"
      ]
     },
     "metadata": {},
     "execution_count": 36
    }
   ],
   "source": [
    "nbm = nearest_books_nms(209,nms_idx)[0]\n",
    "books[books.book_id.isin(nbm)].original_title"
   ]
  },
  {
   "cell_type": "code",
   "execution_count": 37,
   "metadata": {},
   "outputs": [],
   "source": [
    "import pickle\n",
    "with open('item_embeddings.pickle', 'wb') as file:\n",
    "   pickle.dump(item_embeddings, file, protocol=pickle.HIGHEST_PROTOCOL)"
   ]
  },
  {
   "cell_type": "code",
   "execution_count": null,
   "metadata": {},
   "outputs": [],
   "source": []
  }
 ]
}